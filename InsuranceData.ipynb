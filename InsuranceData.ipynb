{
  "nbformat": 4,
  "nbformat_minor": 0,
  "metadata": {
    "colab": {
      "provenance": []
    },
    "kernelspec": {
      "name": "python3",
      "display_name": "Python 3"
    },
    "language_info": {
      "name": "python"
    }
  },
  "cells": [
    {
      "cell_type": "code",
      "execution_count": 13,
      "metadata": {
        "colab": {
          "base_uri": "https://localhost:8080/"
        },
        "id": "_1WfrooVjEQl",
        "outputId": "be3e2268-9d3f-4238-8b2e-d42fa681c7d2"
      },
      "outputs": [
        {
          "output_type": "stream",
          "name": "stdout",
          "text": [
            "\r0% [Working]\r            \rGet:1 https://cloud.r-project.org/bin/linux/ubuntu bionic-cran40/ InRelease [3,626 B]\n",
            "Hit:2 http://ppa.launchpad.net/c2d4u.team/c2d4u4.0+/ubuntu bionic InRelease\n",
            "Get:3 http://security.ubuntu.com/ubuntu bionic-security InRelease [88.7 kB]\n",
            "Hit:4 http://archive.ubuntu.com/ubuntu bionic InRelease\n",
            "Ign:5 https://developer.download.nvidia.com/compute/machine-learning/repos/ubuntu1804/x86_64  InRelease\n",
            "Hit:6 https://developer.download.nvidia.com/compute/cuda/repos/ubuntu1804/x86_64  InRelease\n",
            "Hit:7 https://developer.download.nvidia.com/compute/machine-learning/repos/ubuntu1804/x86_64  Release\n",
            "Get:8 http://archive.ubuntu.com/ubuntu bionic-updates InRelease [88.7 kB]\n",
            "Hit:9 http://ppa.launchpad.net/cran/libgit2/ubuntu bionic InRelease\n",
            "Hit:10 http://ppa.launchpad.net/deadsnakes/ppa/ubuntu bionic InRelease\n",
            "Get:11 http://archive.ubuntu.com/ubuntu bionic-backports InRelease [74.6 kB]\n",
            "Hit:12 http://ppa.launchpad.net/graphics-drivers/ppa/ubuntu bionic InRelease\n",
            "Get:14 http://security.ubuntu.com/ubuntu bionic-security/main amd64 Packages [2,953 kB]\n",
            "Get:15 http://archive.ubuntu.com/ubuntu bionic-updates/main amd64 Packages [3,390 kB]\n",
            "Get:16 http://security.ubuntu.com/ubuntu bionic-security/universe amd64 Packages [1,540 kB]\n",
            "Get:17 http://security.ubuntu.com/ubuntu bionic-security/restricted amd64 Packages [1,114 kB]\n",
            "Get:18 http://archive.ubuntu.com/ubuntu bionic-updates/restricted amd64 Packages [1,162 kB]\n",
            "Fetched 10.4 MB in 3s (3,185 kB/s)\n",
            "Reading package lists... Done\n"
          ]
        }
      ],
      "source": [
        "!apt-get update"
      ]
    },
    {
      "cell_type": "code",
      "source": [
        "!apt-get install openjdk-8-jdk-headless -qq > /dev/nul"
      ],
      "metadata": {
        "id": "s9QZ7ZTfjq4V"
      },
      "execution_count": 14,
      "outputs": []
    },
    {
      "cell_type": "code",
      "source": [
        "!wget -q http://archive.apache.org/dist/spark/spark-3.1.1/spark-3.1.1-bin-hadoop3.2.tgz"
      ],
      "metadata": {
        "id": "ivwApPfzjxLM"
      },
      "execution_count": 15,
      "outputs": []
    },
    {
      "cell_type": "code",
      "source": [
        "!ls"
      ],
      "metadata": {
        "colab": {
          "base_uri": "https://localhost:8080/"
        },
        "id": "M7f0O4Z2j0Kc",
        "outputId": "0e18673e-8152-4e5c-d1cf-0c7dafc53599"
      },
      "execution_count": 17,
      "outputs": [
        {
          "output_type": "stream",
          "name": "stdout",
          "text": [
            "1HFMUbUU56hvaU-6c0PsZ6ogpiatR_R4y  gdrive\tspark-3.1.1-bin-hadoop3.2\n",
            "drive\t\t\t\t   sample_data\tspark-3.1.1-bin-hadoop3.2.tgz\n"
          ]
        }
      ]
    },
    {
      "cell_type": "code",
      "source": [
        "!tar xf spark-3.1.1-bin-hadoop3.2.tgz"
      ],
      "metadata": {
        "id": "D-Jqosqvj8D7"
      },
      "execution_count": 16,
      "outputs": []
    },
    {
      "cell_type": "code",
      "source": [
        "!pip install -q findspark"
      ],
      "metadata": {
        "id": "HRZHTa61j-l0"
      },
      "execution_count": 18,
      "outputs": []
    },
    {
      "cell_type": "code",
      "source": [
        "import os\n",
        "os.environ[\"JAVA_HOME\"]= \"/usr/lib/jvm/java-8-openjdk-amd64\"\n",
        "os.environ[\"SPARK_HOME\"] = \"/content/spark-3.1.1-bin-hadoop3.2\""
      ],
      "metadata": {
        "id": "hlnI2p9ZkBT7"
      },
      "execution_count": 19,
      "outputs": []
    },
    {
      "cell_type": "code",
      "source": [
        "pwd"
      ],
      "metadata": {
        "colab": {
          "base_uri": "https://localhost:8080/",
          "height": 35
        },
        "id": "gd91g6QvkC1s",
        "outputId": "45511770-5af7-4b5d-f6d8-b9baa3004469"
      },
      "execution_count": 20,
      "outputs": [
        {
          "output_type": "execute_result",
          "data": {
            "text/plain": [
              "'/content'"
            ],
            "application/vnd.google.colaboratory.intrinsic+json": {
              "type": "string"
            }
          },
          "metadata": {},
          "execution_count": 20
        }
      ]
    },
    {
      "cell_type": "code",
      "source": [
        "import findspark\n",
        "findspark.init()\n",
        "from pyspark.sql import SparkSession\n",
        "spark = SparkSession.builder.master(\"local\").appName(\"Lab1\").getOrCreate()\n",
        "spark"
      ],
      "metadata": {
        "colab": {
          "base_uri": "https://localhost:8080/",
          "height": 219
        },
        "id": "MZ9GC3-dkFnU",
        "outputId": "eb64d8b5-4f16-49c7-d45d-950e6d43c640"
      },
      "execution_count": 21,
      "outputs": [
        {
          "output_type": "execute_result",
          "data": {
            "text/plain": [
              "<pyspark.sql.session.SparkSession at 0x7fc2143b2b10>"
            ],
            "text/html": [
              "\n",
              "            <div>\n",
              "                <p><b>SparkSession - in-memory</b></p>\n",
              "                \n",
              "        <div>\n",
              "            <p><b>SparkContext</b></p>\n",
              "\n",
              "            <p><a href=\"http://199b3603acd6:4040\">Spark UI</a></p>\n",
              "\n",
              "            <dl>\n",
              "              <dt>Version</dt>\n",
              "                <dd><code>v3.1.1</code></dd>\n",
              "              <dt>Master</dt>\n",
              "                <dd><code>local</code></dd>\n",
              "              <dt>AppName</dt>\n",
              "                <dd><code>Lab1</code></dd>\n",
              "            </dl>\n",
              "        </div>\n",
              "        \n",
              "            </div>\n",
              "        "
            ]
          },
          "metadata": {},
          "execution_count": 21
        }
      ]
    },
    {
      "cell_type": "code",
      "source": [
        "!wget -p /content/drive/MyDrive/data/insurance.csv"
      ],
      "metadata": {
        "colab": {
          "base_uri": "https://localhost:8080/"
        },
        "id": "8GqxH0tRmR6c",
        "outputId": "2a5272e8-d17b-43c1-883c-383b0e051d03"
      },
      "execution_count": 25,
      "outputs": [
        {
          "output_type": "stream",
          "name": "stdout",
          "text": [
            "/content/drive/MyDrive/data/insurance.csv: Scheme missing.\n"
          ]
        }
      ]
    },
    {
      "cell_type": "code",
      "source": [
        "!ls"
      ],
      "metadata": {
        "colab": {
          "base_uri": "https://localhost:8080/"
        },
        "id": "S5D6KD-2lg0M",
        "outputId": "68bb050f-8827-467a-9b72-7fb92ffe1edf"
      },
      "execution_count": 26,
      "outputs": [
        {
          "output_type": "stream",
          "name": "stdout",
          "text": [
            "1HFMUbUU56hvaU-6c0PsZ6ogpiatR_R4y    sample_data\n",
            "1HFMUbUU56hvaU-6c0PsZ6ogpiatR_R4y.1  spark-3.1.1-bin-hadoop3.2\n",
            "drive\t\t\t\t     spark-3.1.1-bin-hadoop3.2.tgz\n",
            "gdrive\n"
          ]
        }
      ]
    },
    {
      "cell_type": "code",
      "source": [
        "df = spark.read.csv(\"/content/drive/MyDrive/data/insurance.csv\", sep=\",\", header=True)"
      ],
      "metadata": {
        "id": "jPLfbyD3livM"
      },
      "execution_count": 31,
      "outputs": []
    },
    {
      "cell_type": "code",
      "source": [
        "df.show(5, truncate = False)"
      ],
      "metadata": {
        "colab": {
          "base_uri": "https://localhost:8080/"
        },
        "id": "z81aPFIToFKB",
        "outputId": "66c59ebb-b449-4d10-e370-97bb02cbf9f3"
      },
      "execution_count": 32,
      "outputs": [
        {
          "output_type": "stream",
          "name": "stdout",
          "text": [
            "+---+------+------+--------+------+---------+-----------+\n",
            "|age|sex   |bmi   |children|smoker|region   |charges    |\n",
            "+---+------+------+--------+------+---------+-----------+\n",
            "|19 |female|27.9  |0       |yes   |southwest|16884.924  |\n",
            "|18 |male  |33.77 |1       |no    |southeast|1725.5523  |\n",
            "|28 |male  |33    |3       |no    |southeast|4449.462   |\n",
            "|33 |male  |22.705|0       |no    |northwest|21984.47061|\n",
            "|32 |male  |28.88 |0       |no    |northwest|3866.8552  |\n",
            "+---+------+------+--------+------+---------+-----------+\n",
            "only showing top 5 rows\n",
            "\n"
          ]
        }
      ]
    },
    {
      "cell_type": "code",
      "source": [
        "df.columns"
      ],
      "metadata": {
        "colab": {
          "base_uri": "https://localhost:8080/"
        },
        "id": "LJshVNtuoNHj",
        "outputId": "c214ef47-b15b-41b1-94ee-0cd5560ee89a"
      },
      "execution_count": 33,
      "outputs": [
        {
          "output_type": "execute_result",
          "data": {
            "text/plain": [
              "['age', 'sex', 'bmi', 'children', 'smoker', 'region', 'charges']"
            ]
          },
          "metadata": {},
          "execution_count": 33
        }
      ]
    },
    {
      "cell_type": "code",
      "source": [
        "df.dtypes"
      ],
      "metadata": {
        "colab": {
          "base_uri": "https://localhost:8080/"
        },
        "id": "E7CIllo-oPir",
        "outputId": "c8125ad5-771b-4c24-fc2d-61a8277b4ae0"
      },
      "execution_count": 34,
      "outputs": [
        {
          "output_type": "execute_result",
          "data": {
            "text/plain": [
              "[('age', 'string'),\n",
              " ('sex', 'string'),\n",
              " ('bmi', 'string'),\n",
              " ('children', 'string'),\n",
              " ('smoker', 'string'),\n",
              " ('region', 'string'),\n",
              " ('charges', 'string')]"
            ]
          },
          "metadata": {},
          "execution_count": 34
        }
      ]
    },
    {
      "cell_type": "code",
      "source": [
        "from traitlets.traitlets import TraitError\n",
        "df = spark.read.csv(\"/content/drive/MyDrive/data/insurance.csv\", sep=\",\",  header=True, inferSchema=True)"
      ],
      "metadata": {
        "id": "9oK5wE6FoRyV"
      },
      "execution_count": 36,
      "outputs": []
    },
    {
      "cell_type": "code",
      "source": [
        "df.dtypes"
      ],
      "metadata": {
        "colab": {
          "base_uri": "https://localhost:8080/"
        },
        "id": "s_xFIntloaWL",
        "outputId": "c1e5cb8a-9929-44fb-e169-cbb31fa7a330"
      },
      "execution_count": 37,
      "outputs": [
        {
          "output_type": "execute_result",
          "data": {
            "text/plain": [
              "[('age', 'int'),\n",
              " ('sex', 'string'),\n",
              " ('bmi', 'double'),\n",
              " ('children', 'int'),\n",
              " ('smoker', 'string'),\n",
              " ('region', 'string'),\n",
              " ('charges', 'double')]"
            ]
          },
          "metadata": {},
          "execution_count": 37
        }
      ]
    },
    {
      "cell_type": "code",
      "source": [
        "df.printSchema()"
      ],
      "metadata": {
        "colab": {
          "base_uri": "https://localhost:8080/"
        },
        "id": "hN66bnJWobwz",
        "outputId": "bc6f851a-6753-4032-8f9a-ad9472ed0fda"
      },
      "execution_count": 38,
      "outputs": [
        {
          "output_type": "stream",
          "name": "stdout",
          "text": [
            "root\n",
            " |-- age: integer (nullable = true)\n",
            " |-- sex: string (nullable = true)\n",
            " |-- bmi: double (nullable = true)\n",
            " |-- children: integer (nullable = true)\n",
            " |-- smoker: string (nullable = true)\n",
            " |-- region: string (nullable = true)\n",
            " |-- charges: double (nullable = true)\n",
            "\n"
          ]
        }
      ]
    },
    {
      "cell_type": "code",
      "source": [
        "from pyspark.sql.types import *\n",
        "\n",
        "lables = [\n",
        "    ('age', IntegerType()),\n",
        "    ('sex', StringType()),\n",
        "    ('bmi', DoubleType()),\n",
        "    ('children', IntegerType()),\n",
        "    ('smoker', StringType()),\n",
        "    ('region', StringType()),\n",
        "    ('charges', DoubleType())\n",
        "    \n",
        "]"
      ],
      "metadata": {
        "id": "AnXlSBnUofwr"
      },
      "execution_count": 43,
      "outputs": []
    },
    {
      "cell_type": "code",
      "source": [
        "schema = StructType([StructField(x[0], x[1]) for x in lables])\n",
        "schema"
      ],
      "metadata": {
        "colab": {
          "base_uri": "https://localhost:8080/"
        },
        "id": "LaHyyAA0pi5s",
        "outputId": "fe0bee0e-e10b-45d1-a92a-924096e1282f"
      },
      "execution_count": 44,
      "outputs": [
        {
          "output_type": "execute_result",
          "data": {
            "text/plain": [
              "StructType(List(StructField(age,IntegerType,true),StructField(sex,StringType,true),StructField(bmi,DoubleType,true),StructField(children,IntegerType,true),StructField(smoker,StringType,true),StructField(region,StringType,true),StructField(charges,DoubleType,true)))"
            ]
          },
          "metadata": {},
          "execution_count": 44
        }
      ]
    },
    {
      "cell_type": "code",
      "source": [
        "df = spark.read.csv(\"/content/drive/MyDrive/data/insurance.csv\", header=True,sep=\",\",  schema = schema, inferSchema = True)\n",
        "df.show(5)"
      ],
      "metadata": {
        "colab": {
          "base_uri": "https://localhost:8080/"
        },
        "id": "g4lA0W0-pmbL",
        "outputId": "4b3b9dde-764e-4df7-ed66-f91fdaa4955c"
      },
      "execution_count": 46,
      "outputs": [
        {
          "output_type": "stream",
          "name": "stdout",
          "text": [
            "+---+------+------+--------+------+---------+-----------+\n",
            "|age|   sex|   bmi|children|smoker|   region|    charges|\n",
            "+---+------+------+--------+------+---------+-----------+\n",
            "| 19|female|  27.9|       0|   yes|southwest|  16884.924|\n",
            "| 18|  male| 33.77|       1|    no|southeast|  1725.5523|\n",
            "| 28|  male|  33.0|       3|    no|southeast|   4449.462|\n",
            "| 33|  male|22.705|       0|    no|northwest|21984.47061|\n",
            "| 32|  male| 28.88|       0|    no|northwest|  3866.8552|\n",
            "+---+------+------+--------+------+---------+-----------+\n",
            "only showing top 5 rows\n",
            "\n"
          ]
        }
      ]
    },
    {
      "cell_type": "code",
      "source": [
        "df.show()"
      ],
      "metadata": {
        "colab": {
          "base_uri": "https://localhost:8080/"
        },
        "id": "u3oRPOOFqZNs",
        "outputId": "d010af67-9543-4c96-df23-2527cf6dc4bf"
      },
      "execution_count": 47,
      "outputs": [
        {
          "output_type": "stream",
          "name": "stdout",
          "text": [
            "+---+------+------+--------+------+---------+-----------+\n",
            "|age|   sex|   bmi|children|smoker|   region|    charges|\n",
            "+---+------+------+--------+------+---------+-----------+\n",
            "| 19|female|  27.9|       0|   yes|southwest|  16884.924|\n",
            "| 18|  male| 33.77|       1|    no|southeast|  1725.5523|\n",
            "| 28|  male|  33.0|       3|    no|southeast|   4449.462|\n",
            "| 33|  male|22.705|       0|    no|northwest|21984.47061|\n",
            "| 32|  male| 28.88|       0|    no|northwest|  3866.8552|\n",
            "| 31|female| 25.74|       0|    no|southeast|  3756.6216|\n",
            "| 46|female| 33.44|       1|    no|southeast|  8240.5896|\n",
            "| 37|female| 27.74|       3|    no|northwest|  7281.5056|\n",
            "| 37|  male| 29.83|       2|    no|northeast|  6406.4107|\n",
            "| 60|female| 25.84|       0|    no|northwest|28923.13692|\n",
            "| 25|  male| 26.22|       0|    no|northeast|  2721.3208|\n",
            "| 62|female| 26.29|       0|   yes|southeast| 27808.7251|\n",
            "| 23|  male|  34.4|       0|    no|southwest|   1826.843|\n",
            "| 56|female| 39.82|       0|    no|southeast| 11090.7178|\n",
            "| 27|  male| 42.13|       0|   yes|southeast| 39611.7577|\n",
            "| 19|  male|  24.6|       1|    no|southwest|   1837.237|\n",
            "| 52|female| 30.78|       1|    no|northeast| 10797.3362|\n",
            "| 23|  male|23.845|       0|    no|northeast| 2395.17155|\n",
            "| 56|  male|  40.3|       0|    no|southwest|  10602.385|\n",
            "| 30|  male|  35.3|       0|   yes|southwest|  36837.467|\n",
            "+---+------+------+--------+------+---------+-----------+\n",
            "only showing top 20 rows\n",
            "\n"
          ]
        }
      ]
    },
    {
      "cell_type": "code",
      "source": [
        "df.select(df['age']).show(truncate=False)"
      ],
      "metadata": {
        "colab": {
          "base_uri": "https://localhost:8080/"
        },
        "id": "Y4uOzH4GqdsE",
        "outputId": "92993a33-bcb1-4e15-f6b6-e263530869f8"
      },
      "execution_count": 48,
      "outputs": [
        {
          "output_type": "stream",
          "name": "stdout",
          "text": [
            "+---+\n",
            "|age|\n",
            "+---+\n",
            "|19 |\n",
            "|18 |\n",
            "|28 |\n",
            "|33 |\n",
            "|32 |\n",
            "|31 |\n",
            "|46 |\n",
            "|37 |\n",
            "|37 |\n",
            "|60 |\n",
            "|25 |\n",
            "|62 |\n",
            "|23 |\n",
            "|56 |\n",
            "|27 |\n",
            "|19 |\n",
            "|52 |\n",
            "|23 |\n",
            "|56 |\n",
            "|30 |\n",
            "+---+\n",
            "only showing top 20 rows\n",
            "\n"
          ]
        }
      ]
    },
    {
      "cell_type": "code",
      "source": [
        "df.select(df.age, df.sex, df.bmi).show(truncate=False)"
      ],
      "metadata": {
        "colab": {
          "base_uri": "https://localhost:8080/"
        },
        "id": "hMIDZHMoqgIr",
        "outputId": "145cb8c8-1e89-4128-e9c9-0ba23e92a403"
      },
      "execution_count": 49,
      "outputs": [
        {
          "output_type": "stream",
          "name": "stdout",
          "text": [
            "+---+------+------+\n",
            "|age|sex   |bmi   |\n",
            "+---+------+------+\n",
            "|19 |female|27.9  |\n",
            "|18 |male  |33.77 |\n",
            "|28 |male  |33.0  |\n",
            "|33 |male  |22.705|\n",
            "|32 |male  |28.88 |\n",
            "|31 |female|25.74 |\n",
            "|46 |female|33.44 |\n",
            "|37 |female|27.74 |\n",
            "|37 |male  |29.83 |\n",
            "|60 |female|25.84 |\n",
            "|25 |male  |26.22 |\n",
            "|62 |female|26.29 |\n",
            "|23 |male  |34.4  |\n",
            "|56 |female|39.82 |\n",
            "|27 |male  |42.13 |\n",
            "|19 |male  |24.6  |\n",
            "|52 |female|30.78 |\n",
            "|23 |male  |23.845|\n",
            "|56 |male  |40.3  |\n",
            "|30 |male  |35.3  |\n",
            "+---+------+------+\n",
            "only showing top 20 rows\n",
            "\n"
          ]
        }
      ]
    },
    {
      "cell_type": "code",
      "source": [
        "from pyspark.sql.functions import col\n",
        "df.select(col('age')).show(truncate=False)"
      ],
      "metadata": {
        "colab": {
          "base_uri": "https://localhost:8080/"
        },
        "id": "d2MWExJyqpE7",
        "outputId": "62b70bf2-a989-4c82-9517-c7e53d54c749"
      },
      "execution_count": 50,
      "outputs": [
        {
          "output_type": "stream",
          "name": "stdout",
          "text": [
            "+---+\n",
            "|age|\n",
            "+---+\n",
            "|19 |\n",
            "|18 |\n",
            "|28 |\n",
            "|33 |\n",
            "|32 |\n",
            "|31 |\n",
            "|46 |\n",
            "|37 |\n",
            "|37 |\n",
            "|60 |\n",
            "|25 |\n",
            "|62 |\n",
            "|23 |\n",
            "|56 |\n",
            "|27 |\n",
            "|19 |\n",
            "|52 |\n",
            "|23 |\n",
            "|56 |\n",
            "|30 |\n",
            "+---+\n",
            "only showing top 20 rows\n",
            "\n"
          ]
        }
      ]
    },
    {
      "cell_type": "code",
      "source": [
        "df.select(df.age).show(truncate=False)"
      ],
      "metadata": {
        "colab": {
          "base_uri": "https://localhost:8080/"
        },
        "id": "YDFxKcJcqtGj",
        "outputId": "0458b42d-5984-4686-c476-1fa58db5634a"
      },
      "execution_count": 51,
      "outputs": [
        {
          "output_type": "stream",
          "name": "stdout",
          "text": [
            "+---+\n",
            "|age|\n",
            "+---+\n",
            "|19 |\n",
            "|18 |\n",
            "|28 |\n",
            "|33 |\n",
            "|32 |\n",
            "|31 |\n",
            "|46 |\n",
            "|37 |\n",
            "|37 |\n",
            "|60 |\n",
            "|25 |\n",
            "|62 |\n",
            "|23 |\n",
            "|56 |\n",
            "|27 |\n",
            "|19 |\n",
            "|52 |\n",
            "|23 |\n",
            "|56 |\n",
            "|30 |\n",
            "+---+\n",
            "only showing top 20 rows\n",
            "\n"
          ]
        }
      ]
    },
    {
      "cell_type": "code",
      "source": [
        "from pyspark.sql.functions import lit,concat\n",
        "df=df.withColumn('first_name',lit(\"new\")).withColumn('second_column',concat(col('region'), lit(' '), col('bmi')))\n",
        "df.show()"
      ],
      "metadata": {
        "colab": {
          "base_uri": "https://localhost:8080/"
        },
        "id": "bEYH4B27qw-T",
        "outputId": "0383391b-9ed7-4ad1-a89c-b9c77e4a9401"
      },
      "execution_count": 55,
      "outputs": [
        {
          "output_type": "stream",
          "name": "stdout",
          "text": [
            "+---+------+------+--------+------+---------+-----------+----------+----------------+\n",
            "|age|   sex|   bmi|children|smoker|   region|    charges|first_name|   second_column|\n",
            "+---+------+------+--------+------+---------+-----------+----------+----------------+\n",
            "| 19|female|  27.9|       0|   yes|southwest|  16884.924|       new|  southwest 27.9|\n",
            "| 18|  male| 33.77|       1|    no|southeast|  1725.5523|       new| southeast 33.77|\n",
            "| 28|  male|  33.0|       3|    no|southeast|   4449.462|       new|  southeast 33.0|\n",
            "| 33|  male|22.705|       0|    no|northwest|21984.47061|       new|northwest 22.705|\n",
            "| 32|  male| 28.88|       0|    no|northwest|  3866.8552|       new| northwest 28.88|\n",
            "| 31|female| 25.74|       0|    no|southeast|  3756.6216|       new| southeast 25.74|\n",
            "| 46|female| 33.44|       1|    no|southeast|  8240.5896|       new| southeast 33.44|\n",
            "| 37|female| 27.74|       3|    no|northwest|  7281.5056|       new| northwest 27.74|\n",
            "| 37|  male| 29.83|       2|    no|northeast|  6406.4107|       new| northeast 29.83|\n",
            "| 60|female| 25.84|       0|    no|northwest|28923.13692|       new| northwest 25.84|\n",
            "| 25|  male| 26.22|       0|    no|northeast|  2721.3208|       new| northeast 26.22|\n",
            "| 62|female| 26.29|       0|   yes|southeast| 27808.7251|       new| southeast 26.29|\n",
            "| 23|  male|  34.4|       0|    no|southwest|   1826.843|       new|  southwest 34.4|\n",
            "| 56|female| 39.82|       0|    no|southeast| 11090.7178|       new| southeast 39.82|\n",
            "| 27|  male| 42.13|       0|   yes|southeast| 39611.7577|       new| southeast 42.13|\n",
            "| 19|  male|  24.6|       1|    no|southwest|   1837.237|       new|  southwest 24.6|\n",
            "| 52|female| 30.78|       1|    no|northeast| 10797.3362|       new| northeast 30.78|\n",
            "| 23|  male|23.845|       0|    no|northeast| 2395.17155|       new|northeast 23.845|\n",
            "| 56|  male|  40.3|       0|    no|southwest|  10602.385|       new|  southwest 40.3|\n",
            "| 30|  male|  35.3|       0|   yes|southwest|  36837.467|       new|  southwest 35.3|\n",
            "+---+------+------+--------+------+---------+-----------+----------+----------------+\n",
            "only showing top 20 rows\n",
            "\n"
          ]
        }
      ]
    },
    {
      "cell_type": "code",
      "source": [
        "df=df.withColumnRenamed('second_column','Region||BMI')\n",
        "df.show()"
      ],
      "metadata": {
        "colab": {
          "base_uri": "https://localhost:8080/"
        },
        "id": "qTYkkujJrcK0",
        "outputId": "da2030c0-de72-43f4-e5a3-d841abeff170"
      },
      "execution_count": 56,
      "outputs": [
        {
          "output_type": "stream",
          "name": "stdout",
          "text": [
            "+---+------+------+--------+------+---------+-----------+----------+----------------+\n",
            "|age|   sex|   bmi|children|smoker|   region|    charges|first_name|     Region||BMI|\n",
            "+---+------+------+--------+------+---------+-----------+----------+----------------+\n",
            "| 19|female|  27.9|       0|   yes|southwest|  16884.924|       new|  southwest 27.9|\n",
            "| 18|  male| 33.77|       1|    no|southeast|  1725.5523|       new| southeast 33.77|\n",
            "| 28|  male|  33.0|       3|    no|southeast|   4449.462|       new|  southeast 33.0|\n",
            "| 33|  male|22.705|       0|    no|northwest|21984.47061|       new|northwest 22.705|\n",
            "| 32|  male| 28.88|       0|    no|northwest|  3866.8552|       new| northwest 28.88|\n",
            "| 31|female| 25.74|       0|    no|southeast|  3756.6216|       new| southeast 25.74|\n",
            "| 46|female| 33.44|       1|    no|southeast|  8240.5896|       new| southeast 33.44|\n",
            "| 37|female| 27.74|       3|    no|northwest|  7281.5056|       new| northwest 27.74|\n",
            "| 37|  male| 29.83|       2|    no|northeast|  6406.4107|       new| northeast 29.83|\n",
            "| 60|female| 25.84|       0|    no|northwest|28923.13692|       new| northwest 25.84|\n",
            "| 25|  male| 26.22|       0|    no|northeast|  2721.3208|       new| northeast 26.22|\n",
            "| 62|female| 26.29|       0|   yes|southeast| 27808.7251|       new| southeast 26.29|\n",
            "| 23|  male|  34.4|       0|    no|southwest|   1826.843|       new|  southwest 34.4|\n",
            "| 56|female| 39.82|       0|    no|southeast| 11090.7178|       new| southeast 39.82|\n",
            "| 27|  male| 42.13|       0|   yes|southeast| 39611.7577|       new| southeast 42.13|\n",
            "| 19|  male|  24.6|       1|    no|southwest|   1837.237|       new|  southwest 24.6|\n",
            "| 52|female| 30.78|       1|    no|northeast| 10797.3362|       new| northeast 30.78|\n",
            "| 23|  male|23.845|       0|    no|northeast| 2395.17155|       new|northeast 23.845|\n",
            "| 56|  male|  40.3|       0|    no|southwest|  10602.385|       new|  southwest 40.3|\n",
            "| 30|  male|  35.3|       0|   yes|southwest|  36837.467|       new|  southwest 35.3|\n",
            "+---+------+------+--------+------+---------+-----------+----------+----------------+\n",
            "only showing top 20 rows\n",
            "\n"
          ]
        }
      ]
    },
    {
      "cell_type": "code",
      "source": [
        "df.collect()"
      ],
      "metadata": {
        "colab": {
          "base_uri": "https://localhost:8080/"
        },
        "id": "J6vbJybJrmvb",
        "outputId": "66861672-75ca-4e7d-c6c6-3f976484c179"
      },
      "execution_count": 57,
      "outputs": [
        {
          "output_type": "execute_result",
          "data": {
            "text/plain": [
              "[Row(age=19, sex='female', bmi=27.9, children=0, smoker='yes', region='southwest', charges=16884.924, first_name='new', Region||BMI='southwest 27.9'),\n",
              " Row(age=18, sex='male', bmi=33.77, children=1, smoker='no', region='southeast', charges=1725.5523, first_name='new', Region||BMI='southeast 33.77'),\n",
              " Row(age=28, sex='male', bmi=33.0, children=3, smoker='no', region='southeast', charges=4449.462, first_name='new', Region||BMI='southeast 33.0'),\n",
              " Row(age=33, sex='male', bmi=22.705, children=0, smoker='no', region='northwest', charges=21984.47061, first_name='new', Region||BMI='northwest 22.705'),\n",
              " Row(age=32, sex='male', bmi=28.88, children=0, smoker='no', region='northwest', charges=3866.8552, first_name='new', Region||BMI='northwest 28.88'),\n",
              " Row(age=31, sex='female', bmi=25.74, children=0, smoker='no', region='southeast', charges=3756.6216, first_name='new', Region||BMI='southeast 25.74'),\n",
              " Row(age=46, sex='female', bmi=33.44, children=1, smoker='no', region='southeast', charges=8240.5896, first_name='new', Region||BMI='southeast 33.44'),\n",
              " Row(age=37, sex='female', bmi=27.74, children=3, smoker='no', region='northwest', charges=7281.5056, first_name='new', Region||BMI='northwest 27.74'),\n",
              " Row(age=37, sex='male', bmi=29.83, children=2, smoker='no', region='northeast', charges=6406.4107, first_name='new', Region||BMI='northeast 29.83'),\n",
              " Row(age=60, sex='female', bmi=25.84, children=0, smoker='no', region='northwest', charges=28923.13692, first_name='new', Region||BMI='northwest 25.84'),\n",
              " Row(age=25, sex='male', bmi=26.22, children=0, smoker='no', region='northeast', charges=2721.3208, first_name='new', Region||BMI='northeast 26.22'),\n",
              " Row(age=62, sex='female', bmi=26.29, children=0, smoker='yes', region='southeast', charges=27808.7251, first_name='new', Region||BMI='southeast 26.29'),\n",
              " Row(age=23, sex='male', bmi=34.4, children=0, smoker='no', region='southwest', charges=1826.843, first_name='new', Region||BMI='southwest 34.4'),\n",
              " Row(age=56, sex='female', bmi=39.82, children=0, smoker='no', region='southeast', charges=11090.7178, first_name='new', Region||BMI='southeast 39.82'),\n",
              " Row(age=27, sex='male', bmi=42.13, children=0, smoker='yes', region='southeast', charges=39611.7577, first_name='new', Region||BMI='southeast 42.13'),\n",
              " Row(age=19, sex='male', bmi=24.6, children=1, smoker='no', region='southwest', charges=1837.237, first_name='new', Region||BMI='southwest 24.6'),\n",
              " Row(age=52, sex='female', bmi=30.78, children=1, smoker='no', region='northeast', charges=10797.3362, first_name='new', Region||BMI='northeast 30.78'),\n",
              " Row(age=23, sex='male', bmi=23.845, children=0, smoker='no', region='northeast', charges=2395.17155, first_name='new', Region||BMI='northeast 23.845'),\n",
              " Row(age=56, sex='male', bmi=40.3, children=0, smoker='no', region='southwest', charges=10602.385, first_name='new', Region||BMI='southwest 40.3'),\n",
              " Row(age=30, sex='male', bmi=35.3, children=0, smoker='yes', region='southwest', charges=36837.467, first_name='new', Region||BMI='southwest 35.3'),\n",
              " Row(age=60, sex='female', bmi=36.005, children=0, smoker='no', region='northeast', charges=13228.84695, first_name='new', Region||BMI='northeast 36.005'),\n",
              " Row(age=30, sex='female', bmi=32.4, children=1, smoker='no', region='southwest', charges=4149.736, first_name='new', Region||BMI='southwest 32.4'),\n",
              " Row(age=18, sex='male', bmi=34.1, children=0, smoker='no', region='southeast', charges=1137.011, first_name='new', Region||BMI='southeast 34.1'),\n",
              " Row(age=34, sex='female', bmi=31.92, children=1, smoker='yes', region='northeast', charges=37701.8768, first_name='new', Region||BMI='northeast 31.92'),\n",
              " Row(age=37, sex='male', bmi=28.025, children=2, smoker='no', region='northwest', charges=6203.90175, first_name='new', Region||BMI='northwest 28.025'),\n",
              " Row(age=59, sex='female', bmi=27.72, children=3, smoker='no', region='southeast', charges=14001.1338, first_name='new', Region||BMI='southeast 27.72'),\n",
              " Row(age=63, sex='female', bmi=23.085, children=0, smoker='no', region='northeast', charges=14451.83515, first_name='new', Region||BMI='northeast 23.085'),\n",
              " Row(age=55, sex='female', bmi=32.775, children=2, smoker='no', region='northwest', charges=12268.63225, first_name='new', Region||BMI='northwest 32.775'),\n",
              " Row(age=23, sex='male', bmi=17.385, children=1, smoker='no', region='northwest', charges=2775.19215, first_name='new', Region||BMI='northwest 17.385'),\n",
              " Row(age=31, sex='male', bmi=36.3, children=2, smoker='yes', region='southwest', charges=38711.0, first_name='new', Region||BMI='southwest 36.3'),\n",
              " Row(age=22, sex='male', bmi=35.6, children=0, smoker='yes', region='southwest', charges=35585.576, first_name='new', Region||BMI='southwest 35.6'),\n",
              " Row(age=18, sex='female', bmi=26.315, children=0, smoker='no', region='northeast', charges=2198.18985, first_name='new', Region||BMI='northeast 26.315'),\n",
              " Row(age=19, sex='female', bmi=28.6, children=5, smoker='no', region='southwest', charges=4687.797, first_name='new', Region||BMI='southwest 28.6'),\n",
              " Row(age=63, sex='male', bmi=28.31, children=0, smoker='no', region='northwest', charges=13770.0979, first_name='new', Region||BMI='northwest 28.31'),\n",
              " Row(age=28, sex='male', bmi=36.4, children=1, smoker='yes', region='southwest', charges=51194.55914, first_name='new', Region||BMI='southwest 36.4'),\n",
              " Row(age=19, sex='male', bmi=20.425, children=0, smoker='no', region='northwest', charges=1625.43375, first_name='new', Region||BMI='northwest 20.425'),\n",
              " Row(age=62, sex='female', bmi=32.965, children=3, smoker='no', region='northwest', charges=15612.19335, first_name='new', Region||BMI='northwest 32.965'),\n",
              " Row(age=26, sex='male', bmi=20.8, children=0, smoker='no', region='southwest', charges=2302.3, first_name='new', Region||BMI='southwest 20.8'),\n",
              " Row(age=35, sex='male', bmi=36.67, children=1, smoker='yes', region='northeast', charges=39774.2763, first_name='new', Region||BMI='northeast 36.67'),\n",
              " Row(age=60, sex='male', bmi=39.9, children=0, smoker='yes', region='southwest', charges=48173.361, first_name='new', Region||BMI='southwest 39.9'),\n",
              " Row(age=24, sex='female', bmi=26.6, children=0, smoker='no', region='northeast', charges=3046.062, first_name='new', Region||BMI='northeast 26.6'),\n",
              " Row(age=31, sex='female', bmi=36.63, children=2, smoker='no', region='southeast', charges=4949.7587, first_name='new', Region||BMI='southeast 36.63'),\n",
              " Row(age=41, sex='male', bmi=21.78, children=1, smoker='no', region='southeast', charges=6272.4772, first_name='new', Region||BMI='southeast 21.78'),\n",
              " Row(age=37, sex='female', bmi=30.8, children=2, smoker='no', region='southeast', charges=6313.759, first_name='new', Region||BMI='southeast 30.8'),\n",
              " Row(age=38, sex='male', bmi=37.05, children=1, smoker='no', region='northeast', charges=6079.6715, first_name='new', Region||BMI='northeast 37.05'),\n",
              " Row(age=55, sex='male', bmi=37.3, children=0, smoker='no', region='southwest', charges=20630.28351, first_name='new', Region||BMI='southwest 37.3'),\n",
              " Row(age=18, sex='female', bmi=38.665, children=2, smoker='no', region='northeast', charges=3393.35635, first_name='new', Region||BMI='northeast 38.665'),\n",
              " Row(age=28, sex='female', bmi=34.77, children=0, smoker='no', region='northwest', charges=3556.9223, first_name='new', Region||BMI='northwest 34.77'),\n",
              " Row(age=60, sex='female', bmi=24.53, children=0, smoker='no', region='southeast', charges=12629.8967, first_name='new', Region||BMI='southeast 24.53'),\n",
              " Row(age=36, sex='male', bmi=35.2, children=1, smoker='yes', region='southeast', charges=38709.176, first_name='new', Region||BMI='southeast 35.2'),\n",
              " Row(age=18, sex='female', bmi=35.625, children=0, smoker='no', region='northeast', charges=2211.13075, first_name='new', Region||BMI='northeast 35.625'),\n",
              " Row(age=21, sex='female', bmi=33.63, children=2, smoker='no', region='northwest', charges=3579.8287, first_name='new', Region||BMI='northwest 33.63'),\n",
              " Row(age=48, sex='male', bmi=28.0, children=1, smoker='yes', region='southwest', charges=23568.272, first_name='new', Region||BMI='southwest 28.0'),\n",
              " Row(age=36, sex='male', bmi=34.43, children=0, smoker='yes', region='southeast', charges=37742.5757, first_name='new', Region||BMI='southeast 34.43'),\n",
              " Row(age=40, sex='female', bmi=28.69, children=3, smoker='no', region='northwest', charges=8059.6791, first_name='new', Region||BMI='northwest 28.69'),\n",
              " Row(age=58, sex='male', bmi=36.955, children=2, smoker='yes', region='northwest', charges=47496.49445, first_name='new', Region||BMI='northwest 36.955'),\n",
              " Row(age=58, sex='female', bmi=31.825, children=2, smoker='no', region='northeast', charges=13607.36875, first_name='new', Region||BMI='northeast 31.825'),\n",
              " Row(age=18, sex='male', bmi=31.68, children=2, smoker='yes', region='southeast', charges=34303.1672, first_name='new', Region||BMI='southeast 31.68'),\n",
              " Row(age=53, sex='female', bmi=22.88, children=1, smoker='yes', region='southeast', charges=23244.7902, first_name='new', Region||BMI='southeast 22.88'),\n",
              " Row(age=34, sex='female', bmi=37.335, children=2, smoker='no', region='northwest', charges=5989.52365, first_name='new', Region||BMI='northwest 37.335'),\n",
              " Row(age=43, sex='male', bmi=27.36, children=3, smoker='no', region='northeast', charges=8606.2174, first_name='new', Region||BMI='northeast 27.36'),\n",
              " Row(age=25, sex='male', bmi=33.66, children=4, smoker='no', region='southeast', charges=4504.6624, first_name='new', Region||BMI='southeast 33.66'),\n",
              " Row(age=64, sex='male', bmi=24.7, children=1, smoker='no', region='northwest', charges=30166.61817, first_name='new', Region||BMI='northwest 24.7'),\n",
              " Row(age=28, sex='female', bmi=25.935, children=1, smoker='no', region='northwest', charges=4133.64165, first_name='new', Region||BMI='northwest 25.935'),\n",
              " Row(age=20, sex='female', bmi=22.42, children=0, smoker='yes', region='northwest', charges=14711.7438, first_name='new', Region||BMI='northwest 22.42'),\n",
              " Row(age=19, sex='female', bmi=28.9, children=0, smoker='no', region='southwest', charges=1743.214, first_name='new', Region||BMI='southwest 28.9'),\n",
              " Row(age=61, sex='female', bmi=39.1, children=2, smoker='no', region='southwest', charges=14235.072, first_name='new', Region||BMI='southwest 39.1'),\n",
              " Row(age=40, sex='male', bmi=26.315, children=1, smoker='no', region='northwest', charges=6389.37785, first_name='new', Region||BMI='northwest 26.315'),\n",
              " Row(age=40, sex='female', bmi=36.19, children=0, smoker='no', region='southeast', charges=5920.1041, first_name='new', Region||BMI='southeast 36.19'),\n",
              " Row(age=28, sex='male', bmi=23.98, children=3, smoker='yes', region='southeast', charges=17663.1442, first_name='new', Region||BMI='southeast 23.98'),\n",
              " Row(age=27, sex='female', bmi=24.75, children=0, smoker='yes', region='southeast', charges=16577.7795, first_name='new', Region||BMI='southeast 24.75'),\n",
              " Row(age=31, sex='male', bmi=28.5, children=5, smoker='no', region='northeast', charges=6799.458, first_name='new', Region||BMI='northeast 28.5'),\n",
              " Row(age=53, sex='female', bmi=28.1, children=3, smoker='no', region='southwest', charges=11741.726, first_name='new', Region||BMI='southwest 28.1'),\n",
              " Row(age=58, sex='male', bmi=32.01, children=1, smoker='no', region='southeast', charges=11946.6259, first_name='new', Region||BMI='southeast 32.01'),\n",
              " Row(age=44, sex='male', bmi=27.4, children=2, smoker='no', region='southwest', charges=7726.854, first_name='new', Region||BMI='southwest 27.4'),\n",
              " Row(age=57, sex='male', bmi=34.01, children=0, smoker='no', region='northwest', charges=11356.6609, first_name='new', Region||BMI='northwest 34.01'),\n",
              " Row(age=29, sex='female', bmi=29.59, children=1, smoker='no', region='southeast', charges=3947.4131, first_name='new', Region||BMI='southeast 29.59'),\n",
              " Row(age=21, sex='male', bmi=35.53, children=0, smoker='no', region='southeast', charges=1532.4697, first_name='new', Region||BMI='southeast 35.53'),\n",
              " Row(age=22, sex='female', bmi=39.805, children=0, smoker='no', region='northeast', charges=2755.02095, first_name='new', Region||BMI='northeast 39.805'),\n",
              " Row(age=41, sex='female', bmi=32.965, children=0, smoker='no', region='northwest', charges=6571.02435, first_name='new', Region||BMI='northwest 32.965'),\n",
              " Row(age=31, sex='male', bmi=26.885, children=1, smoker='no', region='northeast', charges=4441.21315, first_name='new', Region||BMI='northeast 26.885'),\n",
              " Row(age=45, sex='female', bmi=38.285, children=0, smoker='no', region='northeast', charges=7935.29115, first_name='new', Region||BMI='northeast 38.285'),\n",
              " Row(age=22, sex='male', bmi=37.62, children=1, smoker='yes', region='southeast', charges=37165.1638, first_name='new', Region||BMI='southeast 37.62'),\n",
              " Row(age=48, sex='female', bmi=41.23, children=4, smoker='no', region='northwest', charges=11033.6617, first_name='new', Region||BMI='northwest 41.23'),\n",
              " Row(age=37, sex='female', bmi=34.8, children=2, smoker='yes', region='southwest', charges=39836.519, first_name='new', Region||BMI='southwest 34.8'),\n",
              " Row(age=45, sex='male', bmi=22.895, children=2, smoker='yes', region='northwest', charges=21098.55405, first_name='new', Region||BMI='northwest 22.895'),\n",
              " Row(age=57, sex='female', bmi=31.16, children=0, smoker='yes', region='northwest', charges=43578.9394, first_name='new', Region||BMI='northwest 31.16'),\n",
              " Row(age=56, sex='female', bmi=27.2, children=0, smoker='no', region='southwest', charges=11073.176, first_name='new', Region||BMI='southwest 27.2'),\n",
              " Row(age=46, sex='female', bmi=27.74, children=0, smoker='no', region='northwest', charges=8026.6666, first_name='new', Region||BMI='northwest 27.74'),\n",
              " Row(age=55, sex='female', bmi=26.98, children=0, smoker='no', region='northwest', charges=11082.5772, first_name='new', Region||BMI='northwest 26.98'),\n",
              " Row(age=21, sex='female', bmi=39.49, children=0, smoker='no', region='southeast', charges=2026.9741, first_name='new', Region||BMI='southeast 39.49'),\n",
              " Row(age=53, sex='female', bmi=24.795, children=1, smoker='no', region='northwest', charges=10942.13205, first_name='new', Region||BMI='northwest 24.795'),\n",
              " Row(age=59, sex='male', bmi=29.83, children=3, smoker='yes', region='northeast', charges=30184.9367, first_name='new', Region||BMI='northeast 29.83'),\n",
              " Row(age=35, sex='male', bmi=34.77, children=2, smoker='no', region='northwest', charges=5729.0053, first_name='new', Region||BMI='northwest 34.77'),\n",
              " Row(age=64, sex='female', bmi=31.3, children=2, smoker='yes', region='southwest', charges=47291.055, first_name='new', Region||BMI='southwest 31.3'),\n",
              " Row(age=28, sex='female', bmi=37.62, children=1, smoker='no', region='southeast', charges=3766.8838, first_name='new', Region||BMI='southeast 37.62'),\n",
              " Row(age=54, sex='female', bmi=30.8, children=3, smoker='no', region='southwest', charges=12105.32, first_name='new', Region||BMI='southwest 30.8'),\n",
              " Row(age=55, sex='male', bmi=38.28, children=0, smoker='no', region='southeast', charges=10226.2842, first_name='new', Region||BMI='southeast 38.28'),\n",
              " Row(age=56, sex='male', bmi=19.95, children=0, smoker='yes', region='northeast', charges=22412.6485, first_name='new', Region||BMI='northeast 19.95'),\n",
              " Row(age=38, sex='male', bmi=19.3, children=0, smoker='yes', region='southwest', charges=15820.699, first_name='new', Region||BMI='southwest 19.3'),\n",
              " Row(age=41, sex='female', bmi=31.6, children=0, smoker='no', region='southwest', charges=6186.127, first_name='new', Region||BMI='southwest 31.6'),\n",
              " Row(age=30, sex='male', bmi=25.46, children=0, smoker='no', region='northeast', charges=3645.0894, first_name='new', Region||BMI='northeast 25.46'),\n",
              " Row(age=18, sex='female', bmi=30.115, children=0, smoker='no', region='northeast', charges=21344.8467, first_name='new', Region||BMI='northeast 30.115'),\n",
              " Row(age=61, sex='female', bmi=29.92, children=3, smoker='yes', region='southeast', charges=30942.1918, first_name='new', Region||BMI='southeast 29.92'),\n",
              " Row(age=34, sex='female', bmi=27.5, children=1, smoker='no', region='southwest', charges=5003.853, first_name='new', Region||BMI='southwest 27.5'),\n",
              " Row(age=20, sex='male', bmi=28.025, children=1, smoker='yes', region='northwest', charges=17560.37975, first_name='new', Region||BMI='northwest 28.025'),\n",
              " Row(age=19, sex='female', bmi=28.4, children=1, smoker='no', region='southwest', charges=2331.519, first_name='new', Region||BMI='southwest 28.4'),\n",
              " Row(age=26, sex='male', bmi=30.875, children=2, smoker='no', region='northwest', charges=3877.30425, first_name='new', Region||BMI='northwest 30.875'),\n",
              " Row(age=29, sex='male', bmi=27.94, children=0, smoker='no', region='southeast', charges=2867.1196, first_name='new', Region||BMI='southeast 27.94'),\n",
              " Row(age=63, sex='male', bmi=35.09, children=0, smoker='yes', region='southeast', charges=47055.5321, first_name='new', Region||BMI='southeast 35.09'),\n",
              " Row(age=54, sex='male', bmi=33.63, children=1, smoker='no', region='northwest', charges=10825.2537, first_name='new', Region||BMI='northwest 33.63'),\n",
              " Row(age=55, sex='female', bmi=29.7, children=2, smoker='no', region='southwest', charges=11881.358, first_name='new', Region||BMI='southwest 29.7'),\n",
              " Row(age=37, sex='male', bmi=30.8, children=0, smoker='no', region='southwest', charges=4646.759, first_name='new', Region||BMI='southwest 30.8'),\n",
              " Row(age=21, sex='female', bmi=35.72, children=0, smoker='no', region='northwest', charges=2404.7338, first_name='new', Region||BMI='northwest 35.72'),\n",
              " Row(age=52, sex='male', bmi=32.205, children=3, smoker='no', region='northeast', charges=11488.31695, first_name='new', Region||BMI='northeast 32.205'),\n",
              " Row(age=60, sex='male', bmi=28.595, children=0, smoker='no', region='northeast', charges=30259.99556, first_name='new', Region||BMI='northeast 28.595'),\n",
              " Row(age=58, sex='male', bmi=49.06, children=0, smoker='no', region='southeast', charges=11381.3254, first_name='new', Region||BMI='southeast 49.06'),\n",
              " Row(age=29, sex='female', bmi=27.94, children=1, smoker='yes', region='southeast', charges=19107.7796, first_name='new', Region||BMI='southeast 27.94'),\n",
              " Row(age=49, sex='female', bmi=27.17, children=0, smoker='no', region='southeast', charges=8601.3293, first_name='new', Region||BMI='southeast 27.17'),\n",
              " Row(age=37, sex='female', bmi=23.37, children=2, smoker='no', region='northwest', charges=6686.4313, first_name='new', Region||BMI='northwest 23.37'),\n",
              " Row(age=44, sex='male', bmi=37.1, children=2, smoker='no', region='southwest', charges=7740.337, first_name='new', Region||BMI='southwest 37.1'),\n",
              " Row(age=18, sex='male', bmi=23.75, children=0, smoker='no', region='northeast', charges=1705.6245, first_name='new', Region||BMI='northeast 23.75'),\n",
              " Row(age=20, sex='female', bmi=28.975, children=0, smoker='no', region='northwest', charges=2257.47525, first_name='new', Region||BMI='northwest 28.975'),\n",
              " Row(age=44, sex='male', bmi=31.35, children=1, smoker='yes', region='northeast', charges=39556.4945, first_name='new', Region||BMI='northeast 31.35'),\n",
              " Row(age=47, sex='female', bmi=33.915, children=3, smoker='no', region='northwest', charges=10115.00885, first_name='new', Region||BMI='northwest 33.915'),\n",
              " Row(age=26, sex='female', bmi=28.785, children=0, smoker='no', region='northeast', charges=3385.39915, first_name='new', Region||BMI='northeast 28.785'),\n",
              " Row(age=19, sex='female', bmi=28.3, children=0, smoker='yes', region='southwest', charges=17081.08, first_name='new', Region||BMI='southwest 28.3'),\n",
              " Row(age=52, sex='female', bmi=37.4, children=0, smoker='no', region='southwest', charges=9634.538, first_name='new', Region||BMI='southwest 37.4'),\n",
              " Row(age=32, sex='female', bmi=17.765, children=2, smoker='yes', region='northwest', charges=32734.1863, first_name='new', Region||BMI='northwest 17.765'),\n",
              " Row(age=38, sex='male', bmi=34.7, children=2, smoker='no', region='southwest', charges=6082.405, first_name='new', Region||BMI='southwest 34.7'),\n",
              " Row(age=59, sex='female', bmi=26.505, children=0, smoker='no', region='northeast', charges=12815.44495, first_name='new', Region||BMI='northeast 26.505'),\n",
              " Row(age=61, sex='female', bmi=22.04, children=0, smoker='no', region='northeast', charges=13616.3586, first_name='new', Region||BMI='northeast 22.04'),\n",
              " Row(age=53, sex='female', bmi=35.9, children=2, smoker='no', region='southwest', charges=11163.568, first_name='new', Region||BMI='southwest 35.9'),\n",
              " Row(age=19, sex='male', bmi=25.555, children=0, smoker='no', region='northwest', charges=1632.56445, first_name='new', Region||BMI='northwest 25.555'),\n",
              " Row(age=20, sex='female', bmi=28.785, children=0, smoker='no', region='northeast', charges=2457.21115, first_name='new', Region||BMI='northeast 28.785'),\n",
              " Row(age=22, sex='female', bmi=28.05, children=0, smoker='no', region='southeast', charges=2155.6815, first_name='new', Region||BMI='southeast 28.05'),\n",
              " Row(age=19, sex='male', bmi=34.1, children=0, smoker='no', region='southwest', charges=1261.442, first_name='new', Region||BMI='southwest 34.1'),\n",
              " Row(age=22, sex='male', bmi=25.175, children=0, smoker='no', region='northwest', charges=2045.68525, first_name='new', Region||BMI='northwest 25.175'),\n",
              " Row(age=54, sex='female', bmi=31.9, children=3, smoker='no', region='southeast', charges=27322.73386, first_name='new', Region||BMI='southeast 31.9'),\n",
              " Row(age=22, sex='female', bmi=36.0, children=0, smoker='no', region='southwest', charges=2166.732, first_name='new', Region||BMI='southwest 36.0'),\n",
              " Row(age=34, sex='male', bmi=22.42, children=2, smoker='no', region='northeast', charges=27375.90478, first_name='new', Region||BMI='northeast 22.42'),\n",
              " Row(age=26, sex='male', bmi=32.49, children=1, smoker='no', region='northeast', charges=3490.5491, first_name='new', Region||BMI='northeast 32.49'),\n",
              " Row(age=34, sex='male', bmi=25.3, children=2, smoker='yes', region='southeast', charges=18972.495, first_name='new', Region||BMI='southeast 25.3'),\n",
              " Row(age=29, sex='male', bmi=29.735, children=2, smoker='no', region='northwest', charges=18157.876, first_name='new', Region||BMI='northwest 29.735'),\n",
              " Row(age=30, sex='male', bmi=28.69, children=3, smoker='yes', region='northwest', charges=20745.9891, first_name='new', Region||BMI='northwest 28.69'),\n",
              " Row(age=29, sex='female', bmi=38.83, children=3, smoker='no', region='southeast', charges=5138.2567, first_name='new', Region||BMI='southeast 38.83'),\n",
              " Row(age=46, sex='male', bmi=30.495, children=3, smoker='yes', region='northwest', charges=40720.55105, first_name='new', Region||BMI='northwest 30.495'),\n",
              " Row(age=51, sex='female', bmi=37.73, children=1, smoker='no', region='southeast', charges=9877.6077, first_name='new', Region||BMI='southeast 37.73'),\n",
              " Row(age=53, sex='female', bmi=37.43, children=1, smoker='no', region='northwest', charges=10959.6947, first_name='new', Region||BMI='northwest 37.43'),\n",
              " Row(age=19, sex='male', bmi=28.4, children=1, smoker='no', region='southwest', charges=1842.519, first_name='new', Region||BMI='southwest 28.4'),\n",
              " Row(age=35, sex='male', bmi=24.13, children=1, smoker='no', region='northwest', charges=5125.2157, first_name='new', Region||BMI='northwest 24.13'),\n",
              " Row(age=48, sex='male', bmi=29.7, children=0, smoker='no', region='southeast', charges=7789.635, first_name='new', Region||BMI='southeast 29.7'),\n",
              " Row(age=32, sex='female', bmi=37.145, children=3, smoker='no', region='northeast', charges=6334.34355, first_name='new', Region||BMI='northeast 37.145'),\n",
              " Row(age=42, sex='female', bmi=23.37, children=0, smoker='yes', region='northeast', charges=19964.7463, first_name='new', Region||BMI='northeast 23.37'),\n",
              " Row(age=40, sex='female', bmi=25.46, children=1, smoker='no', region='northeast', charges=7077.1894, first_name='new', Region||BMI='northeast 25.46'),\n",
              " Row(age=44, sex='male', bmi=39.52, children=0, smoker='no', region='northwest', charges=6948.7008, first_name='new', Region||BMI='northwest 39.52'),\n",
              " Row(age=48, sex='male', bmi=24.42, children=0, smoker='yes', region='southeast', charges=21223.6758, first_name='new', Region||BMI='southeast 24.42'),\n",
              " Row(age=18, sex='male', bmi=25.175, children=0, smoker='yes', region='northeast', charges=15518.18025, first_name='new', Region||BMI='northeast 25.175'),\n",
              " Row(age=30, sex='male', bmi=35.53, children=0, smoker='yes', region='southeast', charges=36950.2567, first_name='new', Region||BMI='southeast 35.53'),\n",
              " Row(age=50, sex='female', bmi=27.83, children=3, smoker='no', region='southeast', charges=19749.38338, first_name='new', Region||BMI='southeast 27.83'),\n",
              " Row(age=42, sex='female', bmi=26.6, children=0, smoker='yes', region='northwest', charges=21348.706, first_name='new', Region||BMI='northwest 26.6'),\n",
              " Row(age=18, sex='female', bmi=36.85, children=0, smoker='yes', region='southeast', charges=36149.4835, first_name='new', Region||BMI='southeast 36.85'),\n",
              " Row(age=54, sex='male', bmi=39.6, children=1, smoker='no', region='southwest', charges=10450.552, first_name='new', Region||BMI='southwest 39.6'),\n",
              " Row(age=32, sex='female', bmi=29.8, children=2, smoker='no', region='southwest', charges=5152.134, first_name='new', Region||BMI='southwest 29.8'),\n",
              " Row(age=37, sex='male', bmi=29.64, children=0, smoker='no', region='northwest', charges=5028.1466, first_name='new', Region||BMI='northwest 29.64'),\n",
              " Row(age=47, sex='male', bmi=28.215, children=4, smoker='no', region='northeast', charges=10407.08585, first_name='new', Region||BMI='northeast 28.215'),\n",
              " Row(age=20, sex='female', bmi=37.0, children=5, smoker='no', region='southwest', charges=4830.63, first_name='new', Region||BMI='southwest 37.0'),\n",
              " Row(age=32, sex='female', bmi=33.155, children=3, smoker='no', region='northwest', charges=6128.79745, first_name='new', Region||BMI='northwest 33.155'),\n",
              " Row(age=19, sex='female', bmi=31.825, children=1, smoker='no', region='northwest', charges=2719.27975, first_name='new', Region||BMI='northwest 31.825'),\n",
              " Row(age=27, sex='male', bmi=18.905, children=3, smoker='no', region='northeast', charges=4827.90495, first_name='new', Region||BMI='northeast 18.905'),\n",
              " Row(age=63, sex='male', bmi=41.47, children=0, smoker='no', region='southeast', charges=13405.3903, first_name='new', Region||BMI='southeast 41.47'),\n",
              " Row(age=49, sex='male', bmi=30.3, children=0, smoker='no', region='southwest', charges=8116.68, first_name='new', Region||BMI='southwest 30.3'),\n",
              " Row(age=18, sex='male', bmi=15.96, children=0, smoker='no', region='northeast', charges=1694.7964, first_name='new', Region||BMI='northeast 15.96'),\n",
              " Row(age=35, sex='female', bmi=34.8, children=1, smoker='no', region='southwest', charges=5246.047, first_name='new', Region||BMI='southwest 34.8'),\n",
              " Row(age=24, sex='female', bmi=33.345, children=0, smoker='no', region='northwest', charges=2855.43755, first_name='new', Region||BMI='northwest 33.345'),\n",
              " Row(age=63, sex='female', bmi=37.7, children=0, smoker='yes', region='southwest', charges=48824.45, first_name='new', Region||BMI='southwest 37.7'),\n",
              " Row(age=38, sex='male', bmi=27.835, children=2, smoker='no', region='northwest', charges=6455.86265, first_name='new', Region||BMI='northwest 27.835'),\n",
              " Row(age=54, sex='male', bmi=29.2, children=1, smoker='no', region='southwest', charges=10436.096, first_name='new', Region||BMI='southwest 29.2'),\n",
              " Row(age=46, sex='female', bmi=28.9, children=2, smoker='no', region='southwest', charges=8823.279, first_name='new', Region||BMI='southwest 28.9'),\n",
              " Row(age=41, sex='female', bmi=33.155, children=3, smoker='no', region='northeast', charges=8538.28845, first_name='new', Region||BMI='northeast 33.155'),\n",
              " Row(age=58, sex='male', bmi=28.595, children=0, smoker='no', region='northwest', charges=11735.87905, first_name='new', Region||BMI='northwest 28.595'),\n",
              " Row(age=18, sex='female', bmi=38.28, children=0, smoker='no', region='southeast', charges=1631.8212, first_name='new', Region||BMI='southeast 38.28'),\n",
              " Row(age=22, sex='male', bmi=19.95, children=3, smoker='no', region='northeast', charges=4005.4225, first_name='new', Region||BMI='northeast 19.95'),\n",
              " Row(age=44, sex='female', bmi=26.41, children=0, smoker='no', region='northwest', charges=7419.4779, first_name='new', Region||BMI='northwest 26.41'),\n",
              " Row(age=44, sex='male', bmi=30.69, children=2, smoker='no', region='southeast', charges=7731.4271, first_name='new', Region||BMI='southeast 30.69'),\n",
              " Row(age=36, sex='male', bmi=41.895, children=3, smoker='yes', region='northeast', charges=43753.33705, first_name='new', Region||BMI='northeast 41.895'),\n",
              " Row(age=26, sex='female', bmi=29.92, children=2, smoker='no', region='southeast', charges=3981.9768, first_name='new', Region||BMI='southeast 29.92'),\n",
              " Row(age=30, sex='female', bmi=30.9, children=3, smoker='no', region='southwest', charges=5325.651, first_name='new', Region||BMI='southwest 30.9'),\n",
              " Row(age=41, sex='female', bmi=32.2, children=1, smoker='no', region='southwest', charges=6775.961, first_name='new', Region||BMI='southwest 32.2'),\n",
              " Row(age=29, sex='female', bmi=32.11, children=2, smoker='no', region='northwest', charges=4922.9159, first_name='new', Region||BMI='northwest 32.11'),\n",
              " Row(age=61, sex='male', bmi=31.57, children=0, smoker='no', region='southeast', charges=12557.6053, first_name='new', Region||BMI='southeast 31.57'),\n",
              " Row(age=36, sex='female', bmi=26.2, children=0, smoker='no', region='southwest', charges=4883.866, first_name='new', Region||BMI='southwest 26.2'),\n",
              " Row(age=25, sex='male', bmi=25.74, children=0, smoker='no', region='southeast', charges=2137.6536, first_name='new', Region||BMI='southeast 25.74'),\n",
              " Row(age=56, sex='female', bmi=26.6, children=1, smoker='no', region='northwest', charges=12044.342, first_name='new', Region||BMI='northwest 26.6'),\n",
              " Row(age=18, sex='male', bmi=34.43, children=0, smoker='no', region='southeast', charges=1137.4697, first_name='new', Region||BMI='southeast 34.43'),\n",
              " Row(age=19, sex='male', bmi=30.59, children=0, smoker='no', region='northwest', charges=1639.5631, first_name='new', Region||BMI='northwest 30.59'),\n",
              " Row(age=39, sex='female', bmi=32.8, children=0, smoker='no', region='southwest', charges=5649.715, first_name='new', Region||BMI='southwest 32.8'),\n",
              " Row(age=45, sex='female', bmi=28.6, children=2, smoker='no', region='southeast', charges=8516.829, first_name='new', Region||BMI='southeast 28.6'),\n",
              " Row(age=51, sex='female', bmi=18.05, children=0, smoker='no', region='northwest', charges=9644.2525, first_name='new', Region||BMI='northwest 18.05'),\n",
              " Row(age=64, sex='female', bmi=39.33, children=0, smoker='no', region='northeast', charges=14901.5167, first_name='new', Region||BMI='northeast 39.33'),\n",
              " Row(age=19, sex='female', bmi=32.11, children=0, smoker='no', region='northwest', charges=2130.6759, first_name='new', Region||BMI='northwest 32.11'),\n",
              " Row(age=48, sex='female', bmi=32.23, children=1, smoker='no', region='southeast', charges=8871.1517, first_name='new', Region||BMI='southeast 32.23'),\n",
              " Row(age=60, sex='female', bmi=24.035, children=0, smoker='no', region='northwest', charges=13012.20865, first_name='new', Region||BMI='northwest 24.035'),\n",
              " Row(age=27, sex='female', bmi=36.08, children=0, smoker='yes', region='southeast', charges=37133.8982, first_name='new', Region||BMI='southeast 36.08'),\n",
              " Row(age=46, sex='male', bmi=22.3, children=0, smoker='no', region='southwest', charges=7147.105, first_name='new', Region||BMI='southwest 22.3'),\n",
              " Row(age=28, sex='female', bmi=28.88, children=1, smoker='no', region='northeast', charges=4337.7352, first_name='new', Region||BMI='northeast 28.88'),\n",
              " Row(age=59, sex='male', bmi=26.4, children=0, smoker='no', region='southeast', charges=11743.299, first_name='new', Region||BMI='southeast 26.4'),\n",
              " Row(age=35, sex='male', bmi=27.74, children=2, smoker='yes', region='northeast', charges=20984.0936, first_name='new', Region||BMI='northeast 27.74'),\n",
              " Row(age=63, sex='female', bmi=31.8, children=0, smoker='no', region='southwest', charges=13880.949, first_name='new', Region||BMI='southwest 31.8'),\n",
              " Row(age=40, sex='male', bmi=41.23, children=1, smoker='no', region='northeast', charges=6610.1097, first_name='new', Region||BMI='northeast 41.23'),\n",
              " Row(age=20, sex='male', bmi=33.0, children=1, smoker='no', region='southwest', charges=1980.07, first_name='new', Region||BMI='southwest 33.0'),\n",
              " Row(age=40, sex='male', bmi=30.875, children=4, smoker='no', region='northwest', charges=8162.71625, first_name='new', Region||BMI='northwest 30.875'),\n",
              " Row(age=24, sex='male', bmi=28.5, children=2, smoker='no', region='northwest', charges=3537.703, first_name='new', Region||BMI='northwest 28.5'),\n",
              " Row(age=34, sex='female', bmi=26.73, children=1, smoker='no', region='southeast', charges=5002.7827, first_name='new', Region||BMI='southeast 26.73'),\n",
              " Row(age=45, sex='female', bmi=30.9, children=2, smoker='no', region='southwest', charges=8520.026, first_name='new', Region||BMI='southwest 30.9'),\n",
              " Row(age=41, sex='female', bmi=37.1, children=2, smoker='no', region='southwest', charges=7371.772, first_name='new', Region||BMI='southwest 37.1'),\n",
              " Row(age=53, sex='female', bmi=26.6, children=0, smoker='no', region='northwest', charges=10355.641, first_name='new', Region||BMI='northwest 26.6'),\n",
              " Row(age=27, sex='male', bmi=23.1, children=0, smoker='no', region='southeast', charges=2483.736, first_name='new', Region||BMI='southeast 23.1'),\n",
              " Row(age=26, sex='female', bmi=29.92, children=1, smoker='no', region='southeast', charges=3392.9768, first_name='new', Region||BMI='southeast 29.92'),\n",
              " Row(age=24, sex='female', bmi=23.21, children=0, smoker='no', region='southeast', charges=25081.76784, first_name='new', Region||BMI='southeast 23.21'),\n",
              " Row(age=34, sex='female', bmi=33.7, children=1, smoker='no', region='southwest', charges=5012.471, first_name='new', Region||BMI='southwest 33.7'),\n",
              " Row(age=53, sex='female', bmi=33.25, children=0, smoker='no', region='northeast', charges=10564.8845, first_name='new', Region||BMI='northeast 33.25'),\n",
              " Row(age=32, sex='male', bmi=30.8, children=3, smoker='no', region='southwest', charges=5253.524, first_name='new', Region||BMI='southwest 30.8'),\n",
              " Row(age=19, sex='male', bmi=34.8, children=0, smoker='yes', region='southwest', charges=34779.615, first_name='new', Region||BMI='southwest 34.8'),\n",
              " Row(age=42, sex='male', bmi=24.64, children=0, smoker='yes', region='southeast', charges=19515.5416, first_name='new', Region||BMI='southeast 24.64'),\n",
              " Row(age=55, sex='male', bmi=33.88, children=3, smoker='no', region='southeast', charges=11987.1682, first_name='new', Region||BMI='southeast 33.88'),\n",
              " Row(age=28, sex='male', bmi=38.06, children=0, smoker='no', region='southeast', charges=2689.4954, first_name='new', Region||BMI='southeast 38.06'),\n",
              " Row(age=58, sex='female', bmi=41.91, children=0, smoker='no', region='southeast', charges=24227.33724, first_name='new', Region||BMI='southeast 41.91'),\n",
              " Row(age=41, sex='female', bmi=31.635, children=1, smoker='no', region='northeast', charges=7358.17565, first_name='new', Region||BMI='northeast 31.635'),\n",
              " Row(age=47, sex='male', bmi=25.46, children=2, smoker='no', region='northeast', charges=9225.2564, first_name='new', Region||BMI='northeast 25.46'),\n",
              " Row(age=42, sex='female', bmi=36.195, children=1, smoker='no', region='northwest', charges=7443.64305, first_name='new', Region||BMI='northwest 36.195'),\n",
              " Row(age=59, sex='female', bmi=27.83, children=3, smoker='no', region='southeast', charges=14001.2867, first_name='new', Region||BMI='southeast 27.83'),\n",
              " Row(age=19, sex='female', bmi=17.8, children=0, smoker='no', region='southwest', charges=1727.785, first_name='new', Region||BMI='southwest 17.8'),\n",
              " Row(age=59, sex='male', bmi=27.5, children=1, smoker='no', region='southwest', charges=12333.828, first_name='new', Region||BMI='southwest 27.5'),\n",
              " Row(age=39, sex='male', bmi=24.51, children=2, smoker='no', region='northwest', charges=6710.1919, first_name='new', Region||BMI='northwest 24.51'),\n",
              " Row(age=40, sex='female', bmi=22.22, children=2, smoker='yes', region='southeast', charges=19444.2658, first_name='new', Region||BMI='southeast 22.22'),\n",
              " Row(age=18, sex='female', bmi=26.73, children=0, smoker='no', region='southeast', charges=1615.7667, first_name='new', Region||BMI='southeast 26.73'),\n",
              " Row(age=31, sex='male', bmi=38.39, children=2, smoker='no', region='southeast', charges=4463.2051, first_name='new', Region||BMI='southeast 38.39'),\n",
              " Row(age=19, sex='male', bmi=29.07, children=0, smoker='yes', region='northwest', charges=17352.6803, first_name='new', Region||BMI='northwest 29.07'),\n",
              " Row(age=44, sex='male', bmi=38.06, children=1, smoker='no', region='southeast', charges=7152.6714, first_name='new', Region||BMI='southeast 38.06'),\n",
              " Row(age=23, sex='female', bmi=36.67, children=2, smoker='yes', region='northeast', charges=38511.6283, first_name='new', Region||BMI='northeast 36.67'),\n",
              " Row(age=33, sex='female', bmi=22.135, children=1, smoker='no', region='northeast', charges=5354.07465, first_name='new', Region||BMI='northeast 22.135'),\n",
              " Row(age=55, sex='female', bmi=26.8, children=1, smoker='no', region='southwest', charges=35160.13457, first_name='new', Region||BMI='southwest 26.8'),\n",
              " Row(age=40, sex='male', bmi=35.3, children=3, smoker='no', region='southwest', charges=7196.867, first_name='new', Region||BMI='southwest 35.3'),\n",
              " Row(age=63, sex='female', bmi=27.74, children=0, smoker='yes', region='northeast', charges=29523.1656, first_name='new', Region||BMI='northeast 27.74'),\n",
              " Row(age=54, sex='male', bmi=30.02, children=0, smoker='no', region='northwest', charges=24476.47851, first_name='new', Region||BMI='northwest 30.02'),\n",
              " Row(age=60, sex='female', bmi=38.06, children=0, smoker='no', region='southeast', charges=12648.7034, first_name='new', Region||BMI='southeast 38.06'),\n",
              " Row(age=24, sex='male', bmi=35.86, children=0, smoker='no', region='southeast', charges=1986.9334, first_name='new', Region||BMI='southeast 35.86'),\n",
              " Row(age=19, sex='male', bmi=20.9, children=1, smoker='no', region='southwest', charges=1832.094, first_name='new', Region||BMI='southwest 20.9'),\n",
              " Row(age=29, sex='male', bmi=28.975, children=1, smoker='no', region='northeast', charges=4040.55825, first_name='new', Region||BMI='northeast 28.975'),\n",
              " Row(age=18, sex='male', bmi=17.29, children=2, smoker='yes', region='northeast', charges=12829.4551, first_name='new', Region||BMI='northeast 17.29'),\n",
              " Row(age=63, sex='female', bmi=32.2, children=2, smoker='yes', region='southwest', charges=47305.305, first_name='new', Region||BMI='southwest 32.2'),\n",
              " Row(age=54, sex='male', bmi=34.21, children=2, smoker='yes', region='southeast', charges=44260.7499, first_name='new', Region||BMI='southeast 34.21'),\n",
              " Row(age=27, sex='male', bmi=30.3, children=3, smoker='no', region='southwest', charges=4260.744, first_name='new', Region||BMI='southwest 30.3'),\n",
              " Row(age=50, sex='male', bmi=31.825, children=0, smoker='yes', region='northeast', charges=41097.16175, first_name='new', Region||BMI='northeast 31.825'),\n",
              " Row(age=55, sex='female', bmi=25.365, children=3, smoker='no', region='northeast', charges=13047.33235, first_name='new', Region||BMI='northeast 25.365'),\n",
              " Row(age=56, sex='male', bmi=33.63, children=0, smoker='yes', region='northwest', charges=43921.1837, first_name='new', Region||BMI='northwest 33.63'),\n",
              " Row(age=38, sex='female', bmi=40.15, children=0, smoker='no', region='southeast', charges=5400.9805, first_name='new', Region||BMI='southeast 40.15'),\n",
              " Row(age=51, sex='male', bmi=24.415, children=4, smoker='no', region='northwest', charges=11520.09985, first_name='new', Region||BMI='northwest 24.415'),\n",
              " Row(age=19, sex='male', bmi=31.92, children=0, smoker='yes', region='northwest', charges=33750.2918, first_name='new', Region||BMI='northwest 31.92'),\n",
              " Row(age=58, sex='female', bmi=25.2, children=0, smoker='no', region='southwest', charges=11837.16, first_name='new', Region||BMI='southwest 25.2'),\n",
              " Row(age=20, sex='female', bmi=26.84, children=1, smoker='yes', region='southeast', charges=17085.2676, first_name='new', Region||BMI='southeast 26.84'),\n",
              " Row(age=52, sex='male', bmi=24.32, children=3, smoker='yes', region='northeast', charges=24869.8368, first_name='new', Region||BMI='northeast 24.32'),\n",
              " Row(age=19, sex='male', bmi=36.955, children=0, smoker='yes', region='northwest', charges=36219.40545, first_name='new', Region||BMI='northwest 36.955'),\n",
              " Row(age=53, sex='female', bmi=38.06, children=3, smoker='no', region='southeast', charges=20462.99766, first_name='new', Region||BMI='southeast 38.06'),\n",
              " Row(age=46, sex='male', bmi=42.35, children=3, smoker='yes', region='southeast', charges=46151.1245, first_name='new', Region||BMI='southeast 42.35'),\n",
              " Row(age=40, sex='male', bmi=19.8, children=1, smoker='yes', region='southeast', charges=17179.522, first_name='new', Region||BMI='southeast 19.8'),\n",
              " Row(age=59, sex='female', bmi=32.395, children=3, smoker='no', region='northeast', charges=14590.63205, first_name='new', Region||BMI='northeast 32.395'),\n",
              " Row(age=45, sex='male', bmi=30.2, children=1, smoker='no', region='southwest', charges=7441.053, first_name='new', Region||BMI='southwest 30.2'),\n",
              " Row(age=49, sex='male', bmi=25.84, children=1, smoker='no', region='northeast', charges=9282.4806, first_name='new', Region||BMI='northeast 25.84'),\n",
              " Row(age=18, sex='male', bmi=29.37, children=1, smoker='no', region='southeast', charges=1719.4363, first_name='new', Region||BMI='southeast 29.37'),\n",
              " Row(age=50, sex='male', bmi=34.2, children=2, smoker='yes', region='southwest', charges=42856.838, first_name='new', Region||BMI='southwest 34.2'),\n",
              " Row(age=41, sex='male', bmi=37.05, children=2, smoker='no', region='northwest', charges=7265.7025, first_name='new', Region||BMI='northwest 37.05'),\n",
              " Row(age=50, sex='male', bmi=27.455, children=1, smoker='no', region='northeast', charges=9617.66245, first_name='new', Region||BMI='northeast 27.455'),\n",
              " Row(age=25, sex='male', bmi=27.55, children=0, smoker='no', region='northwest', charges=2523.1695, first_name='new', Region||BMI='northwest 27.55'),\n",
              " Row(age=47, sex='female', bmi=26.6, children=2, smoker='no', region='northeast', charges=9715.841, first_name='new', Region||BMI='northeast 26.6'),\n",
              " Row(age=19, sex='male', bmi=20.615, children=2, smoker='no', region='northwest', charges=2803.69785, first_name='new', Region||BMI='northwest 20.615'),\n",
              " Row(age=22, sex='female', bmi=24.3, children=0, smoker='no', region='southwest', charges=2150.469, first_name='new', Region||BMI='southwest 24.3'),\n",
              " Row(age=59, sex='male', bmi=31.79, children=2, smoker='no', region='southeast', charges=12928.7911, first_name='new', Region||BMI='southeast 31.79'),\n",
              " Row(age=51, sex='female', bmi=21.56, children=1, smoker='no', region='southeast', charges=9855.1314, first_name='new', Region||BMI='southeast 21.56'),\n",
              " Row(age=40, sex='female', bmi=28.12, children=1, smoker='yes', region='northeast', charges=22331.5668, first_name='new', Region||BMI='northeast 28.12'),\n",
              " Row(age=54, sex='male', bmi=40.565, children=3, smoker='yes', region='northeast', charges=48549.17835, first_name='new', Region||BMI='northeast 40.565'),\n",
              " Row(age=30, sex='male', bmi=27.645, children=1, smoker='no', region='northeast', charges=4237.12655, first_name='new', Region||BMI='northeast 27.645'),\n",
              " Row(age=55, sex='female', bmi=32.395, children=1, smoker='no', region='northeast', charges=11879.10405, first_name='new', Region||BMI='northeast 32.395'),\n",
              " Row(age=52, sex='female', bmi=31.2, children=0, smoker='no', region='southwest', charges=9625.92, first_name='new', Region||BMI='southwest 31.2'),\n",
              " Row(age=46, sex='male', bmi=26.62, children=1, smoker='no', region='southeast', charges=7742.1098, first_name='new', Region||BMI='southeast 26.62'),\n",
              " Row(age=46, sex='female', bmi=48.07, children=2, smoker='no', region='northeast', charges=9432.9253, first_name='new', Region||BMI='northeast 48.07'),\n",
              " Row(age=63, sex='female', bmi=26.22, children=0, smoker='no', region='northwest', charges=14256.1928, first_name='new', Region||BMI='northwest 26.22'),\n",
              " Row(age=59, sex='female', bmi=36.765, children=1, smoker='yes', region='northeast', charges=47896.79135, first_name='new', Region||BMI='northeast 36.765'),\n",
              " Row(age=52, sex='male', bmi=26.4, children=3, smoker='no', region='southeast', charges=25992.82104, first_name='new', Region||BMI='southeast 26.4'),\n",
              " Row(age=28, sex='female', bmi=33.4, children=0, smoker='no', region='southwest', charges=3172.018, first_name='new', Region||BMI='southwest 33.4'),\n",
              " Row(age=29, sex='male', bmi=29.64, children=1, smoker='no', region='northeast', charges=20277.80751, first_name='new', Region||BMI='northeast 29.64'),\n",
              " Row(age=25, sex='male', bmi=45.54, children=2, smoker='yes', region='southeast', charges=42112.2356, first_name='new', Region||BMI='southeast 45.54'),\n",
              " Row(age=22, sex='female', bmi=28.82, children=0, smoker='no', region='southeast', charges=2156.7518, first_name='new', Region||BMI='southeast 28.82'),\n",
              " Row(age=25, sex='male', bmi=26.8, children=3, smoker='no', region='southwest', charges=3906.127, first_name='new', Region||BMI='southwest 26.8'),\n",
              " Row(age=18, sex='male', bmi=22.99, children=0, smoker='no', region='northeast', charges=1704.5681, first_name='new', Region||BMI='northeast 22.99'),\n",
              " Row(age=19, sex='male', bmi=27.7, children=0, smoker='yes', region='southwest', charges=16297.846, first_name='new', Region||BMI='southwest 27.7'),\n",
              " Row(age=47, sex='male', bmi=25.41, children=1, smoker='yes', region='southeast', charges=21978.6769, first_name='new', Region||BMI='southeast 25.41'),\n",
              " Row(age=31, sex='male', bmi=34.39, children=3, smoker='yes', region='northwest', charges=38746.3551, first_name='new', Region||BMI='northwest 34.39'),\n",
              " Row(age=48, sex='female', bmi=28.88, children=1, smoker='no', region='northwest', charges=9249.4952, first_name='new', Region||BMI='northwest 28.88'),\n",
              " Row(age=36, sex='male', bmi=27.55, children=3, smoker='no', region='northeast', charges=6746.7425, first_name='new', Region||BMI='northeast 27.55'),\n",
              " Row(age=53, sex='female', bmi=22.61, children=3, smoker='yes', region='northeast', charges=24873.3849, first_name='new', Region||BMI='northeast 22.61'),\n",
              " Row(age=56, sex='female', bmi=37.51, children=2, smoker='no', region='southeast', charges=12265.5069, first_name='new', Region||BMI='southeast 37.51'),\n",
              " Row(age=28, sex='female', bmi=33.0, children=2, smoker='no', region='southeast', charges=4349.462, first_name='new', Region||BMI='southeast 33.0'),\n",
              " Row(age=57, sex='female', bmi=38.0, children=2, smoker='no', region='southwest', charges=12646.207, first_name='new', Region||BMI='southwest 38.0'),\n",
              " Row(age=29, sex='male', bmi=33.345, children=2, smoker='no', region='northwest', charges=19442.3535, first_name='new', Region||BMI='northwest 33.345'),\n",
              " Row(age=28, sex='female', bmi=27.5, children=2, smoker='no', region='southwest', charges=20177.67113, first_name='new', Region||BMI='southwest 27.5'),\n",
              " Row(age=30, sex='female', bmi=33.33, children=1, smoker='no', region='southeast', charges=4151.0287, first_name='new', Region||BMI='southeast 33.33'),\n",
              " Row(age=58, sex='male', bmi=34.865, children=0, smoker='no', region='northeast', charges=11944.59435, first_name='new', Region||BMI='northeast 34.865'),\n",
              " Row(age=41, sex='female', bmi=33.06, children=2, smoker='no', region='northwest', charges=7749.1564, first_name='new', Region||BMI='northwest 33.06'),\n",
              " Row(age=50, sex='male', bmi=26.6, children=0, smoker='no', region='southwest', charges=8444.474, first_name='new', Region||BMI='southwest 26.6'),\n",
              " Row(age=19, sex='female', bmi=24.7, children=0, smoker='no', region='southwest', charges=1737.376, first_name='new', Region||BMI='southwest 24.7'),\n",
              " Row(age=43, sex='male', bmi=35.97, children=3, smoker='yes', region='southeast', charges=42124.5153, first_name='new', Region||BMI='southeast 35.97'),\n",
              " Row(age=49, sex='male', bmi=35.86, children=0, smoker='no', region='southeast', charges=8124.4084, first_name='new', Region||BMI='southeast 35.86'),\n",
              " Row(age=27, sex='female', bmi=31.4, children=0, smoker='yes', region='southwest', charges=34838.873, first_name='new', Region||BMI='southwest 31.4'),\n",
              " Row(age=52, sex='male', bmi=33.25, children=0, smoker='no', region='northeast', charges=9722.7695, first_name='new', Region||BMI='northeast 33.25'),\n",
              " Row(age=50, sex='male', bmi=32.205, children=0, smoker='no', region='northwest', charges=8835.26495, first_name='new', Region||BMI='northwest 32.205'),\n",
              " Row(age=54, sex='male', bmi=32.775, children=0, smoker='no', region='northeast', charges=10435.06525, first_name='new', Region||BMI='northeast 32.775'),\n",
              " Row(age=44, sex='female', bmi=27.645, children=0, smoker='no', region='northwest', charges=7421.19455, first_name='new', Region||BMI='northwest 27.645'),\n",
              " Row(age=32, sex='male', bmi=37.335, children=1, smoker='no', region='northeast', charges=4667.60765, first_name='new', Region||BMI='northeast 37.335'),\n",
              " Row(age=34, sex='male', bmi=25.27, children=1, smoker='no', region='northwest', charges=4894.7533, first_name='new', Region||BMI='northwest 25.27'),\n",
              " Row(age=26, sex='female', bmi=29.64, children=4, smoker='no', region='northeast', charges=24671.66334, first_name='new', Region||BMI='northeast 29.64'),\n",
              " Row(age=34, sex='male', bmi=30.8, children=0, smoker='yes', region='southwest', charges=35491.64, first_name='new', Region||BMI='southwest 30.8'),\n",
              " Row(age=57, sex='male', bmi=40.945, children=0, smoker='no', region='northeast', charges=11566.30055, first_name='new', Region||BMI='northeast 40.945'),\n",
              " Row(age=29, sex='male', bmi=27.2, children=0, smoker='no', region='southwest', charges=2866.091, first_name='new', Region||BMI='southwest 27.2'),\n",
              " Row(age=40, sex='male', bmi=34.105, children=1, smoker='no', region='northeast', charges=6600.20595, first_name='new', Region||BMI='northeast 34.105'),\n",
              " Row(age=27, sex='female', bmi=23.21, children=1, smoker='no', region='southeast', charges=3561.8889, first_name='new', Region||BMI='southeast 23.21'),\n",
              " Row(age=45, sex='male', bmi=36.48, children=2, smoker='yes', region='northwest', charges=42760.5022, first_name='new', Region||BMI='northwest 36.48'),\n",
              " Row(age=64, sex='female', bmi=33.8, children=1, smoker='yes', region='southwest', charges=47928.03, first_name='new', Region||BMI='southwest 33.8'),\n",
              " Row(age=52, sex='male', bmi=36.7, children=0, smoker='no', region='southwest', charges=9144.565, first_name='new', Region||BMI='southwest 36.7'),\n",
              " Row(age=61, sex='female', bmi=36.385, children=1, smoker='yes', region='northeast', charges=48517.56315, first_name='new', Region||BMI='northeast 36.385'),\n",
              " Row(age=52, sex='male', bmi=27.36, children=0, smoker='yes', region='northwest', charges=24393.6224, first_name='new', Region||BMI='northwest 27.36'),\n",
              " Row(age=61, sex='female', bmi=31.16, children=0, smoker='no', region='northwest', charges=13429.0354, first_name='new', Region||BMI='northwest 31.16'),\n",
              " Row(age=56, sex='female', bmi=28.785, children=0, smoker='no', region='northeast', charges=11658.37915, first_name='new', Region||BMI='northeast 28.785'),\n",
              " Row(age=43, sex='female', bmi=35.72, children=2, smoker='no', region='northeast', charges=19144.57652, first_name='new', Region||BMI='northeast 35.72'),\n",
              " Row(age=64, sex='male', bmi=34.5, children=0, smoker='no', region='southwest', charges=13822.803, first_name='new', Region||BMI='southwest 34.5'),\n",
              " Row(age=60, sex='male', bmi=25.74, children=0, smoker='no', region='southeast', charges=12142.5786, first_name='new', Region||BMI='southeast 25.74'),\n",
              " Row(age=62, sex='male', bmi=27.55, children=1, smoker='no', region='northwest', charges=13937.6665, first_name='new', Region||BMI='northwest 27.55'),\n",
              " Row(age=50, sex='male', bmi=32.3, children=1, smoker='yes', region='northeast', charges=41919.097, first_name='new', Region||BMI='northeast 32.3'),\n",
              " Row(age=46, sex='female', bmi=27.72, children=1, smoker='no', region='southeast', charges=8232.6388, first_name='new', Region||BMI='southeast 27.72'),\n",
              " Row(age=24, sex='female', bmi=27.6, children=0, smoker='no', region='southwest', charges=18955.22017, first_name='new', Region||BMI='southwest 27.6'),\n",
              " Row(age=62, sex='male', bmi=30.02, children=0, smoker='no', region='northwest', charges=13352.0998, first_name='new', Region||BMI='northwest 30.02'),\n",
              " Row(age=60, sex='female', bmi=27.55, children=0, smoker='no', region='northeast', charges=13217.0945, first_name='new', Region||BMI='northeast 27.55'),\n",
              " Row(age=63, sex='male', bmi=36.765, children=0, smoker='no', region='northeast', charges=13981.85035, first_name='new', Region||BMI='northeast 36.765'),\n",
              " Row(age=49, sex='female', bmi=41.47, children=4, smoker='no', region='southeast', charges=10977.2063, first_name='new', Region||BMI='southeast 41.47'),\n",
              " Row(age=34, sex='female', bmi=29.26, children=3, smoker='no', region='southeast', charges=6184.2994, first_name='new', Region||BMI='southeast 29.26'),\n",
              " Row(age=33, sex='male', bmi=35.75, children=2, smoker='no', region='southeast', charges=4889.9995, first_name='new', Region||BMI='southeast 35.75'),\n",
              " Row(age=46, sex='male', bmi=33.345, children=1, smoker='no', region='northeast', charges=8334.45755, first_name='new', Region||BMI='northeast 33.345'),\n",
              " Row(age=36, sex='female', bmi=29.92, children=1, smoker='no', region='southeast', charges=5478.0368, first_name='new', Region||BMI='southeast 29.92'),\n",
              " Row(age=19, sex='male', bmi=27.835, children=0, smoker='no', region='northwest', charges=1635.73365, first_name='new', Region||BMI='northwest 27.835'),\n",
              " Row(age=57, sex='female', bmi=23.18, children=0, smoker='no', region='northwest', charges=11830.6072, first_name='new', Region||BMI='northwest 23.18'),\n",
              " Row(age=50, sex='female', bmi=25.6, children=0, smoker='no', region='southwest', charges=8932.084, first_name='new', Region||BMI='southwest 25.6'),\n",
              " Row(age=30, sex='female', bmi=27.7, children=0, smoker='no', region='southwest', charges=3554.203, first_name='new', Region||BMI='southwest 27.7'),\n",
              " Row(age=33, sex='male', bmi=35.245, children=0, smoker='no', region='northeast', charges=12404.8791, first_name='new', Region||BMI='northeast 35.245'),\n",
              " Row(age=18, sex='female', bmi=38.28, children=0, smoker='no', region='southeast', charges=14133.03775, first_name='new', Region||BMI='southeast 38.28'),\n",
              " Row(age=46, sex='male', bmi=27.6, children=0, smoker='no', region='southwest', charges=24603.04837, first_name='new', Region||BMI='southwest 27.6'),\n",
              " Row(age=46, sex='male', bmi=43.89, children=3, smoker='no', region='southeast', charges=8944.1151, first_name='new', Region||BMI='southeast 43.89'),\n",
              " Row(age=47, sex='male', bmi=29.83, children=3, smoker='no', region='northwest', charges=9620.3307, first_name='new', Region||BMI='northwest 29.83'),\n",
              " Row(age=23, sex='male', bmi=41.91, children=0, smoker='no', region='southeast', charges=1837.2819, first_name='new', Region||BMI='southeast 41.91'),\n",
              " Row(age=18, sex='female', bmi=20.79, children=0, smoker='no', region='southeast', charges=1607.5101, first_name='new', Region||BMI='southeast 20.79'),\n",
              " Row(age=48, sex='female', bmi=32.3, children=2, smoker='no', region='northeast', charges=10043.249, first_name='new', Region||BMI='northeast 32.3'),\n",
              " Row(age=35, sex='male', bmi=30.5, children=1, smoker='no', region='southwest', charges=4751.07, first_name='new', Region||BMI='southwest 30.5'),\n",
              " Row(age=19, sex='female', bmi=21.7, children=0, smoker='yes', region='southwest', charges=13844.506, first_name='new', Region||BMI='southwest 21.7'),\n",
              " Row(age=21, sex='female', bmi=26.4, children=1, smoker='no', region='southwest', charges=2597.779, first_name='new', Region||BMI='southwest 26.4'),\n",
              " Row(age=21, sex='female', bmi=21.89, children=2, smoker='no', region='southeast', charges=3180.5101, first_name='new', Region||BMI='southeast 21.89'),\n",
              " Row(age=49, sex='female', bmi=30.78, children=1, smoker='no', region='northeast', charges=9778.3472, first_name='new', Region||BMI='northeast 30.78'),\n",
              " Row(age=56, sex='female', bmi=32.3, children=3, smoker='no', region='northeast', charges=13430.265, first_name='new', Region||BMI='northeast 32.3'),\n",
              " Row(age=42, sex='female', bmi=24.985, children=2, smoker='no', region='northwest', charges=8017.06115, first_name='new', Region||BMI='northwest 24.985'),\n",
              " Row(age=44, sex='male', bmi=32.015, children=2, smoker='no', region='northwest', charges=8116.26885, first_name='new', Region||BMI='northwest 32.015'),\n",
              " Row(age=18, sex='male', bmi=30.4, children=3, smoker='no', region='northeast', charges=3481.868, first_name='new', Region||BMI='northeast 30.4'),\n",
              " Row(age=61, sex='female', bmi=21.09, children=0, smoker='no', region='northwest', charges=13415.0381, first_name='new', Region||BMI='northwest 21.09'),\n",
              " Row(age=57, sex='female', bmi=22.23, children=0, smoker='no', region='northeast', charges=12029.2867, first_name='new', Region||BMI='northeast 22.23'),\n",
              " Row(age=42, sex='female', bmi=33.155, children=1, smoker='no', region='northeast', charges=7639.41745, first_name='new', Region||BMI='northeast 33.155'),\n",
              " Row(age=26, sex='male', bmi=32.9, children=2, smoker='yes', region='southwest', charges=36085.219, first_name='new', Region||BMI='southwest 32.9'),\n",
              " Row(age=20, sex='male', bmi=33.33, children=0, smoker='no', region='southeast', charges=1391.5287, first_name='new', Region||BMI='southeast 33.33'),\n",
              " Row(age=23, sex='female', bmi=28.31, children=0, smoker='yes', region='northwest', charges=18033.9679, first_name='new', Region||BMI='northwest 28.31'),\n",
              " Row(age=39, sex='female', bmi=24.89, children=3, smoker='yes', region='northeast', charges=21659.9301, first_name='new', Region||BMI='northeast 24.89'),\n",
              " Row(age=24, sex='male', bmi=40.15, children=0, smoker='yes', region='southeast', charges=38126.2465, first_name='new', Region||BMI='southeast 40.15'),\n",
              " Row(age=64, sex='female', bmi=30.115, children=3, smoker='no', region='northwest', charges=16455.70785, first_name='new', Region||BMI='northwest 30.115'),\n",
              " Row(age=62, sex='male', bmi=31.46, children=1, smoker='no', region='southeast', charges=27000.98473, first_name='new', Region||BMI='southeast 31.46'),\n",
              " Row(age=27, sex='female', bmi=17.955, children=2, smoker='yes', region='northeast', charges=15006.57945, first_name='new', Region||BMI='northeast 17.955'),\n",
              " Row(age=55, sex='male', bmi=30.685, children=0, smoker='yes', region='northeast', charges=42303.69215, first_name='new', Region||BMI='northeast 30.685'),\n",
              " Row(age=55, sex='male', bmi=33.0, children=0, smoker='no', region='southeast', charges=20781.48892, first_name='new', Region||BMI='southeast 33.0'),\n",
              " Row(age=35, sex='female', bmi=43.34, children=2, smoker='no', region='southeast', charges=5846.9176, first_name='new', Region||BMI='southeast 43.34'),\n",
              " Row(age=44, sex='male', bmi=22.135, children=2, smoker='no', region='northeast', charges=8302.53565, first_name='new', Region||BMI='northeast 22.135'),\n",
              " Row(age=19, sex='male', bmi=34.4, children=0, smoker='no', region='southwest', charges=1261.859, first_name='new', Region||BMI='southwest 34.4'),\n",
              " Row(age=58, sex='female', bmi=39.05, children=0, smoker='no', region='southeast', charges=11856.4115, first_name='new', Region||BMI='southeast 39.05'),\n",
              " Row(age=50, sex='male', bmi=25.365, children=2, smoker='no', region='northwest', charges=30284.64294, first_name='new', Region||BMI='northwest 25.365'),\n",
              " Row(age=26, sex='female', bmi=22.61, children=0, smoker='no', region='northwest', charges=3176.8159, first_name='new', Region||BMI='northwest 22.61'),\n",
              " Row(age=24, sex='female', bmi=30.21, children=3, smoker='no', region='northwest', charges=4618.0799, first_name='new', Region||BMI='northwest 30.21'),\n",
              " Row(age=48, sex='male', bmi=35.625, children=4, smoker='no', region='northeast', charges=10736.87075, first_name='new', Region||BMI='northeast 35.625'),\n",
              " Row(age=19, sex='female', bmi=37.43, children=0, smoker='no', region='northwest', charges=2138.0707, first_name='new', Region||BMI='northwest 37.43'),\n",
              " Row(age=48, sex='male', bmi=31.445, children=1, smoker='no', region='northeast', charges=8964.06055, first_name='new', Region||BMI='northeast 31.445'),\n",
              " Row(age=49, sex='male', bmi=31.35, children=1, smoker='no', region='northeast', charges=9290.1395, first_name='new', Region||BMI='northeast 31.35'),\n",
              " Row(age=46, sex='female', bmi=32.3, children=2, smoker='no', region='northeast', charges=9411.005, first_name='new', Region||BMI='northeast 32.3'),\n",
              " Row(age=46, sex='male', bmi=19.855, children=0, smoker='no', region='northwest', charges=7526.70645, first_name='new', Region||BMI='northwest 19.855'),\n",
              " Row(age=43, sex='female', bmi=34.4, children=3, smoker='no', region='southwest', charges=8522.003, first_name='new', Region||BMI='southwest 34.4'),\n",
              " Row(age=21, sex='male', bmi=31.02, children=0, smoker='no', region='southeast', charges=16586.49771, first_name='new', Region||BMI='southeast 31.02'),\n",
              " Row(age=64, sex='male', bmi=25.6, children=2, smoker='no', region='southwest', charges=14988.432, first_name='new', Region||BMI='southwest 25.6'),\n",
              " Row(age=18, sex='female', bmi=38.17, children=0, smoker='no', region='southeast', charges=1631.6683, first_name='new', Region||BMI='southeast 38.17'),\n",
              " Row(age=51, sex='female', bmi=20.6, children=0, smoker='no', region='southwest', charges=9264.797, first_name='new', Region||BMI='southwest 20.6'),\n",
              " Row(age=47, sex='male', bmi=47.52, children=1, smoker='no', region='southeast', charges=8083.9198, first_name='new', Region||BMI='southeast 47.52'),\n",
              " Row(age=64, sex='female', bmi=32.965, children=0, smoker='no', region='northwest', charges=14692.66935, first_name='new', Region||BMI='northwest 32.965'),\n",
              " Row(age=49, sex='male', bmi=32.3, children=3, smoker='no', region='northwest', charges=10269.46, first_name='new', Region||BMI='northwest 32.3'),\n",
              " Row(age=31, sex='male', bmi=20.4, children=0, smoker='no', region='southwest', charges=3260.199, first_name='new', Region||BMI='southwest 20.4'),\n",
              " Row(age=52, sex='female', bmi=38.38, children=2, smoker='no', region='northeast', charges=11396.9002, first_name='new', Region||BMI='northeast 38.38'),\n",
              " Row(age=33, sex='female', bmi=24.31, children=0, smoker='no', region='southeast', charges=4185.0979, first_name='new', Region||BMI='southeast 24.31'),\n",
              " Row(age=47, sex='female', bmi=23.6, children=1, smoker='no', region='southwest', charges=8539.671, first_name='new', Region||BMI='southwest 23.6'),\n",
              " Row(age=38, sex='male', bmi=21.12, children=3, smoker='no', region='southeast', charges=6652.5288, first_name='new', Region||BMI='southeast 21.12'),\n",
              " Row(age=32, sex='male', bmi=30.03, children=1, smoker='no', region='southeast', charges=4074.4537, first_name='new', Region||BMI='southeast 30.03'),\n",
              " Row(age=19, sex='male', bmi=17.48, children=0, smoker='no', region='northwest', charges=1621.3402, first_name='new', Region||BMI='northwest 17.48'),\n",
              " Row(age=44, sex='female', bmi=20.235, children=1, smoker='yes', region='northeast', charges=19594.80965, first_name='new', Region||BMI='northeast 20.235'),\n",
              " Row(age=26, sex='female', bmi=17.195, children=2, smoker='yes', region='northeast', charges=14455.64405, first_name='new', Region||BMI='northeast 17.195'),\n",
              " Row(age=25, sex='male', bmi=23.9, children=5, smoker='no', region='southwest', charges=5080.096, first_name='new', Region||BMI='southwest 23.9'),\n",
              " Row(age=19, sex='female', bmi=35.15, children=0, smoker='no', region='northwest', charges=2134.9015, first_name='new', Region||BMI='northwest 35.15'),\n",
              " Row(age=43, sex='female', bmi=35.64, children=1, smoker='no', region='southeast', charges=7345.7266, first_name='new', Region||BMI='southeast 35.64'),\n",
              " Row(age=52, sex='male', bmi=34.1, children=0, smoker='no', region='southeast', charges=9140.951, first_name='new', Region||BMI='southeast 34.1'),\n",
              " Row(age=36, sex='female', bmi=22.6, children=2, smoker='yes', region='southwest', charges=18608.262, first_name='new', Region||BMI='southwest 22.6'),\n",
              " Row(age=64, sex='male', bmi=39.16, children=1, smoker='no', region='southeast', charges=14418.2804, first_name='new', Region||BMI='southeast 39.16'),\n",
              " Row(age=63, sex='female', bmi=26.98, children=0, smoker='yes', region='northwest', charges=28950.4692, first_name='new', Region||BMI='northwest 26.98'),\n",
              " Row(age=64, sex='male', bmi=33.88, children=0, smoker='yes', region='southeast', charges=46889.2612, first_name='new', Region||BMI='southeast 33.88'),\n",
              " Row(age=61, sex='male', bmi=35.86, children=0, smoker='yes', region='southeast', charges=46599.1084, first_name='new', Region||BMI='southeast 35.86'),\n",
              " Row(age=40, sex='male', bmi=32.775, children=1, smoker='yes', region='northeast', charges=39125.33225, first_name='new', Region||BMI='northeast 32.775'),\n",
              " Row(age=25, sex='male', bmi=30.59, children=0, smoker='no', region='northeast', charges=2727.3951, first_name='new', Region||BMI='northeast 30.59'),\n",
              " Row(age=48, sex='male', bmi=30.2, children=2, smoker='no', region='southwest', charges=8968.33, first_name='new', Region||BMI='southwest 30.2'),\n",
              " Row(age=45, sex='male', bmi=24.31, children=5, smoker='no', region='southeast', charges=9788.8659, first_name='new', Region||BMI='southeast 24.31'),\n",
              " Row(age=38, sex='female', bmi=27.265, children=1, smoker='no', region='northeast', charges=6555.07035, first_name='new', Region||BMI='northeast 27.265'),\n",
              " Row(age=18, sex='female', bmi=29.165, children=0, smoker='no', region='northeast', charges=7323.734819, first_name='new', Region||BMI='northeast 29.165'),\n",
              " Row(age=21, sex='female', bmi=16.815, children=1, smoker='no', region='northeast', charges=3167.45585, first_name='new', Region||BMI='northeast 16.815'),\n",
              " Row(age=27, sex='female', bmi=30.4, children=3, smoker='no', region='northwest', charges=18804.7524, first_name='new', Region||BMI='northwest 30.4'),\n",
              " Row(age=19, sex='male', bmi=33.1, children=0, smoker='no', region='southwest', charges=23082.95533, first_name='new', Region||BMI='southwest 33.1'),\n",
              " Row(age=29, sex='female', bmi=20.235, children=2, smoker='no', region='northwest', charges=4906.40965, first_name='new', Region||BMI='northwest 20.235'),\n",
              " Row(age=42, sex='male', bmi=26.9, children=0, smoker='no', region='southwest', charges=5969.723, first_name='new', Region||BMI='southwest 26.9'),\n",
              " Row(age=60, sex='female', bmi=30.5, children=0, smoker='no', region='southwest', charges=12638.195, first_name='new', Region||BMI='southwest 30.5'),\n",
              " Row(age=31, sex='male', bmi=28.595, children=1, smoker='no', region='northwest', charges=4243.59005, first_name='new', Region||BMI='northwest 28.595'),\n",
              " Row(age=60, sex='male', bmi=33.11, children=3, smoker='no', region='southeast', charges=13919.8229, first_name='new', Region||BMI='southeast 33.11'),\n",
              " Row(age=22, sex='male', bmi=31.73, children=0, smoker='no', region='northeast', charges=2254.7967, first_name='new', Region||BMI='northeast 31.73'),\n",
              " Row(age=35, sex='male', bmi=28.9, children=3, smoker='no', region='southwest', charges=5926.846, first_name='new', Region||BMI='southwest 28.9'),\n",
              " Row(age=52, sex='female', bmi=46.75, children=5, smoker='no', region='southeast', charges=12592.5345, first_name='new', Region||BMI='southeast 46.75'),\n",
              " Row(age=26, sex='male', bmi=29.45, children=0, smoker='no', region='northeast', charges=2897.3235, first_name='new', Region||BMI='northeast 29.45'),\n",
              " Row(age=31, sex='female', bmi=32.68, children=1, smoker='no', region='northwest', charges=4738.2682, first_name='new', Region||BMI='northwest 32.68'),\n",
              " Row(age=33, sex='female', bmi=33.5, children=0, smoker='yes', region='southwest', charges=37079.372, first_name='new', Region||BMI='southwest 33.5'),\n",
              " Row(age=18, sex='male', bmi=43.01, children=0, smoker='no', region='southeast', charges=1149.3959, first_name='new', Region||BMI='southeast 43.01'),\n",
              " Row(age=59, sex='female', bmi=36.52, children=1, smoker='no', region='southeast', charges=28287.89766, first_name='new', Region||BMI='southeast 36.52'),\n",
              " Row(age=56, sex='male', bmi=26.695, children=1, smoker='yes', region='northwest', charges=26109.32905, first_name='new', Region||BMI='northwest 26.695'),\n",
              " Row(age=45, sex='female', bmi=33.1, children=0, smoker='no', region='southwest', charges=7345.084, first_name='new', Region||BMI='southwest 33.1'),\n",
              " Row(age=60, sex='male', bmi=29.64, children=0, smoker='no', region='northeast', charges=12730.9996, first_name='new', Region||BMI='northeast 29.64'),\n",
              " Row(age=56, sex='female', bmi=25.65, children=0, smoker='no', region='northwest', charges=11454.0215, first_name='new', Region||BMI='northwest 25.65'),\n",
              " Row(age=40, sex='female', bmi=29.6, children=0, smoker='no', region='southwest', charges=5910.944, first_name='new', Region||BMI='southwest 29.6'),\n",
              " Row(age=35, sex='male', bmi=38.6, children=1, smoker='no', region='southwest', charges=4762.329, first_name='new', Region||BMI='southwest 38.6'),\n",
              " Row(age=39, sex='male', bmi=29.6, children=4, smoker='no', region='southwest', charges=7512.267, first_name='new', Region||BMI='southwest 29.6'),\n",
              " Row(age=30, sex='male', bmi=24.13, children=1, smoker='no', region='northwest', charges=4032.2407, first_name='new', Region||BMI='northwest 24.13'),\n",
              " Row(age=24, sex='male', bmi=23.4, children=0, smoker='no', region='southwest', charges=1969.614, first_name='new', Region||BMI='southwest 23.4'),\n",
              " Row(age=20, sex='male', bmi=29.735, children=0, smoker='no', region='northwest', charges=1769.53165, first_name='new', Region||BMI='northwest 29.735'),\n",
              " Row(age=32, sex='male', bmi=46.53, children=2, smoker='no', region='southeast', charges=4686.3887, first_name='new', Region||BMI='southeast 46.53'),\n",
              " Row(age=59, sex='male', bmi=37.4, children=0, smoker='no', region='southwest', charges=21797.0004, first_name='new', Region||BMI='southwest 37.4'),\n",
              " Row(age=55, sex='female', bmi=30.14, children=2, smoker='no', region='southeast', charges=11881.9696, first_name='new', Region||BMI='southeast 30.14'),\n",
              " Row(age=57, sex='female', bmi=30.495, children=0, smoker='no', region='northwest', charges=11840.77505, first_name='new', Region||BMI='northwest 30.495'),\n",
              " Row(age=56, sex='male', bmi=39.6, children=0, smoker='no', region='southwest', charges=10601.412, first_name='new', Region||BMI='southwest 39.6'),\n",
              " Row(age=40, sex='female', bmi=33.0, children=3, smoker='no', region='southeast', charges=7682.67, first_name='new', Region||BMI='southeast 33.0'),\n",
              " Row(age=49, sex='female', bmi=36.63, children=3, smoker='no', region='southeast', charges=10381.4787, first_name='new', Region||BMI='southeast 36.63'),\n",
              " Row(age=42, sex='male', bmi=30.0, children=0, smoker='yes', region='southwest', charges=22144.032, first_name='new', Region||BMI='southwest 30.0'),\n",
              " Row(age=62, sex='female', bmi=38.095, children=2, smoker='no', region='northeast', charges=15230.32405, first_name='new', Region||BMI='northeast 38.095'),\n",
              " Row(age=56, sex='male', bmi=25.935, children=0, smoker='no', region='northeast', charges=11165.41765, first_name='new', Region||BMI='northeast 25.935'),\n",
              " Row(age=19, sex='male', bmi=25.175, children=0, smoker='no', region='northwest', charges=1632.03625, first_name='new', Region||BMI='northwest 25.175'),\n",
              " Row(age=30, sex='female', bmi=28.38, children=1, smoker='yes', region='southeast', charges=19521.9682, first_name='new', Region||BMI='southeast 28.38'),\n",
              " Row(age=60, sex='female', bmi=28.7, children=1, smoker='no', region='southwest', charges=13224.693, first_name='new', Region||BMI='southwest 28.7'),\n",
              " Row(age=56, sex='female', bmi=33.82, children=2, smoker='no', region='northwest', charges=12643.3778, first_name='new', Region||BMI='northwest 33.82'),\n",
              " Row(age=28, sex='female', bmi=24.32, children=1, smoker='no', region='northeast', charges=23288.9284, first_name='new', Region||BMI='northeast 24.32'),\n",
              " Row(age=18, sex='female', bmi=24.09, children=1, smoker='no', region='southeast', charges=2201.0971, first_name='new', Region||BMI='southeast 24.09'),\n",
              " Row(age=27, sex='male', bmi=32.67, children=0, smoker='no', region='southeast', charges=2497.0383, first_name='new', Region||BMI='southeast 32.67'),\n",
              " Row(age=18, sex='female', bmi=30.115, children=0, smoker='no', region='northeast', charges=2203.47185, first_name='new', Region||BMI='northeast 30.115'),\n",
              " Row(age=19, sex='female', bmi=29.8, children=0, smoker='no', region='southwest', charges=1744.465, first_name='new', Region||BMI='southwest 29.8'),\n",
              " Row(age=47, sex='female', bmi=33.345, children=0, smoker='no', region='northeast', charges=20878.78443, first_name='new', Region||BMI='northeast 33.345'),\n",
              " Row(age=54, sex='male', bmi=25.1, children=3, smoker='yes', region='southwest', charges=25382.297, first_name='new', Region||BMI='southwest 25.1'),\n",
              " Row(age=61, sex='male', bmi=28.31, children=1, smoker='yes', region='northwest', charges=28868.6639, first_name='new', Region||BMI='northwest 28.31'),\n",
              " Row(age=24, sex='male', bmi=28.5, children=0, smoker='yes', region='northeast', charges=35147.52848, first_name='new', Region||BMI='northeast 28.5'),\n",
              " Row(age=25, sex='male', bmi=35.625, children=0, smoker='no', region='northwest', charges=2534.39375, first_name='new', Region||BMI='northwest 35.625'),\n",
              " Row(age=21, sex='male', bmi=36.85, children=0, smoker='no', region='southeast', charges=1534.3045, first_name='new', Region||BMI='southeast 36.85'),\n",
              " Row(age=23, sex='male', bmi=32.56, children=0, smoker='no', region='southeast', charges=1824.2854, first_name='new', Region||BMI='southeast 32.56'),\n",
              " Row(age=63, sex='male', bmi=41.325, children=3, smoker='no', region='northwest', charges=15555.18875, first_name='new', Region||BMI='northwest 41.325'),\n",
              " Row(age=49, sex='male', bmi=37.51, children=2, smoker='no', region='southeast', charges=9304.7019, first_name='new', Region||BMI='southeast 37.51'),\n",
              " Row(age=18, sex='female', bmi=31.35, children=0, smoker='no', region='southeast', charges=1622.1885, first_name='new', Region||BMI='southeast 31.35'),\n",
              " Row(age=51, sex='female', bmi=39.5, children=1, smoker='no', region='southwest', charges=9880.068, first_name='new', Region||BMI='southwest 39.5'),\n",
              " Row(age=48, sex='male', bmi=34.3, children=3, smoker='no', region='southwest', charges=9563.029, first_name='new', Region||BMI='southwest 34.3'),\n",
              " Row(age=31, sex='female', bmi=31.065, children=0, smoker='no', region='northeast', charges=4347.02335, first_name='new', Region||BMI='northeast 31.065'),\n",
              " Row(age=54, sex='female', bmi=21.47, children=3, smoker='no', region='northwest', charges=12475.3513, first_name='new', Region||BMI='northwest 21.47'),\n",
              " Row(age=19, sex='male', bmi=28.7, children=0, smoker='no', region='southwest', charges=1253.936, first_name='new', Region||BMI='southwest 28.7'),\n",
              " Row(age=44, sex='female', bmi=38.06, children=0, smoker='yes', region='southeast', charges=48885.13561, first_name='new', Region||BMI='southeast 38.06'),\n",
              " Row(age=53, sex='male', bmi=31.16, children=1, smoker='no', region='northwest', charges=10461.9794, first_name='new', Region||BMI='northwest 31.16'),\n",
              " Row(age=19, sex='female', bmi=32.9, children=0, smoker='no', region='southwest', charges=1748.774, first_name='new', Region||BMI='southwest 32.9'),\n",
              " Row(age=61, sex='female', bmi=25.08, children=0, smoker='no', region='southeast', charges=24513.09126, first_name='new', Region||BMI='southeast 25.08'),\n",
              " Row(age=18, sex='female', bmi=25.08, children=0, smoker='no', region='northeast', charges=2196.4732, first_name='new', Region||BMI='northeast 25.08'),\n",
              " Row(age=61, sex='male', bmi=43.4, children=0, smoker='no', region='southwest', charges=12574.049, first_name='new', Region||BMI='southwest 43.4'),\n",
              " Row(age=21, sex='male', bmi=25.7, children=4, smoker='yes', region='southwest', charges=17942.106, first_name='new', Region||BMI='southwest 25.7'),\n",
              " Row(age=20, sex='male', bmi=27.93, children=0, smoker='no', region='northeast', charges=1967.0227, first_name='new', Region||BMI='northeast 27.93'),\n",
              " Row(age=31, sex='female', bmi=23.6, children=2, smoker='no', region='southwest', charges=4931.647, first_name='new', Region||BMI='southwest 23.6'),\n",
              " Row(age=45, sex='male', bmi=28.7, children=2, smoker='no', region='southwest', charges=8027.968, first_name='new', Region||BMI='southwest 28.7'),\n",
              " Row(age=44, sex='female', bmi=23.98, children=2, smoker='no', region='southeast', charges=8211.1002, first_name='new', Region||BMI='southeast 23.98'),\n",
              " Row(age=62, sex='female', bmi=39.2, children=0, smoker='no', region='southwest', charges=13470.86, first_name='new', Region||BMI='southwest 39.2'),\n",
              " Row(age=29, sex='male', bmi=34.4, children=0, smoker='yes', region='southwest', charges=36197.699, first_name='new', Region||BMI='southwest 34.4'),\n",
              " Row(age=43, sex='male', bmi=26.03, children=0, smoker='no', region='northeast', charges=6837.3687, first_name='new', Region||BMI='northeast 26.03'),\n",
              " Row(age=51, sex='male', bmi=23.21, children=1, smoker='yes', region='southeast', charges=22218.1149, first_name='new', Region||BMI='southeast 23.21'),\n",
              " Row(age=19, sex='male', bmi=30.25, children=0, smoker='yes', region='southeast', charges=32548.3405, first_name='new', Region||BMI='southeast 30.25'),\n",
              " Row(age=38, sex='female', bmi=28.93, children=1, smoker='no', region='southeast', charges=5974.3847, first_name='new', Region||BMI='southeast 28.93'),\n",
              " Row(age=37, sex='male', bmi=30.875, children=3, smoker='no', region='northwest', charges=6796.86325, first_name='new', Region||BMI='northwest 30.875'),\n",
              " Row(age=22, sex='male', bmi=31.35, children=1, smoker='no', region='northwest', charges=2643.2685, first_name='new', Region||BMI='northwest 31.35'),\n",
              " Row(age=21, sex='male', bmi=23.75, children=2, smoker='no', region='northwest', charges=3077.0955, first_name='new', Region||BMI='northwest 23.75'),\n",
              " Row(age=24, sex='female', bmi=25.27, children=0, smoker='no', region='northeast', charges=3044.2133, first_name='new', Region||BMI='northeast 25.27'),\n",
              " Row(age=57, sex='female', bmi=28.7, children=0, smoker='no', region='southwest', charges=11455.28, first_name='new', Region||BMI='southwest 28.7'),\n",
              " Row(age=56, sex='male', bmi=32.11, children=1, smoker='no', region='northeast', charges=11763.0009, first_name='new', Region||BMI='northeast 32.11'),\n",
              " Row(age=27, sex='male', bmi=33.66, children=0, smoker='no', region='southeast', charges=2498.4144, first_name='new', Region||BMI='southeast 33.66'),\n",
              " Row(age=51, sex='male', bmi=22.42, children=0, smoker='no', region='northeast', charges=9361.3268, first_name='new', Region||BMI='northeast 22.42'),\n",
              " Row(age=19, sex='male', bmi=30.4, children=0, smoker='no', region='southwest', charges=1256.299, first_name='new', Region||BMI='southwest 30.4'),\n",
              " Row(age=39, sex='male', bmi=28.3, children=1, smoker='yes', region='southwest', charges=21082.16, first_name='new', Region||BMI='southwest 28.3'),\n",
              " Row(age=58, sex='male', bmi=35.7, children=0, smoker='no', region='southwest', charges=11362.755, first_name='new', Region||BMI='southwest 35.7'),\n",
              " Row(age=20, sex='male', bmi=35.31, children=1, smoker='no', region='southeast', charges=27724.28875, first_name='new', Region||BMI='southeast 35.31'),\n",
              " Row(age=45, sex='male', bmi=30.495, children=2, smoker='no', region='northwest', charges=8413.46305, first_name='new', Region||BMI='northwest 30.495'),\n",
              " Row(age=35, sex='female', bmi=31.0, children=1, smoker='no', region='southwest', charges=5240.765, first_name='new', Region||BMI='southwest 31.0'),\n",
              " Row(age=31, sex='male', bmi=30.875, children=0, smoker='no', region='northeast', charges=3857.75925, first_name='new', Region||BMI='northeast 30.875'),\n",
              " Row(age=50, sex='female', bmi=27.36, children=0, smoker='no', region='northeast', charges=25656.57526, first_name='new', Region||BMI='northeast 27.36'),\n",
              " Row(age=32, sex='female', bmi=44.22, children=0, smoker='no', region='southeast', charges=3994.1778, first_name='new', Region||BMI='southeast 44.22'),\n",
              " Row(age=51, sex='female', bmi=33.915, children=0, smoker='no', region='northeast', charges=9866.30485, first_name='new', Region||BMI='northeast 33.915'),\n",
              " Row(age=38, sex='female', bmi=37.73, children=0, smoker='no', region='southeast', charges=5397.6167, first_name='new', Region||BMI='southeast 37.73'),\n",
              " Row(age=42, sex='male', bmi=26.07, children=1, smoker='yes', region='southeast', charges=38245.59327, first_name='new', Region||BMI='southeast 26.07'),\n",
              " Row(age=18, sex='female', bmi=33.88, children=0, smoker='no', region='southeast', charges=11482.63485, first_name='new', Region||BMI='southeast 33.88'),\n",
              " Row(age=19, sex='female', bmi=30.59, children=2, smoker='no', region='northwest', charges=24059.68019, first_name='new', Region||BMI='northwest 30.59'),\n",
              " Row(age=51, sex='female', bmi=25.8, children=1, smoker='no', region='southwest', charges=9861.025, first_name='new', Region||BMI='southwest 25.8'),\n",
              " Row(age=46, sex='male', bmi=39.425, children=1, smoker='no', region='northeast', charges=8342.90875, first_name='new', Region||BMI='northeast 39.425'),\n",
              " Row(age=18, sex='male', bmi=25.46, children=0, smoker='no', region='northeast', charges=1708.0014, first_name='new', Region||BMI='northeast 25.46'),\n",
              " Row(age=57, sex='male', bmi=42.13, children=1, smoker='yes', region='southeast', charges=48675.5177, first_name='new', Region||BMI='southeast 42.13'),\n",
              " Row(age=62, sex='female', bmi=31.73, children=0, smoker='no', region='northeast', charges=14043.4767, first_name='new', Region||BMI='northeast 31.73'),\n",
              " Row(age=59, sex='male', bmi=29.7, children=2, smoker='no', region='southeast', charges=12925.886, first_name='new', Region||BMI='southeast 29.7'),\n",
              " Row(age=37, sex='male', bmi=36.19, children=0, smoker='no', region='southeast', charges=19214.70553, first_name='new', Region||BMI='southeast 36.19'),\n",
              " Row(age=64, sex='male', bmi=40.48, children=0, smoker='no', region='southeast', charges=13831.1152, first_name='new', Region||BMI='southeast 40.48'),\n",
              " Row(age=38, sex='male', bmi=28.025, children=1, smoker='no', region='northeast', charges=6067.12675, first_name='new', Region||BMI='northeast 28.025'),\n",
              " Row(age=33, sex='female', bmi=38.9, children=3, smoker='no', region='southwest', charges=5972.378, first_name='new', Region||BMI='southwest 38.9'),\n",
              " Row(age=46, sex='female', bmi=30.2, children=2, smoker='no', region='southwest', charges=8825.086, first_name='new', Region||BMI='southwest 30.2'),\n",
              " Row(age=46, sex='female', bmi=28.05, children=1, smoker='no', region='southeast', charges=8233.0975, first_name='new', Region||BMI='southeast 28.05'),\n",
              " Row(age=53, sex='male', bmi=31.35, children=0, smoker='no', region='southeast', charges=27346.04207, first_name='new', Region||BMI='southeast 31.35'),\n",
              " Row(age=34, sex='female', bmi=38.0, children=3, smoker='no', region='southwest', charges=6196.448, first_name='new', Region||BMI='southwest 38.0'),\n",
              " Row(age=20, sex='female', bmi=31.79, children=2, smoker='no', region='southeast', charges=3056.3881, first_name='new', Region||BMI='southeast 31.79'),\n",
              " Row(age=63, sex='female', bmi=36.3, children=0, smoker='no', region='southeast', charges=13887.204, first_name='new', Region||BMI='southeast 36.3'),\n",
              " Row(age=54, sex='female', bmi=47.41, children=0, smoker='yes', region='southeast', charges=63770.42801, first_name='new', Region||BMI='southeast 47.41'),\n",
              " Row(age=54, sex='male', bmi=30.21, children=0, smoker='no', region='northwest', charges=10231.4999, first_name='new', Region||BMI='northwest 30.21'),\n",
              " Row(age=49, sex='male', bmi=25.84, children=2, smoker='yes', region='northwest', charges=23807.2406, first_name='new', Region||BMI='northwest 25.84'),\n",
              " Row(age=28, sex='male', bmi=35.435, children=0, smoker='no', region='northeast', charges=3268.84665, first_name='new', Region||BMI='northeast 35.435'),\n",
              " Row(age=54, sex='female', bmi=46.7, children=2, smoker='no', region='southwest', charges=11538.421, first_name='new', Region||BMI='southwest 46.7'),\n",
              " Row(age=25, sex='female', bmi=28.595, children=0, smoker='no', region='northeast', charges=3213.62205, first_name='new', Region||BMI='northeast 28.595'),\n",
              " Row(age=43, sex='female', bmi=46.2, children=0, smoker='yes', region='southeast', charges=45863.205, first_name='new', Region||BMI='southeast 46.2'),\n",
              " Row(age=63, sex='male', bmi=30.8, children=0, smoker='no', region='southwest', charges=13390.559, first_name='new', Region||BMI='southwest 30.8'),\n",
              " Row(age=32, sex='female', bmi=28.93, children=0, smoker='no', region='southeast', charges=3972.9247, first_name='new', Region||BMI='southeast 28.93'),\n",
              " Row(age=62, sex='male', bmi=21.4, children=0, smoker='no', region='southwest', charges=12957.118, first_name='new', Region||BMI='southwest 21.4'),\n",
              " Row(age=52, sex='female', bmi=31.73, children=2, smoker='no', region='northwest', charges=11187.6567, first_name='new', Region||BMI='northwest 31.73'),\n",
              " Row(age=25, sex='female', bmi=41.325, children=0, smoker='no', region='northeast', charges=17878.90068, first_name='new', Region||BMI='northeast 41.325'),\n",
              " Row(age=28, sex='male', bmi=23.8, children=2, smoker='no', region='southwest', charges=3847.674, first_name='new', Region||BMI='southwest 23.8'),\n",
              " Row(age=46, sex='male', bmi=33.44, children=1, smoker='no', region='northeast', charges=8334.5896, first_name='new', Region||BMI='northeast 33.44'),\n",
              " Row(age=34, sex='male', bmi=34.21, children=0, smoker='no', region='southeast', charges=3935.1799, first_name='new', Region||BMI='southeast 34.21'),\n",
              " Row(age=35, sex='female', bmi=34.105, children=3, smoker='yes', region='northwest', charges=39983.42595, first_name='new', Region||BMI='northwest 34.105'),\n",
              " Row(age=19, sex='male', bmi=35.53, children=0, smoker='no', region='northwest', charges=1646.4297, first_name='new', Region||BMI='northwest 35.53'),\n",
              " Row(age=46, sex='female', bmi=19.95, children=2, smoker='no', region='northwest', charges=9193.8385, first_name='new', Region||BMI='northwest 19.95'),\n",
              " Row(age=54, sex='female', bmi=32.68, children=0, smoker='no', region='northeast', charges=10923.9332, first_name='new', Region||BMI='northeast 32.68'),\n",
              " Row(age=27, sex='male', bmi=30.5, children=0, smoker='no', region='southwest', charges=2494.022, first_name='new', Region||BMI='southwest 30.5'),\n",
              " Row(age=50, sex='male', bmi=44.77, children=1, smoker='no', region='southeast', charges=9058.7303, first_name='new', Region||BMI='southeast 44.77'),\n",
              " Row(age=18, sex='female', bmi=32.12, children=2, smoker='no', region='southeast', charges=2801.2588, first_name='new', Region||BMI='southeast 32.12'),\n",
              " Row(age=19, sex='female', bmi=30.495, children=0, smoker='no', region='northwest', charges=2128.43105, first_name='new', Region||BMI='northwest 30.495'),\n",
              " Row(age=38, sex='female', bmi=40.565, children=1, smoker='no', region='northwest', charges=6373.55735, first_name='new', Region||BMI='northwest 40.565'),\n",
              " Row(age=41, sex='male', bmi=30.59, children=2, smoker='no', region='northwest', charges=7256.7231, first_name='new', Region||BMI='northwest 30.59'),\n",
              " Row(age=49, sex='female', bmi=31.9, children=5, smoker='no', region='southwest', charges=11552.904, first_name='new', Region||BMI='southwest 31.9'),\n",
              " Row(age=48, sex='male', bmi=40.565, children=2, smoker='yes', region='northwest', charges=45702.02235, first_name='new', Region||BMI='northwest 40.565'),\n",
              " Row(age=31, sex='female', bmi=29.1, children=0, smoker='no', region='southwest', charges=3761.292, first_name='new', Region||BMI='southwest 29.1'),\n",
              " Row(age=18, sex='female', bmi=37.29, children=1, smoker='no', region='southeast', charges=2219.4451, first_name='new', Region||BMI='southeast 37.29'),\n",
              " Row(age=30, sex='female', bmi=43.12, children=2, smoker='no', region='southeast', charges=4753.6368, first_name='new', Region||BMI='southeast 43.12'),\n",
              " Row(age=62, sex='female', bmi=36.86, children=1, smoker='no', region='northeast', charges=31620.00106, first_name='new', Region||BMI='northeast 36.86'),\n",
              " Row(age=57, sex='female', bmi=34.295, children=2, smoker='no', region='northeast', charges=13224.05705, first_name='new', Region||BMI='northeast 34.295'),\n",
              " Row(age=58, sex='female', bmi=27.17, children=0, smoker='no', region='northwest', charges=12222.8983, first_name='new', Region||BMI='northwest 27.17'),\n",
              " Row(age=22, sex='male', bmi=26.84, children=0, smoker='no', region='southeast', charges=1664.9996, first_name='new', Region||BMI='southeast 26.84'),\n",
              " Row(age=31, sex='female', bmi=38.095, children=1, smoker='yes', region='northeast', charges=58571.07448, first_name='new', Region||BMI='northeast 38.095'),\n",
              " Row(age=52, sex='male', bmi=30.2, children=1, smoker='no', region='southwest', charges=9724.53, first_name='new', Region||BMI='southwest 30.2'),\n",
              " Row(age=25, sex='female', bmi=23.465, children=0, smoker='no', region='northeast', charges=3206.49135, first_name='new', Region||BMI='northeast 23.465'),\n",
              " Row(age=59, sex='male', bmi=25.46, children=1, smoker='no', region='northeast', charges=12913.9924, first_name='new', Region||BMI='northeast 25.46'),\n",
              " Row(age=19, sex='male', bmi=30.59, children=0, smoker='no', region='northwest', charges=1639.5631, first_name='new', Region||BMI='northwest 30.59'),\n",
              " Row(age=39, sex='male', bmi=45.43, children=2, smoker='no', region='southeast', charges=6356.2707, first_name='new', Region||BMI='southeast 45.43'),\n",
              " Row(age=32, sex='female', bmi=23.65, children=1, smoker='no', region='southeast', charges=17626.23951, first_name='new', Region||BMI='southeast 23.65'),\n",
              " Row(age=19, sex='male', bmi=20.7, children=0, smoker='no', region='southwest', charges=1242.816, first_name='new', Region||BMI='southwest 20.7'),\n",
              " Row(age=33, sex='female', bmi=28.27, children=1, smoker='no', region='southeast', charges=4779.6023, first_name='new', Region||BMI='southeast 28.27'),\n",
              " Row(age=21, sex='male', bmi=20.235, children=3, smoker='no', region='northeast', charges=3861.20965, first_name='new', Region||BMI='northeast 20.235'),\n",
              " Row(age=34, sex='female', bmi=30.21, children=1, smoker='yes', region='northwest', charges=43943.8761, first_name='new', Region||BMI='northwest 30.21'),\n",
              " Row(age=61, sex='female', bmi=35.91, children=0, smoker='no', region='northeast', charges=13635.6379, first_name='new', Region||BMI='northeast 35.91'),\n",
              " Row(age=38, sex='female', bmi=30.69, children=1, smoker='no', region='southeast', charges=5976.8311, first_name='new', Region||BMI='southeast 30.69'),\n",
              " Row(age=58, sex='female', bmi=29.0, children=0, smoker='no', region='southwest', charges=11842.442, first_name='new', Region||BMI='southwest 29.0'),\n",
              " Row(age=47, sex='male', bmi=19.57, children=1, smoker='no', region='northwest', charges=8428.0693, first_name='new', Region||BMI='northwest 19.57'),\n",
              " Row(age=20, sex='male', bmi=31.13, children=2, smoker='no', region='southeast', charges=2566.4707, first_name='new', Region||BMI='southeast 31.13'),\n",
              " Row(age=21, sex='female', bmi=21.85, children=1, smoker='yes', region='northeast', charges=15359.1045, first_name='new', Region||BMI='northeast 21.85'),\n",
              " Row(age=41, sex='male', bmi=40.26, children=0, smoker='no', region='southeast', charges=5709.1644, first_name='new', Region||BMI='southeast 40.26'),\n",
              " Row(age=46, sex='female', bmi=33.725, children=1, smoker='no', region='northeast', charges=8823.98575, first_name='new', Region||BMI='northeast 33.725'),\n",
              " Row(age=42, sex='female', bmi=29.48, children=2, smoker='no', region='southeast', charges=7640.3092, first_name='new', Region||BMI='southeast 29.48'),\n",
              " Row(age=34, sex='female', bmi=33.25, children=1, smoker='no', region='northeast', charges=5594.8455, first_name='new', Region||BMI='northeast 33.25'),\n",
              " Row(age=43, sex='male', bmi=32.6, children=2, smoker='no', region='southwest', charges=7441.501, first_name='new', Region||BMI='southwest 32.6'),\n",
              " Row(age=52, sex='female', bmi=37.525, children=2, smoker='no', region='northwest', charges=33471.97189, first_name='new', Region||BMI='northwest 37.525'),\n",
              " Row(age=18, sex='female', bmi=39.16, children=0, smoker='no', region='southeast', charges=1633.0444, first_name='new', Region||BMI='southeast 39.16'),\n",
              " Row(age=51, sex='male', bmi=31.635, children=0, smoker='no', region='northwest', charges=9174.13565, first_name='new', Region||BMI='northwest 31.635'),\n",
              " Row(age=56, sex='female', bmi=25.3, children=0, smoker='no', region='southwest', charges=11070.535, first_name='new', Region||BMI='southwest 25.3'),\n",
              " Row(age=64, sex='female', bmi=39.05, children=3, smoker='no', region='southeast', charges=16085.1275, first_name='new', Region||BMI='southeast 39.05'),\n",
              " Row(age=19, sex='female', bmi=28.31, children=0, smoker='yes', region='northwest', charges=17468.9839, first_name='new', Region||BMI='northwest 28.31'),\n",
              " Row(age=51, sex='female', bmi=34.1, children=0, smoker='no', region='southeast', charges=9283.562, first_name='new', Region||BMI='southeast 34.1'),\n",
              " Row(age=27, sex='female', bmi=25.175, children=0, smoker='no', region='northeast', charges=3558.62025, first_name='new', Region||BMI='northeast 25.175'),\n",
              " Row(age=59, sex='female', bmi=23.655, children=0, smoker='yes', region='northwest', charges=25678.77845, first_name='new', Region||BMI='northwest 23.655'),\n",
              " Row(age=28, sex='male', bmi=26.98, children=2, smoker='no', region='northeast', charges=4435.0942, first_name='new', Region||BMI='northeast 26.98'),\n",
              " Row(age=30, sex='male', bmi=37.8, children=2, smoker='yes', region='southwest', charges=39241.442, first_name='new', Region||BMI='southwest 37.8'),\n",
              " Row(age=47, sex='female', bmi=29.37, children=1, smoker='no', region='southeast', charges=8547.6913, first_name='new', Region||BMI='southeast 29.37'),\n",
              " Row(age=38, sex='female', bmi=34.8, children=2, smoker='no', region='southwest', charges=6571.544, first_name='new', Region||BMI='southwest 34.8'),\n",
              " Row(age=18, sex='female', bmi=33.155, children=0, smoker='no', region='northeast', charges=2207.69745, first_name='new', Region||BMI='northeast 33.155'),\n",
              " Row(age=34, sex='female', bmi=19.0, children=3, smoker='no', region='northeast', charges=6753.038, first_name='new', Region||BMI='northeast 19.0'),\n",
              " Row(age=20, sex='female', bmi=33.0, children=0, smoker='no', region='southeast', charges=1880.07, first_name='new', Region||BMI='southeast 33.0'),\n",
              " Row(age=47, sex='female', bmi=36.63, children=1, smoker='yes', region='southeast', charges=42969.8527, first_name='new', Region||BMI='southeast 36.63'),\n",
              " Row(age=56, sex='female', bmi=28.595, children=0, smoker='no', region='northeast', charges=11658.11505, first_name='new', Region||BMI='northeast 28.595'),\n",
              " Row(age=49, sex='male', bmi=25.6, children=2, smoker='yes', region='southwest', charges=23306.547, first_name='new', Region||BMI='southwest 25.6'),\n",
              " Row(age=19, sex='female', bmi=33.11, children=0, smoker='yes', region='southeast', charges=34439.8559, first_name='new', Region||BMI='southeast 33.11'),\n",
              " Row(age=55, sex='female', bmi=37.1, children=0, smoker='no', region='southwest', charges=10713.644, first_name='new', Region||BMI='southwest 37.1'),\n",
              " Row(age=30, sex='male', bmi=31.4, children=1, smoker='no', region='southwest', charges=3659.346, first_name='new', Region||BMI='southwest 31.4'),\n",
              " Row(age=37, sex='male', bmi=34.1, children=4, smoker='yes', region='southwest', charges=40182.246, first_name='new', Region||BMI='southwest 34.1'),\n",
              " Row(age=49, sex='female', bmi=21.3, children=1, smoker='no', region='southwest', charges=9182.17, first_name='new', Region||BMI='southwest 21.3'),\n",
              " Row(age=18, sex='male', bmi=33.535, children=0, smoker='yes', region='northeast', charges=34617.84065, first_name='new', Region||BMI='northeast 33.535'),\n",
              " Row(age=59, sex='male', bmi=28.785, children=0, smoker='no', region='northwest', charges=12129.61415, first_name='new', Region||BMI='northwest 28.785'),\n",
              " Row(age=29, sex='female', bmi=26.03, children=0, smoker='no', region='northwest', charges=3736.4647, first_name='new', Region||BMI='northwest 26.03'),\n",
              " Row(age=36, sex='male', bmi=28.88, children=3, smoker='no', region='northeast', charges=6748.5912, first_name='new', Region||BMI='northeast 28.88'),\n",
              " Row(age=33, sex='male', bmi=42.46, children=1, smoker='no', region='southeast', charges=11326.71487, first_name='new', Region||BMI='southeast 42.46'),\n",
              " Row(age=58, sex='male', bmi=38.0, children=0, smoker='no', region='southwest', charges=11365.952, first_name='new', Region||BMI='southwest 38.0'),\n",
              " Row(age=44, sex='female', bmi=38.95, children=0, smoker='yes', region='northwest', charges=42983.4585, first_name='new', Region||BMI='northwest 38.95'),\n",
              " Row(age=53, sex='male', bmi=36.1, children=1, smoker='no', region='southwest', charges=10085.846, first_name='new', Region||BMI='southwest 36.1'),\n",
              " Row(age=24, sex='male', bmi=29.3, children=0, smoker='no', region='southwest', charges=1977.815, first_name='new', Region||BMI='southwest 29.3'),\n",
              " Row(age=29, sex='female', bmi=35.53, children=0, smoker='no', region='southeast', charges=3366.6697, first_name='new', Region||BMI='southeast 35.53'),\n",
              " Row(age=40, sex='male', bmi=22.705, children=2, smoker='no', region='northeast', charges=7173.35995, first_name='new', Region||BMI='northeast 22.705'),\n",
              " Row(age=51, sex='male', bmi=39.7, children=1, smoker='no', region='southwest', charges=9391.346, first_name='new', Region||BMI='southwest 39.7'),\n",
              " Row(age=64, sex='male', bmi=38.19, children=0, smoker='no', region='northeast', charges=14410.9321, first_name='new', Region||BMI='northeast 38.19'),\n",
              " Row(age=19, sex='female', bmi=24.51, children=1, smoker='no', region='northwest', charges=2709.1119, first_name='new', Region||BMI='northwest 24.51'),\n",
              " Row(age=35, sex='female', bmi=38.095, children=2, smoker='no', region='northeast', charges=24915.04626, first_name='new', Region||BMI='northeast 38.095'),\n",
              " Row(age=39, sex='male', bmi=26.41, children=0, smoker='yes', region='northeast', charges=20149.3229, first_name='new', Region||BMI='northeast 26.41'),\n",
              " Row(age=56, sex='male', bmi=33.66, children=4, smoker='no', region='southeast', charges=12949.1554, first_name='new', Region||BMI='southeast 33.66'),\n",
              " Row(age=33, sex='male', bmi=42.4, children=5, smoker='no', region='southwest', charges=6666.243, first_name='new', Region||BMI='southwest 42.4'),\n",
              " Row(age=42, sex='male', bmi=28.31, children=3, smoker='yes', region='northwest', charges=32787.45859, first_name='new', Region||BMI='northwest 28.31'),\n",
              " Row(age=61, sex='male', bmi=33.915, children=0, smoker='no', region='northeast', charges=13143.86485, first_name='new', Region||BMI='northeast 33.915'),\n",
              " Row(age=23, sex='female', bmi=34.96, children=3, smoker='no', region='northwest', charges=4466.6214, first_name='new', Region||BMI='northwest 34.96'),\n",
              " Row(age=43, sex='male', bmi=35.31, children=2, smoker='no', region='southeast', charges=18806.14547, first_name='new', Region||BMI='southeast 35.31'),\n",
              " Row(age=48, sex='male', bmi=30.78, children=3, smoker='no', region='northeast', charges=10141.1362, first_name='new', Region||BMI='northeast 30.78'),\n",
              " Row(age=39, sex='male', bmi=26.22, children=1, smoker='no', region='northwest', charges=6123.5688, first_name='new', Region||BMI='northwest 26.22'),\n",
              " Row(age=40, sex='female', bmi=23.37, children=3, smoker='no', region='northeast', charges=8252.2843, first_name='new', Region||BMI='northeast 23.37'),\n",
              " Row(age=18, sex='male', bmi=28.5, children=0, smoker='no', region='northeast', charges=1712.227, first_name='new', Region||BMI='northeast 28.5'),\n",
              " Row(age=58, sex='female', bmi=32.965, children=0, smoker='no', region='northeast', charges=12430.95335, first_name='new', Region||BMI='northeast 32.965'),\n",
              " Row(age=49, sex='female', bmi=42.68, children=2, smoker='no', region='southeast', charges=9800.8882, first_name='new', Region||BMI='southeast 42.68'),\n",
              " Row(age=53, sex='female', bmi=39.6, children=1, smoker='no', region='southeast', charges=10579.711, first_name='new', Region||BMI='southeast 39.6'),\n",
              " Row(age=48, sex='female', bmi=31.13, children=0, smoker='no', region='southeast', charges=8280.6227, first_name='new', Region||BMI='southeast 31.13'),\n",
              " Row(age=45, sex='female', bmi=36.3, children=2, smoker='no', region='southeast', charges=8527.532, first_name='new', Region||BMI='southeast 36.3'),\n",
              " Row(age=59, sex='female', bmi=35.2, children=0, smoker='no', region='southeast', charges=12244.531, first_name='new', Region||BMI='southeast 35.2'),\n",
              " Row(age=52, sex='female', bmi=25.3, children=2, smoker='yes', region='southeast', charges=24667.419, first_name='new', Region||BMI='southeast 25.3'),\n",
              " Row(age=26, sex='female', bmi=42.4, children=1, smoker='no', region='southwest', charges=3410.324, first_name='new', Region||BMI='southwest 42.4'),\n",
              " Row(age=27, sex='male', bmi=33.155, children=2, smoker='no', region='northwest', charges=4058.71245, first_name='new', Region||BMI='northwest 33.155'),\n",
              " Row(age=48, sex='female', bmi=35.91, children=1, smoker='no', region='northeast', charges=26392.26029, first_name='new', Region||BMI='northeast 35.91'),\n",
              " Row(age=57, sex='female', bmi=28.785, children=4, smoker='no', region='northeast', charges=14394.39815, first_name='new', Region||BMI='northeast 28.785'),\n",
              " Row(age=37, sex='male', bmi=46.53, children=3, smoker='no', region='southeast', charges=6435.6237, first_name='new', Region||BMI='southeast 46.53'),\n",
              " Row(age=57, sex='female', bmi=23.98, children=1, smoker='no', region='southeast', charges=22192.43711, first_name='new', Region||BMI='southeast 23.98'),\n",
              " Row(age=32, sex='female', bmi=31.54, children=1, smoker='no', region='northeast', charges=5148.5526, first_name='new', Region||BMI='northeast 31.54'),\n",
              " Row(age=18, sex='male', bmi=33.66, children=0, smoker='no', region='southeast', charges=1136.3994, first_name='new', Region||BMI='southeast 33.66'),\n",
              " Row(age=64, sex='female', bmi=22.99, children=0, smoker='yes', region='southeast', charges=27037.9141, first_name='new', Region||BMI='southeast 22.99'),\n",
              " Row(age=43, sex='male', bmi=38.06, children=2, smoker='yes', region='southeast', charges=42560.4304, first_name='new', Region||BMI='southeast 38.06'),\n",
              " Row(age=49, sex='male', bmi=28.7, children=1, smoker='no', region='southwest', charges=8703.456, first_name='new', Region||BMI='southwest 28.7'),\n",
              " Row(age=40, sex='female', bmi=32.775, children=2, smoker='yes', region='northwest', charges=40003.33225, first_name='new', Region||BMI='northwest 32.775'),\n",
              " Row(age=62, sex='male', bmi=32.015, children=0, smoker='yes', region='northeast', charges=45710.20785, first_name='new', Region||BMI='northeast 32.015'),\n",
              " Row(age=40, sex='female', bmi=29.81, children=1, smoker='no', region='southeast', charges=6500.2359, first_name='new', Region||BMI='southeast 29.81'),\n",
              " Row(age=30, sex='male', bmi=31.57, children=3, smoker='no', region='southeast', charges=4837.5823, first_name='new', Region||BMI='southeast 31.57'),\n",
              " Row(age=29, sex='female', bmi=31.16, children=0, smoker='no', region='northeast', charges=3943.5954, first_name='new', Region||BMI='northeast 31.16'),\n",
              " Row(age=36, sex='male', bmi=29.7, children=0, smoker='no', region='southeast', charges=4399.731, first_name='new', Region||BMI='southeast 29.7'),\n",
              " Row(age=41, sex='female', bmi=31.02, children=0, smoker='no', region='southeast', charges=6185.3208, first_name='new', Region||BMI='southeast 31.02'),\n",
              " Row(age=44, sex='female', bmi=43.89, children=2, smoker='yes', region='southeast', charges=46200.9851, first_name='new', Region||BMI='southeast 43.89'),\n",
              " Row(age=45, sex='male', bmi=21.375, children=0, smoker='no', region='northwest', charges=7222.78625, first_name='new', Region||BMI='northwest 21.375'),\n",
              " Row(age=55, sex='female', bmi=40.81, children=3, smoker='no', region='southeast', charges=12485.8009, first_name='new', Region||BMI='southeast 40.81'),\n",
              " Row(age=60, sex='male', bmi=31.35, children=3, smoker='yes', region='northwest', charges=46130.5265, first_name='new', Region||BMI='northwest 31.35'),\n",
              " Row(age=56, sex='male', bmi=36.1, children=3, smoker='no', region='southwest', charges=12363.547, first_name='new', Region||BMI='southwest 36.1'),\n",
              " Row(age=49, sex='female', bmi=23.18, children=2, smoker='no', region='northwest', charges=10156.7832, first_name='new', Region||BMI='northwest 23.18'),\n",
              " Row(age=21, sex='female', bmi=17.4, children=1, smoker='no', region='southwest', charges=2585.269, first_name='new', Region||BMI='southwest 17.4'),\n",
              " Row(age=19, sex='male', bmi=20.3, children=0, smoker='no', region='southwest', charges=1242.26, first_name='new', Region||BMI='southwest 20.3'),\n",
              " Row(age=39, sex='male', bmi=35.3, children=2, smoker='yes', region='southwest', charges=40103.89, first_name='new', Region||BMI='southwest 35.3'),\n",
              " Row(age=53, sex='male', bmi=24.32, children=0, smoker='no', region='northwest', charges=9863.4718, first_name='new', Region||BMI='northwest 24.32'),\n",
              " Row(age=33, sex='female', bmi=18.5, children=1, smoker='no', region='southwest', charges=4766.022, first_name='new', Region||BMI='southwest 18.5'),\n",
              " Row(age=53, sex='male', bmi=26.41, children=2, smoker='no', region='northeast', charges=11244.3769, first_name='new', Region||BMI='northeast 26.41'),\n",
              " Row(age=42, sex='male', bmi=26.125, children=2, smoker='no', region='northeast', charges=7729.64575, first_name='new', Region||BMI='northeast 26.125'),\n",
              " Row(age=40, sex='male', bmi=41.69, children=0, smoker='no', region='southeast', charges=5438.7491, first_name='new', Region||BMI='southeast 41.69'),\n",
              " Row(age=47, sex='female', bmi=24.1, children=1, smoker='no', region='southwest', charges=26236.57997, first_name='new', Region||BMI='southwest 24.1'),\n",
              " Row(age=27, sex='male', bmi=31.13, children=1, smoker='yes', region='southeast', charges=34806.4677, first_name='new', Region||BMI='southeast 31.13'),\n",
              " Row(age=21, sex='male', bmi=27.36, children=0, smoker='no', region='northeast', charges=2104.1134, first_name='new', Region||BMI='northeast 27.36'),\n",
              " Row(age=47, sex='male', bmi=36.2, children=1, smoker='no', region='southwest', charges=8068.185, first_name='new', Region||BMI='southwest 36.2'),\n",
              " Row(age=20, sex='male', bmi=32.395, children=1, smoker='no', region='northwest', charges=2362.22905, first_name='new', Region||BMI='northwest 32.395'),\n",
              " Row(age=24, sex='male', bmi=23.655, children=0, smoker='no', region='northwest', charges=2352.96845, first_name='new', Region||BMI='northwest 23.655'),\n",
              " Row(age=27, sex='female', bmi=34.8, children=1, smoker='no', region='southwest', charges=3577.999, first_name='new', Region||BMI='southwest 34.8'),\n",
              " Row(age=26, sex='female', bmi=40.185, children=0, smoker='no', region='northwest', charges=3201.24515, first_name='new', Region||BMI='northwest 40.185'),\n",
              " Row(age=53, sex='female', bmi=32.3, children=2, smoker='no', region='northeast', charges=29186.48236, first_name='new', Region||BMI='northeast 32.3'),\n",
              " Row(age=41, sex='male', bmi=35.75, children=1, smoker='yes', region='southeast', charges=40273.6455, first_name='new', Region||BMI='southeast 35.75'),\n",
              " Row(age=56, sex='male', bmi=33.725, children=0, smoker='no', region='northwest', charges=10976.24575, first_name='new', Region||BMI='northwest 33.725'),\n",
              " Row(age=23, sex='female', bmi=39.27, children=2, smoker='no', region='southeast', charges=3500.6123, first_name='new', Region||BMI='southeast 39.27'),\n",
              " Row(age=21, sex='female', bmi=34.87, children=0, smoker='no', region='southeast', charges=2020.5523, first_name='new', Region||BMI='southeast 34.87'),\n",
              " Row(age=50, sex='female', bmi=44.745, children=0, smoker='no', region='northeast', charges=9541.69555, first_name='new', Region||BMI='northeast 44.745'),\n",
              " Row(age=53, sex='male', bmi=41.47, children=0, smoker='no', region='southeast', charges=9504.3103, first_name='new', Region||BMI='southeast 41.47'),\n",
              " Row(age=34, sex='female', bmi=26.41, children=1, smoker='no', region='northwest', charges=5385.3379, first_name='new', Region||BMI='northwest 26.41'),\n",
              " Row(age=47, sex='female', bmi=29.545, children=1, smoker='no', region='northwest', charges=8930.93455, first_name='new', Region||BMI='northwest 29.545'),\n",
              " Row(age=33, sex='female', bmi=32.9, children=2, smoker='no', region='southwest', charges=5375.038, first_name='new', Region||BMI='southwest 32.9'),\n",
              " Row(age=51, sex='female', bmi=38.06, children=0, smoker='yes', region='southeast', charges=44400.4064, first_name='new', Region||BMI='southeast 38.06'),\n",
              " Row(age=49, sex='male', bmi=28.69, children=3, smoker='no', region='northwest', charges=10264.4421, first_name='new', Region||BMI='northwest 28.69'),\n",
              " Row(age=31, sex='female', bmi=30.495, children=3, smoker='no', region='northeast', charges=6113.23105, first_name='new', Region||BMI='northeast 30.495'),\n",
              " Row(age=36, sex='female', bmi=27.74, children=0, smoker='no', region='northeast', charges=5469.0066, first_name='new', Region||BMI='northeast 27.74'),\n",
              " Row(age=18, sex='male', bmi=35.2, children=1, smoker='no', region='southeast', charges=1727.54, first_name='new', Region||BMI='southeast 35.2'),\n",
              " Row(age=50, sex='female', bmi=23.54, children=2, smoker='no', region='southeast', charges=10107.2206, first_name='new', Region||BMI='southeast 23.54'),\n",
              " Row(age=43, sex='female', bmi=30.685, children=2, smoker='no', region='northwest', charges=8310.83915, first_name='new', Region||BMI='northwest 30.685'),\n",
              " Row(age=20, sex='male', bmi=40.47, children=0, smoker='no', region='northeast', charges=1984.4533, first_name='new', Region||BMI='northeast 40.47'),\n",
              " Row(age=24, sex='female', bmi=22.6, children=0, smoker='no', region='southwest', charges=2457.502, first_name='new', Region||BMI='southwest 22.6'),\n",
              " Row(age=60, sex='male', bmi=28.9, children=0, smoker='no', region='southwest', charges=12146.971, first_name='new', Region||BMI='southwest 28.9'),\n",
              " Row(age=49, sex='female', bmi=22.61, children=1, smoker='no', region='northwest', charges=9566.9909, first_name='new', Region||BMI='northwest 22.61'),\n",
              " Row(age=60, sex='male', bmi=24.32, children=1, smoker='no', region='northwest', charges=13112.6048, first_name='new', Region||BMI='northwest 24.32'),\n",
              " Row(age=51, sex='female', bmi=36.67, children=2, smoker='no', region='northwest', charges=10848.1343, first_name='new', Region||BMI='northwest 36.67'),\n",
              " Row(age=58, sex='female', bmi=33.44, children=0, smoker='no', region='northwest', charges=12231.6136, first_name='new', Region||BMI='northwest 33.44'),\n",
              " Row(age=51, sex='female', bmi=40.66, children=0, smoker='no', region='northeast', charges=9875.6804, first_name='new', Region||BMI='northeast 40.66'),\n",
              " Row(age=53, sex='male', bmi=36.6, children=3, smoker='no', region='southwest', charges=11264.541, first_name='new', Region||BMI='southwest 36.6'),\n",
              " Row(age=62, sex='male', bmi=37.4, children=0, smoker='no', region='southwest', charges=12979.358, first_name='new', Region||BMI='southwest 37.4'),\n",
              " Row(age=19, sex='male', bmi=35.4, children=0, smoker='no', region='southwest', charges=1263.249, first_name='new', Region||BMI='southwest 35.4'),\n",
              " Row(age=50, sex='female', bmi=27.075, children=1, smoker='no', region='northeast', charges=10106.13425, first_name='new', Region||BMI='northeast 27.075'),\n",
              " Row(age=30, sex='female', bmi=39.05, children=3, smoker='yes', region='southeast', charges=40932.4295, first_name='new', Region||BMI='southeast 39.05'),\n",
              " Row(age=41, sex='male', bmi=28.405, children=1, smoker='no', region='northwest', charges=6664.68595, first_name='new', Region||BMI='northwest 28.405'),\n",
              " Row(age=29, sex='female', bmi=21.755, children=1, smoker='yes', region='northeast', charges=16657.71745, first_name='new', Region||BMI='northeast 21.755'),\n",
              " Row(age=18, sex='female', bmi=40.28, children=0, smoker='no', region='northeast', charges=2217.6012, first_name='new', Region||BMI='northeast 40.28'),\n",
              " Row(age=41, sex='female', bmi=36.08, children=1, smoker='no', region='southeast', charges=6781.3542, first_name='new', Region||BMI='southeast 36.08'),\n",
              " Row(age=35, sex='male', bmi=24.42, children=3, smoker='yes', region='southeast', charges=19361.9988, first_name='new', Region||BMI='southeast 24.42'),\n",
              " Row(age=53, sex='male', bmi=21.4, children=1, smoker='no', region='southwest', charges=10065.413, first_name='new', Region||BMI='southwest 21.4'),\n",
              " Row(age=24, sex='female', bmi=30.1, children=3, smoker='no', region='southwest', charges=4234.927, first_name='new', Region||BMI='southwest 30.1'),\n",
              " Row(age=48, sex='female', bmi=27.265, children=1, smoker='no', region='northeast', charges=9447.25035, first_name='new', Region||BMI='northeast 27.265'),\n",
              " Row(age=59, sex='female', bmi=32.1, children=3, smoker='no', region='southwest', charges=14007.222, first_name='new', Region||BMI='southwest 32.1'),\n",
              " Row(age=49, sex='female', bmi=34.77, children=1, smoker='no', region='northwest', charges=9583.8933, first_name='new', Region||BMI='northwest 34.77'),\n",
              " Row(age=37, sex='female', bmi=38.39, children=0, smoker='yes', region='southeast', charges=40419.0191, first_name='new', Region||BMI='southeast 38.39'),\n",
              " Row(age=26, sex='male', bmi=23.7, children=2, smoker='no', region='southwest', charges=3484.331, first_name='new', Region||BMI='southwest 23.7'),\n",
              " Row(age=23, sex='male', bmi=31.73, children=3, smoker='yes', region='northeast', charges=36189.1017, first_name='new', Region||BMI='northeast 31.73'),\n",
              " Row(age=29, sex='male', bmi=35.5, children=2, smoker='yes', region='southwest', charges=44585.45587, first_name='new', Region||BMI='southwest 35.5'),\n",
              " Row(age=45, sex='male', bmi=24.035, children=2, smoker='no', region='northeast', charges=8604.48365, first_name='new', Region||BMI='northeast 24.035'),\n",
              " Row(age=27, sex='male', bmi=29.15, children=0, smoker='yes', region='southeast', charges=18246.4955, first_name='new', Region||BMI='southeast 29.15'),\n",
              " Row(age=53, sex='male', bmi=34.105, children=0, smoker='yes', region='northeast', charges=43254.41795, first_name='new', Region||BMI='northeast 34.105'),\n",
              " Row(age=31, sex='female', bmi=26.62, children=0, smoker='no', region='southeast', charges=3757.8448, first_name='new', Region||BMI='southeast 26.62'),\n",
              " Row(age=50, sex='male', bmi=26.41, children=0, smoker='no', region='northwest', charges=8827.2099, first_name='new', Region||BMI='northwest 26.41'),\n",
              " Row(age=50, sex='female', bmi=30.115, children=1, smoker='no', region='northwest', charges=9910.35985, first_name='new', Region||BMI='northwest 30.115'),\n",
              " Row(age=34, sex='male', bmi=27.0, children=2, smoker='no', region='southwest', charges=11737.84884, first_name='new', Region||BMI='southwest 27.0'),\n",
              " Row(age=19, sex='male', bmi=21.755, children=0, smoker='no', region='northwest', charges=1627.28245, first_name='new', Region||BMI='northwest 21.755'),\n",
              " Row(age=47, sex='female', bmi=36.0, children=1, smoker='no', region='southwest', charges=8556.907, first_name='new', Region||BMI='southwest 36.0'),\n",
              " Row(age=28, sex='male', bmi=30.875, children=0, smoker='no', region='northwest', charges=3062.50825, first_name='new', Region||BMI='northwest 30.875'),\n",
              " Row(age=37, sex='female', bmi=26.4, children=0, smoker='yes', region='southeast', charges=19539.243, first_name='new', Region||BMI='southeast 26.4'),\n",
              " Row(age=21, sex='male', bmi=28.975, children=0, smoker='no', region='northwest', charges=1906.35825, first_name='new', Region||BMI='northwest 28.975'),\n",
              " Row(age=64, sex='male', bmi=37.905, children=0, smoker='no', region='northwest', charges=14210.53595, first_name='new', Region||BMI='northwest 37.905'),\n",
              " Row(age=58, sex='female', bmi=22.77, children=0, smoker='no', region='southeast', charges=11833.7823, first_name='new', Region||BMI='southeast 22.77'),\n",
              " Row(age=24, sex='male', bmi=33.63, children=4, smoker='no', region='northeast', charges=17128.42608, first_name='new', Region||BMI='northeast 33.63'),\n",
              " Row(age=31, sex='male', bmi=27.645, children=2, smoker='no', region='northeast', charges=5031.26955, first_name='new', Region||BMI='northeast 27.645'),\n",
              " Row(age=39, sex='female', bmi=22.8, children=3, smoker='no', region='northeast', charges=7985.815, first_name='new', Region||BMI='northeast 22.8'),\n",
              " Row(age=47, sex='female', bmi=27.83, children=0, smoker='yes', region='southeast', charges=23065.4207, first_name='new', Region||BMI='southeast 27.83'),\n",
              " Row(age=30, sex='male', bmi=37.43, children=3, smoker='no', region='northeast', charges=5428.7277, first_name='new', Region||BMI='northeast 37.43'),\n",
              " Row(age=18, sex='male', bmi=38.17, children=0, smoker='yes', region='southeast', charges=36307.7983, first_name='new', Region||BMI='southeast 38.17'),\n",
              " Row(age=22, sex='female', bmi=34.58, children=2, smoker='no', region='northeast', charges=3925.7582, first_name='new', Region||BMI='northeast 34.58'),\n",
              " Row(age=23, sex='male', bmi=35.2, children=1, smoker='no', region='southwest', charges=2416.955, first_name='new', Region||BMI='southwest 35.2'),\n",
              " Row(age=33, sex='male', bmi=27.1, children=1, smoker='yes', region='southwest', charges=19040.876, first_name='new', Region||BMI='southwest 27.1'),\n",
              " Row(age=27, sex='male', bmi=26.03, children=0, smoker='no', region='northeast', charges=3070.8087, first_name='new', Region||BMI='northeast 26.03'),\n",
              " Row(age=45, sex='female', bmi=25.175, children=2, smoker='no', region='northeast', charges=9095.06825, first_name='new', Region||BMI='northeast 25.175'),\n",
              " Row(age=57, sex='female', bmi=31.825, children=0, smoker='no', region='northwest', charges=11842.62375, first_name='new', Region||BMI='northwest 31.825'),\n",
              " Row(age=47, sex='male', bmi=32.3, children=1, smoker='no', region='southwest', charges=8062.764, first_name='new', Region||BMI='southwest 32.3'),\n",
              " Row(age=42, sex='female', bmi=29.0, children=1, smoker='no', region='southwest', charges=7050.642, first_name='new', Region||BMI='southwest 29.0'),\n",
              " Row(age=64, sex='female', bmi=39.7, children=0, smoker='no', region='southwest', charges=14319.031, first_name='new', Region||BMI='southwest 39.7'),\n",
              " Row(age=38, sex='female', bmi=19.475, children=2, smoker='no', region='northwest', charges=6933.24225, first_name='new', Region||BMI='northwest 19.475'),\n",
              " Row(age=61, sex='male', bmi=36.1, children=3, smoker='no', region='southwest', charges=27941.28758, first_name='new', Region||BMI='southwest 36.1'),\n",
              " Row(age=53, sex='female', bmi=26.7, children=2, smoker='no', region='southwest', charges=11150.78, first_name='new', Region||BMI='southwest 26.7'),\n",
              " Row(age=44, sex='female', bmi=36.48, children=0, smoker='no', region='northeast', charges=12797.20962, first_name='new', Region||BMI='northeast 36.48'),\n",
              " Row(age=19, sex='female', bmi=28.88, children=0, smoker='yes', region='northwest', charges=17748.5062, first_name='new', Region||BMI='northwest 28.88'),\n",
              " Row(age=41, sex='male', bmi=34.2, children=2, smoker='no', region='northwest', charges=7261.741, first_name='new', Region||BMI='northwest 34.2'),\n",
              " Row(age=51, sex='male', bmi=33.33, children=3, smoker='no', region='southeast', charges=10560.4917, first_name='new', Region||BMI='southeast 33.33'),\n",
              " Row(age=40, sex='male', bmi=32.3, children=2, smoker='no', region='northwest', charges=6986.697, first_name='new', Region||BMI='northwest 32.3'),\n",
              " Row(age=45, sex='male', bmi=39.805, children=0, smoker='no', region='northeast', charges=7448.40395, first_name='new', Region||BMI='northeast 39.805'),\n",
              " Row(age=35, sex='male', bmi=34.32, children=3, smoker='no', region='southeast', charges=5934.3798, first_name='new', Region||BMI='southeast 34.32'),\n",
              " Row(age=53, sex='male', bmi=28.88, children=0, smoker='no', region='northwest', charges=9869.8102, first_name='new', Region||BMI='northwest 28.88'),\n",
              " Row(age=30, sex='male', bmi=24.4, children=3, smoker='yes', region='southwest', charges=18259.216, first_name='new', Region||BMI='southwest 24.4'),\n",
              " Row(age=18, sex='male', bmi=41.14, children=0, smoker='no', region='southeast', charges=1146.7966, first_name='new', Region||BMI='southeast 41.14'),\n",
              " Row(age=51, sex='male', bmi=35.97, children=1, smoker='no', region='southeast', charges=9386.1613, first_name='new', Region||BMI='southeast 35.97'),\n",
              " Row(age=50, sex='female', bmi=27.6, children=1, smoker='yes', region='southwest', charges=24520.264, first_name='new', Region||BMI='southwest 27.6'),\n",
              " Row(age=31, sex='female', bmi=29.26, children=1, smoker='no', region='southeast', charges=4350.5144, first_name='new', Region||BMI='southeast 29.26'),\n",
              " Row(age=35, sex='female', bmi=27.7, children=3, smoker='no', region='southwest', charges=6414.178, first_name='new', Region||BMI='southwest 27.7'),\n",
              " Row(age=60, sex='male', bmi=36.955, children=0, smoker='no', region='northeast', charges=12741.16745, first_name='new', Region||BMI='northeast 36.955'),\n",
              " Row(age=21, sex='male', bmi=36.86, children=0, smoker='no', region='northwest', charges=1917.3184, first_name='new', Region||BMI='northwest 36.86'),\n",
              " Row(age=29, sex='male', bmi=22.515, children=3, smoker='no', region='northeast', charges=5209.57885, first_name='new', Region||BMI='northeast 22.515'),\n",
              " Row(age=62, sex='female', bmi=29.92, children=0, smoker='no', region='southeast', charges=13457.9608, first_name='new', Region||BMI='southeast 29.92'),\n",
              " Row(age=39, sex='female', bmi=41.8, children=0, smoker='no', region='southeast', charges=5662.225, first_name='new', Region||BMI='southeast 41.8'),\n",
              " Row(age=19, sex='male', bmi=27.6, children=0, smoker='no', region='southwest', charges=1252.407, first_name='new', Region||BMI='southwest 27.6'),\n",
              " Row(age=22, sex='female', bmi=23.18, children=0, smoker='no', region='northeast', charges=2731.9122, first_name='new', Region||BMI='northeast 23.18'),\n",
              " Row(age=53, sex='male', bmi=20.9, children=0, smoker='yes', region='southeast', charges=21195.818, first_name='new', Region||BMI='southeast 20.9'),\n",
              " Row(age=39, sex='female', bmi=31.92, children=2, smoker='no', region='northwest', charges=7209.4918, first_name='new', Region||BMI='northwest 31.92'),\n",
              " Row(age=27, sex='male', bmi=28.5, children=0, smoker='yes', region='northwest', charges=18310.742, first_name='new', Region||BMI='northwest 28.5'),\n",
              " Row(age=30, sex='male', bmi=44.22, children=2, smoker='no', region='southeast', charges=4266.1658, first_name='new', Region||BMI='southeast 44.22'),\n",
              " Row(age=30, sex='female', bmi=22.895, children=1, smoker='no', region='northeast', charges=4719.52405, first_name='new', Region||BMI='northeast 22.895'),\n",
              " Row(age=58, sex='female', bmi=33.1, children=0, smoker='no', region='southwest', charges=11848.141, first_name='new', Region||BMI='southwest 33.1'),\n",
              " Row(age=33, sex='male', bmi=24.795, children=0, smoker='yes', region='northeast', charges=17904.52705, first_name='new', Region||BMI='northeast 24.795'),\n",
              " Row(age=42, sex='female', bmi=26.18, children=1, smoker='no', region='southeast', charges=7046.7222, first_name='new', Region||BMI='southeast 26.18'),\n",
              " Row(age=64, sex='female', bmi=35.97, children=0, smoker='no', region='southeast', charges=14313.8463, first_name='new', Region||BMI='southeast 35.97'),\n",
              " Row(age=21, sex='male', bmi=22.3, children=1, smoker='no', region='southwest', charges=2103.08, first_name='new', Region||BMI='southwest 22.3'),\n",
              " Row(age=18, sex='female', bmi=42.24, children=0, smoker='yes', region='southeast', charges=38792.6856, first_name='new', Region||BMI='southeast 42.24'),\n",
              " Row(age=23, sex='male', bmi=26.51, children=0, smoker='no', region='southeast', charges=1815.8759, first_name='new', Region||BMI='southeast 26.51'),\n",
              " Row(age=45, sex='female', bmi=35.815, children=0, smoker='no', region='northwest', charges=7731.85785, first_name='new', Region||BMI='northwest 35.815'),\n",
              " Row(age=40, sex='female', bmi=41.42, children=1, smoker='no', region='northwest', charges=28476.73499, first_name='new', Region||BMI='northwest 41.42'),\n",
              " Row(age=19, sex='female', bmi=36.575, children=0, smoker='no', region='northwest', charges=2136.88225, first_name='new', Region||BMI='northwest 36.575'),\n",
              " Row(age=18, sex='male', bmi=30.14, children=0, smoker='no', region='southeast', charges=1131.5066, first_name='new', Region||BMI='southeast 30.14'),\n",
              " Row(age=25, sex='male', bmi=25.84, children=1, smoker='no', region='northeast', charges=3309.7926, first_name='new', Region||BMI='northeast 25.84'),\n",
              " Row(age=46, sex='female', bmi=30.8, children=3, smoker='no', region='southwest', charges=9414.92, first_name='new', Region||BMI='southwest 30.8'),\n",
              " Row(age=33, sex='female', bmi=42.94, children=3, smoker='no', region='northwest', charges=6360.9936, first_name='new', Region||BMI='northwest 42.94'),\n",
              " Row(age=54, sex='male', bmi=21.01, children=2, smoker='no', region='southeast', charges=11013.7119, first_name='new', Region||BMI='southeast 21.01'),\n",
              " Row(age=28, sex='male', bmi=22.515, children=2, smoker='no', region='northeast', charges=4428.88785, first_name='new', Region||BMI='northeast 22.515'),\n",
              " Row(age=36, sex='male', bmi=34.43, children=2, smoker='no', region='southeast', charges=5584.3057, first_name='new', Region||BMI='southeast 34.43'),\n",
              " Row(age=20, sex='female', bmi=31.46, children=0, smoker='no', region='southeast', charges=1877.9294, first_name='new', Region||BMI='southeast 31.46'),\n",
              " Row(age=24, sex='female', bmi=24.225, children=0, smoker='no', region='northwest', charges=2842.76075, first_name='new', Region||BMI='northwest 24.225'),\n",
              " Row(age=23, sex='male', bmi=37.1, children=3, smoker='no', region='southwest', charges=3597.596, first_name='new', Region||BMI='southwest 37.1'),\n",
              " Row(age=47, sex='female', bmi=26.125, children=1, smoker='yes', region='northeast', charges=23401.30575, first_name='new', Region||BMI='northeast 26.125'),\n",
              " Row(age=33, sex='female', bmi=35.53, children=0, smoker='yes', region='northwest', charges=55135.40209, first_name='new', Region||BMI='northwest 35.53'),\n",
              " Row(age=45, sex='male', bmi=33.7, children=1, smoker='no', region='southwest', charges=7445.918, first_name='new', Region||BMI='southwest 33.7'),\n",
              " Row(age=26, sex='male', bmi=17.67, children=0, smoker='no', region='northwest', charges=2680.9493, first_name='new', Region||BMI='northwest 17.67'),\n",
              " Row(age=18, sex='female', bmi=31.13, children=0, smoker='no', region='southeast', charges=1621.8827, first_name='new', Region||BMI='southeast 31.13'),\n",
              " Row(age=44, sex='female', bmi=29.81, children=2, smoker='no', region='southeast', charges=8219.2039, first_name='new', Region||BMI='southeast 29.81'),\n",
              " Row(age=60, sex='male', bmi=24.32, children=0, smoker='no', region='northwest', charges=12523.6048, first_name='new', Region||BMI='northwest 24.32'),\n",
              " Row(age=64, sex='female', bmi=31.825, children=2, smoker='no', region='northeast', charges=16069.08475, first_name='new', Region||BMI='northeast 31.825'),\n",
              " Row(age=56, sex='male', bmi=31.79, children=2, smoker='yes', region='southeast', charges=43813.8661, first_name='new', Region||BMI='southeast 31.79'),\n",
              " Row(age=36, sex='male', bmi=28.025, children=1, smoker='yes', region='northeast', charges=20773.62775, first_name='new', Region||BMI='northeast 28.025'),\n",
              " Row(age=41, sex='male', bmi=30.78, children=3, smoker='yes', region='northeast', charges=39597.4072, first_name='new', Region||BMI='northeast 30.78'),\n",
              " Row(age=39, sex='male', bmi=21.85, children=1, smoker='no', region='northwest', charges=6117.4945, first_name='new', Region||BMI='northwest 21.85'),\n",
              " Row(age=63, sex='male', bmi=33.1, children=0, smoker='no', region='southwest', charges=13393.756, first_name='new', Region||BMI='southwest 33.1'),\n",
              " Row(age=36, sex='female', bmi=25.84, children=0, smoker='no', region='northwest', charges=5266.3656, first_name='new', Region||BMI='northwest 25.84'),\n",
              " Row(age=28, sex='female', bmi=23.845, children=2, smoker='no', region='northwest', charges=4719.73655, first_name='new', Region||BMI='northwest 23.845'),\n",
              " Row(age=58, sex='male', bmi=34.39, children=0, smoker='no', region='northwest', charges=11743.9341, first_name='new', Region||BMI='northwest 34.39'),\n",
              " Row(age=36, sex='male', bmi=33.82, children=1, smoker='no', region='northwest', charges=5377.4578, first_name='new', Region||BMI='northwest 33.82'),\n",
              " Row(age=42, sex='male', bmi=35.97, children=2, smoker='no', region='southeast', charges=7160.3303, first_name='new', Region||BMI='southeast 35.97'),\n",
              " Row(age=36, sex='male', bmi=31.5, children=0, smoker='no', region='southwest', charges=4402.233, first_name='new', Region||BMI='southwest 31.5'),\n",
              " Row(age=56, sex='female', bmi=28.31, children=0, smoker='no', region='northeast', charges=11657.7189, first_name='new', Region||BMI='northeast 28.31'),\n",
              " Row(age=35, sex='female', bmi=23.465, children=2, smoker='no', region='northeast', charges=6402.29135, first_name='new', Region||BMI='northeast 23.465'),\n",
              " Row(age=59, sex='female', bmi=31.35, children=0, smoker='no', region='northwest', charges=12622.1795, first_name='new', Region||BMI='northwest 31.35'),\n",
              " Row(age=21, sex='male', bmi=31.1, children=0, smoker='no', region='southwest', charges=1526.312, first_name='new', Region||BMI='southwest 31.1'),\n",
              " Row(age=59, sex='male', bmi=24.7, children=0, smoker='no', region='northeast', charges=12323.936, first_name='new', Region||BMI='northeast 24.7'),\n",
              " Row(age=23, sex='female', bmi=32.78, children=2, smoker='yes', region='southeast', charges=36021.0112, first_name='new', Region||BMI='southeast 32.78'),\n",
              " Row(age=57, sex='female', bmi=29.81, children=0, smoker='yes', region='southeast', charges=27533.9129, first_name='new', Region||BMI='southeast 29.81'),\n",
              " Row(age=53, sex='male', bmi=30.495, children=0, smoker='no', region='northeast', charges=10072.05505, first_name='new', Region||BMI='northeast 30.495'),\n",
              " Row(age=60, sex='female', bmi=32.45, children=0, smoker='yes', region='southeast', charges=45008.9555, first_name='new', Region||BMI='southeast 32.45'),\n",
              " Row(age=51, sex='female', bmi=34.2, children=1, smoker='no', region='southwest', charges=9872.701, first_name='new', Region||BMI='southwest 34.2'),\n",
              " Row(age=23, sex='male', bmi=50.38, children=1, smoker='no', region='southeast', charges=2438.0552, first_name='new', Region||BMI='southeast 50.38'),\n",
              " Row(age=27, sex='female', bmi=24.1, children=0, smoker='no', region='southwest', charges=2974.126, first_name='new', Region||BMI='southwest 24.1'),\n",
              " Row(age=55, sex='male', bmi=32.775, children=0, smoker='no', region='northwest', charges=10601.63225, first_name='new', Region||BMI='northwest 32.775'),\n",
              " Row(age=37, sex='female', bmi=30.78, children=0, smoker='yes', region='northeast', charges=37270.1512, first_name='new', Region||BMI='northeast 30.78'),\n",
              " Row(age=61, sex='male', bmi=32.3, children=2, smoker='no', region='northwest', charges=14119.62, first_name='new', Region||BMI='northwest 32.3'),\n",
              " Row(age=46, sex='female', bmi=35.53, children=0, smoker='yes', region='northeast', charges=42111.6647, first_name='new', Region||BMI='northeast 35.53'),\n",
              " Row(age=53, sex='female', bmi=23.75, children=2, smoker='no', region='northeast', charges=11729.6795, first_name='new', Region||BMI='northeast 23.75'),\n",
              " Row(age=49, sex='female', bmi=23.845, children=3, smoker='yes', region='northeast', charges=24106.91255, first_name='new', Region||BMI='northeast 23.845'),\n",
              " Row(age=20, sex='female', bmi=29.6, children=0, smoker='no', region='southwest', charges=1875.344, first_name='new', Region||BMI='southwest 29.6'),\n",
              " Row(age=48, sex='female', bmi=33.11, children=0, smoker='yes', region='southeast', charges=40974.1649, first_name='new', Region||BMI='southeast 33.11'),\n",
              " Row(age=25, sex='male', bmi=24.13, children=0, smoker='yes', region='northwest', charges=15817.9857, first_name='new', Region||BMI='northwest 24.13'),\n",
              " Row(age=25, sex='female', bmi=32.23, children=1, smoker='no', region='southeast', charges=18218.16139, first_name='new', Region||BMI='southeast 32.23'),\n",
              " Row(age=57, sex='male', bmi=28.1, children=0, smoker='no', region='southwest', charges=10965.446, first_name='new', Region||BMI='southwest 28.1'),\n",
              " Row(age=37, sex='female', bmi=47.6, children=2, smoker='yes', region='southwest', charges=46113.511, first_name='new', Region||BMI='southwest 47.6'),\n",
              " Row(age=38, sex='female', bmi=28.0, children=3, smoker='no', region='southwest', charges=7151.092, first_name='new', Region||BMI='southwest 28.0'),\n",
              " Row(age=55, sex='female', bmi=33.535, children=2, smoker='no', region='northwest', charges=12269.68865, first_name='new', Region||BMI='northwest 33.535'),\n",
              " Row(age=36, sex='female', bmi=19.855, children=0, smoker='no', region='northeast', charges=5458.04645, first_name='new', Region||BMI='northeast 19.855'),\n",
              " Row(age=51, sex='male', bmi=25.4, children=0, smoker='no', region='southwest', charges=8782.469, first_name='new', Region||BMI='southwest 25.4'),\n",
              " Row(age=40, sex='male', bmi=29.9, children=2, smoker='no', region='southwest', charges=6600.361, first_name='new', Region||BMI='southwest 29.9'),\n",
              " Row(age=18, sex='male', bmi=37.29, children=0, smoker='no', region='southeast', charges=1141.4451, first_name='new', Region||BMI='southeast 37.29'),\n",
              " Row(age=57, sex='male', bmi=43.7, children=1, smoker='no', region='southwest', charges=11576.13, first_name='new', Region||BMI='southwest 43.7'),\n",
              " Row(age=61, sex='male', bmi=23.655, children=0, smoker='no', region='northeast', charges=13129.60345, first_name='new', Region||BMI='northeast 23.655'),\n",
              " Row(age=25, sex='female', bmi=24.3, children=3, smoker='no', region='southwest', charges=4391.652, first_name='new', Region||BMI='southwest 24.3'),\n",
              " Row(age=50, sex='male', bmi=36.2, children=0, smoker='no', region='southwest', charges=8457.818, first_name='new', Region||BMI='southwest 36.2'),\n",
              " Row(age=26, sex='female', bmi=29.48, children=1, smoker='no', region='southeast', charges=3392.3652, first_name='new', Region||BMI='southeast 29.48'),\n",
              " Row(age=42, sex='male', bmi=24.86, children=0, smoker='no', region='southeast', charges=5966.8874, first_name='new', Region||BMI='southeast 24.86'),\n",
              " Row(age=43, sex='male', bmi=30.1, children=1, smoker='no', region='southwest', charges=6849.026, first_name='new', Region||BMI='southwest 30.1'),\n",
              " Row(age=44, sex='male', bmi=21.85, children=3, smoker='no', region='northeast', charges=8891.1395, first_name='new', Region||BMI='northeast 21.85'),\n",
              " Row(age=23, sex='female', bmi=28.12, children=0, smoker='no', region='northwest', charges=2690.1138, first_name='new', Region||BMI='northwest 28.12'),\n",
              " Row(age=49, sex='female', bmi=27.1, children=1, smoker='no', region='southwest', charges=26140.3603, first_name='new', Region||BMI='southwest 27.1'),\n",
              " Row(age=33, sex='male', bmi=33.44, children=5, smoker='no', region='southeast', charges=6653.7886, first_name='new', Region||BMI='southeast 33.44'),\n",
              " Row(age=41, sex='male', bmi=28.8, children=1, smoker='no', region='southwest', charges=6282.235, first_name='new', Region||BMI='southwest 28.8'),\n",
              " Row(age=37, sex='female', bmi=29.5, children=2, smoker='no', region='southwest', charges=6311.952, first_name='new', Region||BMI='southwest 29.5'),\n",
              " Row(age=22, sex='male', bmi=34.8, children=3, smoker='no', region='southwest', charges=3443.064, first_name='new', Region||BMI='southwest 34.8'),\n",
              " Row(age=23, sex='male', bmi=27.36, children=1, smoker='no', region='northwest', charges=2789.0574, first_name='new', Region||BMI='northwest 27.36'),\n",
              " Row(age=21, sex='female', bmi=22.135, children=0, smoker='no', region='northeast', charges=2585.85065, first_name='new', Region||BMI='northeast 22.135'),\n",
              " Row(age=51, sex='female', bmi=37.05, children=3, smoker='yes', region='northeast', charges=46255.1125, first_name='new', Region||BMI='northeast 37.05'),\n",
              " Row(age=25, sex='male', bmi=26.695, children=4, smoker='no', region='northwest', charges=4877.98105, first_name='new', Region||BMI='northwest 26.695'),\n",
              " Row(age=32, sex='male', bmi=28.93, children=1, smoker='yes', region='southeast', charges=19719.6947, first_name='new', Region||BMI='southeast 28.93'),\n",
              " Row(age=57, sex='male', bmi=28.975, children=0, smoker='yes', region='northeast', charges=27218.43725, first_name='new', Region||BMI='northeast 28.975'),\n",
              " Row(age=36, sex='female', bmi=30.02, children=0, smoker='no', region='northwest', charges=5272.1758, first_name='new', Region||BMI='northwest 30.02'),\n",
              " Row(age=22, sex='male', bmi=39.5, children=0, smoker='no', region='southwest', charges=1682.597, first_name='new', Region||BMI='southwest 39.5'),\n",
              " Row(age=57, sex='male', bmi=33.63, children=1, smoker='no', region='northwest', charges=11945.1327, first_name='new', Region||BMI='northwest 33.63'),\n",
              " Row(age=64, sex='female', bmi=26.885, children=0, smoker='yes', region='northwest', charges=29330.98315, first_name='new', Region||BMI='northwest 26.885'),\n",
              " Row(age=36, sex='female', bmi=29.04, children=4, smoker='no', region='southeast', charges=7243.8136, first_name='new', Region||BMI='southeast 29.04'),\n",
              " Row(age=54, sex='male', bmi=24.035, children=0, smoker='no', region='northeast', charges=10422.91665, first_name='new', Region||BMI='northeast 24.035'),\n",
              " Row(age=47, sex='male', bmi=38.94, children=2, smoker='yes', region='southeast', charges=44202.6536, first_name='new', Region||BMI='southeast 38.94'),\n",
              " Row(age=62, sex='male', bmi=32.11, children=0, smoker='no', region='northeast', charges=13555.0049, first_name='new', Region||BMI='northeast 32.11'),\n",
              " Row(age=61, sex='female', bmi=44.0, children=0, smoker='no', region='southwest', charges=13063.883, first_name='new', Region||BMI='southwest 44.0'),\n",
              " Row(age=43, sex='female', bmi=20.045, children=2, smoker='yes', region='northeast', charges=19798.05455, first_name='new', Region||BMI='northeast 20.045'),\n",
              " Row(age=19, sex='male', bmi=25.555, children=1, smoker='no', region='northwest', charges=2221.56445, first_name='new', Region||BMI='northwest 25.555'),\n",
              " Row(age=18, sex='female', bmi=40.26, children=0, smoker='no', region='southeast', charges=1634.5734, first_name='new', Region||BMI='southeast 40.26'),\n",
              " Row(age=19, sex='female', bmi=22.515, children=0, smoker='no', region='northwest', charges=2117.33885, first_name='new', Region||BMI='northwest 22.515'),\n",
              " Row(age=49, sex='male', bmi=22.515, children=0, smoker='no', region='northeast', charges=8688.85885, first_name='new', Region||BMI='northeast 22.515'),\n",
              " Row(age=60, sex='male', bmi=40.92, children=0, smoker='yes', region='southeast', charges=48673.5588, first_name='new', Region||BMI='southeast 40.92'),\n",
              " Row(age=26, sex='male', bmi=27.265, children=3, smoker='no', region='northeast', charges=4661.28635, first_name='new', Region||BMI='northeast 27.265'),\n",
              " Row(age=49, sex='male', bmi=36.85, children=0, smoker='no', region='southeast', charges=8125.7845, first_name='new', Region||BMI='southeast 36.85'),\n",
              " Row(age=60, sex='female', bmi=35.1, children=0, smoker='no', region='southwest', charges=12644.589, first_name='new', Region||BMI='southwest 35.1'),\n",
              " Row(age=26, sex='female', bmi=29.355, children=2, smoker='no', region='northeast', charges=4564.19145, first_name='new', Region||BMI='northeast 29.355'),\n",
              " Row(age=27, sex='male', bmi=32.585, children=3, smoker='no', region='northeast', charges=4846.92015, first_name='new', Region||BMI='northeast 32.585'),\n",
              " Row(age=44, sex='female', bmi=32.34, children=1, smoker='no', region='southeast', charges=7633.7206, first_name='new', Region||BMI='southeast 32.34'),\n",
              " Row(age=63, sex='male', bmi=39.8, children=3, smoker='no', region='southwest', charges=15170.069, first_name='new', Region||BMI='southwest 39.8'),\n",
              " Row(age=32, sex='female', bmi=24.6, children=0, smoker='yes', region='southwest', charges=17496.306, first_name='new', Region||BMI='southwest 24.6'),\n",
              " Row(age=22, sex='male', bmi=28.31, children=1, smoker='no', region='northwest', charges=2639.0429, first_name='new', Region||BMI='northwest 28.31'),\n",
              " Row(age=18, sex='male', bmi=31.73, children=0, smoker='yes', region='northeast', charges=33732.6867, first_name='new', Region||BMI='northeast 31.73'),\n",
              " Row(age=59, sex='female', bmi=26.695, children=3, smoker='no', region='northwest', charges=14382.70905, first_name='new', Region||BMI='northwest 26.695'),\n",
              " Row(age=44, sex='female', bmi=27.5, children=1, smoker='no', region='southwest', charges=7626.993, first_name='new', Region||BMI='southwest 27.5'),\n",
              " Row(age=33, sex='male', bmi=24.605, children=2, smoker='no', region='northwest', charges=5257.50795, first_name='new', Region||BMI='northwest 24.605'),\n",
              " Row(age=24, sex='female', bmi=33.99, children=0, smoker='no', region='southeast', charges=2473.3341, first_name='new', Region||BMI='southeast 33.99'),\n",
              " Row(age=43, sex='female', bmi=26.885, children=0, smoker='yes', region='northwest', charges=21774.32215, first_name='new', Region||BMI='northwest 26.885'),\n",
              " Row(age=45, sex='male', bmi=22.895, children=0, smoker='yes', region='northeast', charges=35069.37452, first_name='new', Region||BMI='northeast 22.895'),\n",
              " Row(age=61, sex='female', bmi=28.2, children=0, smoker='no', region='southwest', charges=13041.921, first_name='new', Region||BMI='southwest 28.2'),\n",
              " Row(age=35, sex='female', bmi=34.21, children=1, smoker='no', region='southeast', charges=5245.2269, first_name='new', Region||BMI='southeast 34.21'),\n",
              " Row(age=62, sex='female', bmi=25.0, children=0, smoker='no', region='southwest', charges=13451.122, first_name='new', Region||BMI='southwest 25.0'),\n",
              " Row(age=62, sex='female', bmi=33.2, children=0, smoker='no', region='southwest', charges=13462.52, first_name='new', Region||BMI='southwest 33.2'),\n",
              " Row(age=38, sex='male', bmi=31.0, children=1, smoker='no', region='southwest', charges=5488.262, first_name='new', Region||BMI='southwest 31.0'),\n",
              " Row(age=34, sex='male', bmi=35.815, children=0, smoker='no', region='northwest', charges=4320.41085, first_name='new', Region||BMI='northwest 35.815'),\n",
              " Row(age=43, sex='male', bmi=23.2, children=0, smoker='no', region='southwest', charges=6250.435, first_name='new', Region||BMI='southwest 23.2'),\n",
              " Row(age=50, sex='male', bmi=32.11, children=2, smoker='no', region='northeast', charges=25333.33284, first_name='new', Region||BMI='northeast 32.11'),\n",
              " Row(age=19, sex='female', bmi=23.4, children=2, smoker='no', region='southwest', charges=2913.569, first_name='new', Region||BMI='southwest 23.4'),\n",
              " Row(age=57, sex='female', bmi=20.1, children=1, smoker='no', region='southwest', charges=12032.326, first_name='new', Region||BMI='southwest 20.1'),\n",
              " Row(age=62, sex='female', bmi=39.16, children=0, smoker='no', region='southeast', charges=13470.8044, first_name='new', Region||BMI='southeast 39.16'),\n",
              " Row(age=41, sex='male', bmi=34.21, children=1, smoker='no', region='southeast', charges=6289.7549, first_name='new', Region||BMI='southeast 34.21'),\n",
              " Row(age=26, sex='male', bmi=46.53, children=1, smoker='no', region='southeast', charges=2927.0647, first_name='new', Region||BMI='southeast 46.53'),\n",
              " Row(age=39, sex='female', bmi=32.5, children=1, smoker='no', region='southwest', charges=6238.298, first_name='new', Region||BMI='southwest 32.5'),\n",
              " Row(age=46, sex='male', bmi=25.8, children=5, smoker='no', region='southwest', charges=10096.97, first_name='new', Region||BMI='southwest 25.8'),\n",
              " Row(age=45, sex='female', bmi=35.3, children=0, smoker='no', region='southwest', charges=7348.142, first_name='new', Region||BMI='southwest 35.3'),\n",
              " Row(age=32, sex='male', bmi=37.18, children=2, smoker='no', region='southeast', charges=4673.3922, first_name='new', Region||BMI='southeast 37.18'),\n",
              " Row(age=59, sex='female', bmi=27.5, children=0, smoker='no', region='southwest', charges=12233.828, first_name='new', Region||BMI='southwest 27.5'),\n",
              " Row(age=44, sex='male', bmi=29.735, children=2, smoker='no', region='northeast', charges=32108.66282, first_name='new', Region||BMI='northeast 29.735'),\n",
              " Row(age=39, sex='female', bmi=24.225, children=5, smoker='no', region='northwest', charges=8965.79575, first_name='new', Region||BMI='northwest 24.225'),\n",
              " Row(age=18, sex='male', bmi=26.18, children=2, smoker='no', region='southeast', charges=2304.0022, first_name='new', Region||BMI='southeast 26.18'),\n",
              " Row(age=53, sex='male', bmi=29.48, children=0, smoker='no', region='southeast', charges=9487.6442, first_name='new', Region||BMI='southeast 29.48'),\n",
              " Row(age=18, sex='male', bmi=23.21, children=0, smoker='no', region='southeast', charges=1121.8739, first_name='new', Region||BMI='southeast 23.21'),\n",
              " Row(age=50, sex='female', bmi=46.09, children=1, smoker='no', region='southeast', charges=9549.5651, first_name='new', Region||BMI='southeast 46.09'),\n",
              " Row(age=18, sex='female', bmi=40.185, children=0, smoker='no', region='northeast', charges=2217.46915, first_name='new', Region||BMI='northeast 40.185'),\n",
              " Row(age=19, sex='male', bmi=22.61, children=0, smoker='no', region='northwest', charges=1628.4709, first_name='new', Region||BMI='northwest 22.61'),\n",
              " Row(age=62, sex='male', bmi=39.93, children=0, smoker='no', region='southeast', charges=12982.8747, first_name='new', Region||BMI='southeast 39.93'),\n",
              " Row(age=56, sex='female', bmi=35.8, children=1, smoker='no', region='southwest', charges=11674.13, first_name='new', Region||BMI='southwest 35.8'),\n",
              " Row(age=42, sex='male', bmi=35.8, children=2, smoker='no', region='southwest', charges=7160.094, first_name='new', Region||BMI='southwest 35.8'),\n",
              " Row(age=37, sex='male', bmi=34.2, children=1, smoker='yes', region='northeast', charges=39047.285, first_name='new', Region||BMI='northeast 34.2'),\n",
              " Row(age=42, sex='male', bmi=31.255, children=0, smoker='no', region='northwest', charges=6358.77645, first_name='new', Region||BMI='northwest 31.255'),\n",
              " Row(age=25, sex='male', bmi=29.7, children=3, smoker='yes', region='southwest', charges=19933.458, first_name='new', Region||BMI='southwest 29.7'),\n",
              " Row(age=57, sex='male', bmi=18.335, children=0, smoker='no', region='northeast', charges=11534.87265, first_name='new', Region||BMI='northeast 18.335'),\n",
              " Row(age=51, sex='male', bmi=42.9, children=2, smoker='yes', region='southeast', charges=47462.894, first_name='new', Region||BMI='southeast 42.9'),\n",
              " Row(age=30, sex='female', bmi=28.405, children=1, smoker='no', region='northwest', charges=4527.18295, first_name='new', Region||BMI='northwest 28.405'),\n",
              " Row(age=44, sex='male', bmi=30.2, children=2, smoker='yes', region='southwest', charges=38998.546, first_name='new', Region||BMI='southwest 30.2'),\n",
              " Row(age=34, sex='male', bmi=27.835, children=1, smoker='yes', region='northwest', charges=20009.63365, first_name='new', Region||BMI='northwest 27.835'),\n",
              " Row(age=31, sex='male', bmi=39.49, children=1, smoker='no', region='southeast', charges=3875.7341, first_name='new', Region||BMI='southeast 39.49'),\n",
              " Row(age=54, sex='male', bmi=30.8, children=1, smoker='yes', region='southeast', charges=41999.52, first_name='new', Region||BMI='southeast 30.8'),\n",
              " Row(age=24, sex='male', bmi=26.79, children=1, smoker='no', region='northwest', charges=12609.88702, first_name='new', Region||BMI='northwest 26.79'),\n",
              " Row(age=43, sex='male', bmi=34.96, children=1, smoker='yes', region='northeast', charges=41034.2214, first_name='new', Region||BMI='northeast 34.96'),\n",
              " Row(age=48, sex='male', bmi=36.67, children=1, smoker='no', region='northwest', charges=28468.91901, first_name='new', Region||BMI='northwest 36.67'),\n",
              " Row(age=19, sex='female', bmi=39.615, children=1, smoker='no', region='northwest', charges=2730.10785, first_name='new', Region||BMI='northwest 39.615'),\n",
              " Row(age=29, sex='female', bmi=25.9, children=0, smoker='no', region='southwest', charges=3353.284, first_name='new', Region||BMI='southwest 25.9'),\n",
              " Row(age=63, sex='female', bmi=35.2, children=1, smoker='no', region='southeast', charges=14474.675, first_name='new', Region||BMI='southeast 35.2'),\n",
              " Row(age=46, sex='male', bmi=24.795, children=3, smoker='no', region='northeast', charges=9500.57305, first_name='new', Region||BMI='northeast 24.795'),\n",
              " Row(age=52, sex='male', bmi=36.765, children=2, smoker='no', region='northwest', charges=26467.09737, first_name='new', Region||BMI='northwest 36.765'),\n",
              " Row(age=35, sex='male', bmi=27.1, children=1, smoker='no', region='southwest', charges=4746.344, first_name='new', Region||BMI='southwest 27.1'),\n",
              " Row(age=51, sex='male', bmi=24.795, children=2, smoker='yes', region='northwest', charges=23967.38305, first_name='new', Region||BMI='northwest 24.795'),\n",
              " Row(age=44, sex='male', bmi=25.365, children=1, smoker='no', region='northwest', charges=7518.02535, first_name='new', Region||BMI='northwest 25.365'),\n",
              " Row(age=21, sex='male', bmi=25.745, children=2, smoker='no', region='northeast', charges=3279.86855, first_name='new', Region||BMI='northeast 25.745'),\n",
              " Row(age=39, sex='female', bmi=34.32, children=5, smoker='no', region='southeast', charges=8596.8278, first_name='new', Region||BMI='southeast 34.32'),\n",
              " Row(age=50, sex='female', bmi=28.16, children=3, smoker='no', region='southeast', charges=10702.6424, first_name='new', Region||BMI='southeast 28.16'),\n",
              " Row(age=34, sex='female', bmi=23.56, children=0, smoker='no', region='northeast', charges=4992.3764, first_name='new', Region||BMI='northeast 23.56'),\n",
              " Row(age=22, sex='female', bmi=20.235, children=0, smoker='no', region='northwest', charges=2527.81865, first_name='new', Region||BMI='northwest 20.235'),\n",
              " Row(age=19, sex='female', bmi=40.5, children=0, smoker='no', region='southwest', charges=1759.338, first_name='new', Region||BMI='southwest 40.5'),\n",
              " Row(age=26, sex='male', bmi=35.42, children=0, smoker='no', region='southeast', charges=2322.6218, first_name='new', Region||BMI='southeast 35.42'),\n",
              " Row(age=29, sex='male', bmi=22.895, children=0, smoker='yes', region='northeast', charges=16138.76205, first_name='new', Region||BMI='northeast 22.895'),\n",
              " Row(age=48, sex='male', bmi=40.15, children=0, smoker='no', region='southeast', charges=7804.1605, first_name='new', Region||BMI='southeast 40.15'),\n",
              " Row(age=26, sex='male', bmi=29.15, children=1, smoker='no', region='southeast', charges=2902.9065, first_name='new', Region||BMI='southeast 29.15'),\n",
              " Row(age=45, sex='female', bmi=39.995, children=3, smoker='no', region='northeast', charges=9704.66805, first_name='new', Region||BMI='northeast 39.995'),\n",
              " Row(age=36, sex='female', bmi=29.92, children=0, smoker='no', region='southeast', charges=4889.0368, first_name='new', Region||BMI='southeast 29.92'),\n",
              " Row(age=54, sex='male', bmi=25.46, children=1, smoker='no', region='northeast', charges=25517.11363, first_name='new', Region||BMI='northeast 25.46'),\n",
              " Row(age=34, sex='male', bmi=21.375, children=0, smoker='no', region='northeast', charges=4500.33925, first_name='new', Region||BMI='northeast 21.375'),\n",
              " Row(age=31, sex='male', bmi=25.9, children=3, smoker='yes', region='southwest', charges=19199.944, first_name='new', Region||BMI='southwest 25.9'),\n",
              " Row(age=27, sex='female', bmi=30.59, children=1, smoker='no', region='northeast', charges=16796.41194, first_name='new', Region||BMI='northeast 30.59'),\n",
              " Row(age=20, sex='male', bmi=30.115, children=5, smoker='no', region='northeast', charges=4915.05985, first_name='new', Region||BMI='northeast 30.115'),\n",
              " Row(age=44, sex='female', bmi=25.8, children=1, smoker='no', region='southwest', charges=7624.63, first_name='new', Region||BMI='southwest 25.8'),\n",
              " Row(age=43, sex='male', bmi=30.115, children=3, smoker='no', region='northwest', charges=8410.04685, first_name='new', Region||BMI='northwest 30.115'),\n",
              " Row(age=45, sex='female', bmi=27.645, children=1, smoker='no', region='northwest', charges=28340.18885, first_name='new', Region||BMI='northwest 27.645'),\n",
              " Row(age=34, sex='male', bmi=34.675, children=0, smoker='no', region='northeast', charges=4518.82625, first_name='new', Region||BMI='northeast 34.675'),\n",
              " Row(age=24, sex='female', bmi=20.52, children=0, smoker='yes', region='northeast', charges=14571.8908, first_name='new', Region||BMI='northeast 20.52'),\n",
              " Row(age=26, sex='female', bmi=19.8, children=1, smoker='no', region='southwest', charges=3378.91, first_name='new', Region||BMI='southwest 19.8'),\n",
              " Row(age=38, sex='female', bmi=27.835, children=2, smoker='no', region='northeast', charges=7144.86265, first_name='new', Region||BMI='northeast 27.835'),\n",
              " Row(age=50, sex='female', bmi=31.6, children=2, smoker='no', region='southwest', charges=10118.424, first_name='new', Region||BMI='southwest 31.6'),\n",
              " Row(age=38, sex='male', bmi=28.27, children=1, smoker='no', region='southeast', charges=5484.4673, first_name='new', Region||BMI='southeast 28.27'),\n",
              " Row(age=27, sex='female', bmi=20.045, children=3, smoker='yes', region='northwest', charges=16420.49455, first_name='new', Region||BMI='northwest 20.045'),\n",
              " Row(age=39, sex='female', bmi=23.275, children=3, smoker='no', region='northeast', charges=7986.47525, first_name='new', Region||BMI='northeast 23.275'),\n",
              " Row(age=39, sex='female', bmi=34.1, children=3, smoker='no', region='southwest', charges=7418.522, first_name='new', Region||BMI='southwest 34.1'),\n",
              " Row(age=63, sex='female', bmi=36.85, children=0, smoker='no', region='southeast', charges=13887.9685, first_name='new', Region||BMI='southeast 36.85'),\n",
              " Row(age=33, sex='female', bmi=36.29, children=3, smoker='no', region='northeast', charges=6551.7501, first_name='new', Region||BMI='northeast 36.29'),\n",
              " Row(age=36, sex='female', bmi=26.885, children=0, smoker='no', region='northwest', charges=5267.81815, first_name='new', Region||BMI='northwest 26.885'),\n",
              " ...]"
            ]
          },
          "metadata": {},
          "execution_count": 57
        }
      ]
    },
    {
      "cell_type": "code",
      "source": [
        "df.groupBy('region').count().show()"
      ],
      "metadata": {
        "colab": {
          "base_uri": "https://localhost:8080/"
        },
        "id": "ciazoa2Jrp60",
        "outputId": "d4396f2e-f304-47b9-bf61-ad9355411610"
      },
      "execution_count": 58,
      "outputs": [
        {
          "output_type": "stream",
          "name": "stdout",
          "text": [
            "+---------+-----+\n",
            "|   region|count|\n",
            "+---------+-----+\n",
            "|northwest|  325|\n",
            "|southeast|  364|\n",
            "|northeast|  324|\n",
            "|southwest|  325|\n",
            "+---------+-----+\n",
            "\n"
          ]
        }
      ]
    },
    {
      "cell_type": "code",
      "source": [
        "df.show()"
      ],
      "metadata": {
        "colab": {
          "base_uri": "https://localhost:8080/"
        },
        "id": "_RpWVssUryLL",
        "outputId": "4f4db0d3-df99-434a-b231-7ff226c83d90"
      },
      "execution_count": 59,
      "outputs": [
        {
          "output_type": "stream",
          "name": "stdout",
          "text": [
            "+---+------+------+--------+------+---------+-----------+----------+----------------+\n",
            "|age|   sex|   bmi|children|smoker|   region|    charges|first_name|     Region||BMI|\n",
            "+---+------+------+--------+------+---------+-----------+----------+----------------+\n",
            "| 19|female|  27.9|       0|   yes|southwest|  16884.924|       new|  southwest 27.9|\n",
            "| 18|  male| 33.77|       1|    no|southeast|  1725.5523|       new| southeast 33.77|\n",
            "| 28|  male|  33.0|       3|    no|southeast|   4449.462|       new|  southeast 33.0|\n",
            "| 33|  male|22.705|       0|    no|northwest|21984.47061|       new|northwest 22.705|\n",
            "| 32|  male| 28.88|       0|    no|northwest|  3866.8552|       new| northwest 28.88|\n",
            "| 31|female| 25.74|       0|    no|southeast|  3756.6216|       new| southeast 25.74|\n",
            "| 46|female| 33.44|       1|    no|southeast|  8240.5896|       new| southeast 33.44|\n",
            "| 37|female| 27.74|       3|    no|northwest|  7281.5056|       new| northwest 27.74|\n",
            "| 37|  male| 29.83|       2|    no|northeast|  6406.4107|       new| northeast 29.83|\n",
            "| 60|female| 25.84|       0|    no|northwest|28923.13692|       new| northwest 25.84|\n",
            "| 25|  male| 26.22|       0|    no|northeast|  2721.3208|       new| northeast 26.22|\n",
            "| 62|female| 26.29|       0|   yes|southeast| 27808.7251|       new| southeast 26.29|\n",
            "| 23|  male|  34.4|       0|    no|southwest|   1826.843|       new|  southwest 34.4|\n",
            "| 56|female| 39.82|       0|    no|southeast| 11090.7178|       new| southeast 39.82|\n",
            "| 27|  male| 42.13|       0|   yes|southeast| 39611.7577|       new| southeast 42.13|\n",
            "| 19|  male|  24.6|       1|    no|southwest|   1837.237|       new|  southwest 24.6|\n",
            "| 52|female| 30.78|       1|    no|northeast| 10797.3362|       new| northeast 30.78|\n",
            "| 23|  male|23.845|       0|    no|northeast| 2395.17155|       new|northeast 23.845|\n",
            "| 56|  male|  40.3|       0|    no|southwest|  10602.385|       new|  southwest 40.3|\n",
            "| 30|  male|  35.3|       0|   yes|southwest|  36837.467|       new|  southwest 35.3|\n",
            "+---+------+------+--------+------+---------+-----------+----------+----------------+\n",
            "only showing top 20 rows\n",
            "\n"
          ]
        }
      ]
    },
    {
      "cell_type": "code",
      "source": [
        "df.groupBy('region','smoker').count().show()"
      ],
      "metadata": {
        "colab": {
          "base_uri": "https://localhost:8080/"
        },
        "id": "TEWCvEGbr0p7",
        "outputId": "d4e43755-7a64-4782-bfd0-a92a49a3024f"
      },
      "execution_count": 60,
      "outputs": [
        {
          "output_type": "stream",
          "name": "stdout",
          "text": [
            "+---------+------+-----+\n",
            "|   region|smoker|count|\n",
            "+---------+------+-----+\n",
            "|northeast|   yes|   67|\n",
            "|southeast|    no|  273|\n",
            "|southwest|    no|  267|\n",
            "|southwest|   yes|   58|\n",
            "|northwest|    no|  267|\n",
            "|northeast|    no|  257|\n",
            "|northwest|   yes|   58|\n",
            "|southeast|   yes|   91|\n",
            "+---------+------+-----+\n",
            "\n"
          ]
        }
      ]
    },
    {
      "cell_type": "code",
      "source": [
        "df.drop('first_name').show()"
      ],
      "metadata": {
        "colab": {
          "base_uri": "https://localhost:8080/"
        },
        "id": "ndaAeZzAr_Xj",
        "outputId": "f8092f50-cdb6-4804-d8af-7abd989fbde7"
      },
      "execution_count": 61,
      "outputs": [
        {
          "output_type": "stream",
          "name": "stdout",
          "text": [
            "+---+------+------+--------+------+---------+-----------+----------------+\n",
            "|age|   sex|   bmi|children|smoker|   region|    charges|     Region||BMI|\n",
            "+---+------+------+--------+------+---------+-----------+----------------+\n",
            "| 19|female|  27.9|       0|   yes|southwest|  16884.924|  southwest 27.9|\n",
            "| 18|  male| 33.77|       1|    no|southeast|  1725.5523| southeast 33.77|\n",
            "| 28|  male|  33.0|       3|    no|southeast|   4449.462|  southeast 33.0|\n",
            "| 33|  male|22.705|       0|    no|northwest|21984.47061|northwest 22.705|\n",
            "| 32|  male| 28.88|       0|    no|northwest|  3866.8552| northwest 28.88|\n",
            "| 31|female| 25.74|       0|    no|southeast|  3756.6216| southeast 25.74|\n",
            "| 46|female| 33.44|       1|    no|southeast|  8240.5896| southeast 33.44|\n",
            "| 37|female| 27.74|       3|    no|northwest|  7281.5056| northwest 27.74|\n",
            "| 37|  male| 29.83|       2|    no|northeast|  6406.4107| northeast 29.83|\n",
            "| 60|female| 25.84|       0|    no|northwest|28923.13692| northwest 25.84|\n",
            "| 25|  male| 26.22|       0|    no|northeast|  2721.3208| northeast 26.22|\n",
            "| 62|female| 26.29|       0|   yes|southeast| 27808.7251| southeast 26.29|\n",
            "| 23|  male|  34.4|       0|    no|southwest|   1826.843|  southwest 34.4|\n",
            "| 56|female| 39.82|       0|    no|southeast| 11090.7178| southeast 39.82|\n",
            "| 27|  male| 42.13|       0|   yes|southeast| 39611.7577| southeast 42.13|\n",
            "| 19|  male|  24.6|       1|    no|southwest|   1837.237|  southwest 24.6|\n",
            "| 52|female| 30.78|       1|    no|northeast| 10797.3362| northeast 30.78|\n",
            "| 23|  male|23.845|       0|    no|northeast| 2395.17155|northeast 23.845|\n",
            "| 56|  male|  40.3|       0|    no|southwest|  10602.385|  southwest 40.3|\n",
            "| 30|  male|  35.3|       0|   yes|southwest|  36837.467|  southwest 35.3|\n",
            "+---+------+------+--------+------+---------+-----------+----------------+\n",
            "only showing top 20 rows\n",
            "\n"
          ]
        }
      ]
    },
    {
      "cell_type": "code",
      "source": [
        "total_count=df.count()\n",
        "print(\"Total Count: \" + str(total_count))\n",
        "\n",
        "_count = df.filter((col('region')=='southwest') & (col('children') ==3)).count()\n",
        "print(\"sountwest Count: \" + str(_count))\n",
        "\n",
        "df.filter((col('region')=='southwest') & (col('children')==3 )).show()"
      ],
      "metadata": {
        "colab": {
          "base_uri": "https://localhost:8080/"
        },
        "id": "aJWHRqKXsDd7",
        "outputId": "f3cfad06-9743-4bd8-9502-010f930c3cd9"
      },
      "execution_count": 62,
      "outputs": [
        {
          "output_type": "stream",
          "name": "stdout",
          "text": [
            "Total Count: 1338\n",
            "sountwest Count: 37\n",
            "+---+------+----+--------+------+---------+-----------+----------+--------------+\n",
            "|age|   sex| bmi|children|smoker|   region|    charges|first_name|   Region||BMI|\n",
            "+---+------+----+--------+------+---------+-----------+----------+--------------+\n",
            "| 53|female|28.1|       3|    no|southwest|  11741.726|       new|southwest 28.1|\n",
            "| 54|female|30.8|       3|    no|southwest|   12105.32|       new|southwest 30.8|\n",
            "| 30|female|30.9|       3|    no|southwest|   5325.651|       new|southwest 30.9|\n",
            "| 32|  male|30.8|       3|    no|southwest|   5253.524|       new|southwest 30.8|\n",
            "| 40|  male|35.3|       3|    no|southwest|   7196.867|       new|southwest 35.3|\n",
            "| 27|  male|30.3|       3|    no|southwest|   4260.744|       new|southwest 30.3|\n",
            "| 25|  male|26.8|       3|    no|southwest|   3906.127|       new|southwest 26.8|\n",
            "| 43|female|34.4|       3|    no|southwest|   8522.003|       new|southwest 34.4|\n",
            "| 35|  male|28.9|       3|    no|southwest|   5926.846|       new|southwest 28.9|\n",
            "| 54|  male|25.1|       3|   yes|southwest|  25382.297|       new|southwest 25.1|\n",
            "| 48|  male|34.3|       3|    no|southwest|   9563.029|       new|southwest 34.3|\n",
            "| 33|female|38.9|       3|    no|southwest|   5972.378|       new|southwest 38.9|\n",
            "| 34|female|38.0|       3|    no|southwest|   6196.448|       new|southwest 38.0|\n",
            "| 56|  male|36.1|       3|    no|southwest|  12363.547|       new|southwest 36.1|\n",
            "| 53|  male|36.6|       3|    no|southwest|  11264.541|       new|southwest 36.6|\n",
            "| 24|female|30.1|       3|    no|southwest|   4234.927|       new|southwest 30.1|\n",
            "| 59|female|32.1|       3|    no|southwest|  14007.222|       new|southwest 32.1|\n",
            "| 61|  male|36.1|       3|    no|southwest|27941.28758|       new|southwest 36.1|\n",
            "| 30|  male|24.4|       3|   yes|southwest|  18259.216|       new|southwest 24.4|\n",
            "| 35|female|27.7|       3|    no|southwest|   6414.178|       new|southwest 27.7|\n",
            "+---+------+----+--------+------+---------+-----------+----------+--------------+\n",
            "only showing top 20 rows\n",
            "\n"
          ]
        }
      ]
    },
    {
      "cell_type": "code",
      "source": [
        "df.select('region').distinct().show()"
      ],
      "metadata": {
        "colab": {
          "base_uri": "https://localhost:8080/"
        },
        "id": "4PMieh64sgfU",
        "outputId": "cbca13c9-b07c-4eaf-f9fe-1703b695259b"
      },
      "execution_count": 63,
      "outputs": [
        {
          "output_type": "stream",
          "name": "stdout",
          "text": [
            "+---------+\n",
            "|   region|\n",
            "+---------+\n",
            "|northwest|\n",
            "|southeast|\n",
            "|northeast|\n",
            "|southwest|\n",
            "+---------+\n",
            "\n"
          ]
        }
      ]
    },
    {
      "cell_type": "code",
      "source": [
        "df.select('region','age').distinct().show()"
      ],
      "metadata": {
        "colab": {
          "base_uri": "https://localhost:8080/"
        },
        "id": "RH09G9BNsnXz",
        "outputId": "86d171e1-7afd-4d78-df31-1fc3a8b52d35"
      },
      "execution_count": 64,
      "outputs": [
        {
          "output_type": "stream",
          "name": "stdout",
          "text": [
            "+---------+---+\n",
            "|   region|age|\n",
            "+---------+---+\n",
            "|southeast| 26|\n",
            "|southwest| 28|\n",
            "|southeast| 55|\n",
            "|southeast| 58|\n",
            "|northeast| 38|\n",
            "|southeast| 21|\n",
            "|southeast| 46|\n",
            "|southeast| 49|\n",
            "|southwest| 44|\n",
            "|southwest| 40|\n",
            "|northeast| 18|\n",
            "|northeast| 61|\n",
            "|northwest| 59|\n",
            "|southwest| 22|\n",
            "|southwest| 56|\n",
            "|southwest| 46|\n",
            "|northwest| 36|\n",
            "|southwest| 60|\n",
            "|southeast| 57|\n",
            "|southwest| 48|\n",
            "+---------+---+\n",
            "only showing top 20 rows\n",
            "\n"
          ]
        }
      ]
    },
    {
      "cell_type": "code",
      "source": [
        "df.orderBy('age', ascending = False).show()"
      ],
      "metadata": {
        "colab": {
          "base_uri": "https://localhost:8080/"
        },
        "id": "GNgDCxEeszab",
        "outputId": "ee38a445-c27e-490f-8e5f-6a6a2ebf99b1"
      },
      "execution_count": 65,
      "outputs": [
        {
          "output_type": "stream",
          "name": "stdout",
          "text": [
            "+---+------+------+--------+------+---------+-----------+----------+----------------+\n",
            "|age|   sex|   bmi|children|smoker|   region|    charges|first_name|     Region||BMI|\n",
            "+---+------+------+--------+------+---------+-----------+----------+----------------+\n",
            "| 64|  male|  24.7|       1|    no|northwest|30166.61817|       new|  northwest 24.7|\n",
            "| 64|female|  31.3|       2|   yes|southwest|  47291.055|       new|  southwest 31.3|\n",
            "| 64|female| 39.33|       0|    no|northeast| 14901.5167|       new| northeast 39.33|\n",
            "| 64|female|  33.8|       1|   yes|southwest|   47928.03|       new|  southwest 33.8|\n",
            "| 64|  male|  34.5|       0|    no|southwest|  13822.803|       new|  southwest 34.5|\n",
            "| 64|female|30.115|       3|    no|northwest|16455.70785|       new|northwest 30.115|\n",
            "| 64|  male|  25.6|       2|    no|southwest|  14988.432|       new|  southwest 25.6|\n",
            "| 64|female|32.965|       0|    no|northwest|14692.66935|       new|northwest 32.965|\n",
            "| 64|  male| 39.16|       1|    no|southeast| 14418.2804|       new| southeast 39.16|\n",
            "| 64|  male| 33.88|       0|   yes|southeast| 46889.2612|       new| southeast 33.88|\n",
            "| 64|  male| 40.48|       0|    no|southeast| 13831.1152|       new| southeast 40.48|\n",
            "| 64|female| 39.05|       3|    no|southeast| 16085.1275|       new| southeast 39.05|\n",
            "| 64|  male| 38.19|       0|    no|northeast| 14410.9321|       new| northeast 38.19|\n",
            "| 64|female| 22.99|       0|   yes|southeast| 27037.9141|       new| southeast 22.99|\n",
            "| 64|  male|37.905|       0|    no|northwest|14210.53595|       new|northwest 37.905|\n",
            "| 64|female|  39.7|       0|    no|southwest|  14319.031|       new|  southwest 39.7|\n",
            "| 64|female| 35.97|       0|    no|southeast| 14313.8463|       new| southeast 35.97|\n",
            "| 64|female|31.825|       2|    no|northeast|16069.08475|       new|northeast 31.825|\n",
            "| 64|female|26.885|       0|   yes|northwest|29330.98315|       new|northwest 26.885|\n",
            "| 64|  male| 26.41|       0|    no|northeast| 14394.5579|       new| northeast 26.41|\n",
            "+---+------+------+--------+------+---------+-----------+----------+----------------+\n",
            "only showing top 20 rows\n",
            "\n"
          ]
        }
      ]
    },
    {
      "cell_type": "code",
      "source": [
        "df.groupBy('sex').count().orderBy('sex', ascending = False).show()"
      ],
      "metadata": {
        "colab": {
          "base_uri": "https://localhost:8080/"
        },
        "id": "cmmr6JJus4GU",
        "outputId": "9503f3dc-8d46-4181-fcf0-4ced1e6d5e06"
      },
      "execution_count": 67,
      "outputs": [
        {
          "output_type": "stream",
          "name": "stdout",
          "text": [
            "+------+-----+\n",
            "|   sex|count|\n",
            "+------+-----+\n",
            "|  male|  676|\n",
            "|female|  662|\n",
            "+------+-----+\n",
            "\n"
          ]
        }
      ]
    },
    {
      "cell_type": "code",
      "source": [
        "df1=spark.createDataFrame([[1,2,3,5]], ['c0','c1','c2','c4'])\n",
        "df2=spark.createDataFrame([[5,9,3,0]], ['c0','c1','c2','c4'])\n",
        "df1.union(df2).show()"
      ],
      "metadata": {
        "colab": {
          "base_uri": "https://localhost:8080/"
        },
        "id": "8CUBDMYxtD9r",
        "outputId": "4c325f30-90ad-4eb5-dec2-01c008398e4f"
      },
      "execution_count": 68,
      "outputs": [
        {
          "output_type": "stream",
          "name": "stdout",
          "text": [
            "+---+---+---+---+\n",
            "| c0| c1| c2| c4|\n",
            "+---+---+---+---+\n",
            "|  1|  2|  3|  5|\n",
            "|  5|  9|  3|  0|\n",
            "+---+---+---+---+\n",
            "\n"
          ]
        }
      ]
    },
    {
      "cell_type": "code",
      "source": [
        "df1 = spark.createDataFrame([[1,2,3]],['c0','c1','c2'])\n",
        "df2 = spark.createDataFrame([[4,5,6]],['c0','c1','c2'])\n",
        "df2.unionByName(df1).show()"
      ],
      "metadata": {
        "colab": {
          "base_uri": "https://localhost:8080/"
        },
        "id": "yKbkKJj1tP9r",
        "outputId": "76439417-52f0-4e72-8635-105db539e14a"
      },
      "execution_count": 69,
      "outputs": [
        {
          "output_type": "stream",
          "name": "stdout",
          "text": [
            "+---+---+---+\n",
            "| c0| c1| c2|\n",
            "+---+---+---+\n",
            "|  4|  5|  6|\n",
            "|  1|  2|  3|\n",
            "+---+---+---+\n",
            "\n"
          ]
        }
      ]
    }
  ]
}