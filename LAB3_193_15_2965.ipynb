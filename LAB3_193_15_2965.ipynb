{
  "nbformat": 4,
  "nbformat_minor": 0,
  "metadata": {
    "colab": {
      "provenance": []
    },
    "kernelspec": {
      "name": "python3",
      "display_name": "Python 3"
    },
    "language_info": {
      "name": "python"
    }
  },
  "cells": [
    {
      "cell_type": "code",
      "execution_count": 1,
      "metadata": {
        "colab": {
          "base_uri": "https://localhost:8080/"
        },
        "id": "RxNRGgUI_0VM",
        "outputId": "55c6dc51-e9e5-461b-ad2b-55b24f3892e2"
      },
      "outputs": [
        {
          "output_type": "stream",
          "name": "stdout",
          "text": [
            "\r0% [Working]\r            \rGet:1 http://security.ubuntu.com/ubuntu bionic-security InRelease [88.7 kB]\n",
            "\r0% [Waiting for headers] [1 InRelease 14.2 kB/88.7 kB 16%] [Connected to cloud.\r                                                                               \rHit:2 http://archive.ubuntu.com/ubuntu bionic InRelease\n",
            "\r0% [1 InRelease 80.8 kB/88.7 kB 91%] [Connected to cloud.r-project.org (18.67.6\r                                                                               \rGet:3 http://archive.ubuntu.com/ubuntu bionic-updates InRelease [88.7 kB]\n",
            "\r                                                                               \rGet:4 https://cloud.r-project.org/bin/linux/ubuntu bionic-cran40/ InRelease [3,626 B]\n",
            "Get:5 http://archive.ubuntu.com/ubuntu bionic-backports InRelease [74.6 kB]\n",
            "Hit:6 http://ppa.launchpad.net/c2d4u.team/c2d4u4.0+/ubuntu bionic InRelease\n",
            "Hit:7 http://ppa.launchpad.net/cran/libgit2/ubuntu bionic InRelease\n",
            "Ign:8 https://developer.download.nvidia.com/compute/machine-learning/repos/ubuntu1804/x86_64  InRelease\n",
            "Hit:9 https://developer.download.nvidia.com/compute/cuda/repos/ubuntu1804/x86_64  InRelease\n",
            "Hit:10 https://developer.download.nvidia.com/compute/machine-learning/repos/ubuntu1804/x86_64  Release\n",
            "Hit:11 http://ppa.launchpad.net/deadsnakes/ppa/ubuntu bionic InRelease\n",
            "Hit:12 http://ppa.launchpad.net/graphics-drivers/ppa/ubuntu bionic InRelease\n",
            "Get:13 http://security.ubuntu.com/ubuntu bionic-security/main amd64 Packages [2,965 kB]\n",
            "Get:14 http://security.ubuntu.com/ubuntu bionic-security/universe amd64 Packages [1,540 kB]\n",
            "Get:15 http://archive.ubuntu.com/ubuntu bionic-updates/main amd64 Packages [3,397 kB]\n",
            "Get:16 http://archive.ubuntu.com/ubuntu bionic-updates/universe amd64 Packages [2,318 kB]\n",
            "Fetched 10.5 MB in 3s (3,828 kB/s)\n",
            "Reading package lists... Done\n",
            "Downloading...\n",
            "From: https://drive.google.com/uc?id=1HFIClmLVILw851oU3n-hAz3zXkcMZK-I\n",
            "To: /content/spark-3.1.2-bin-hadoop3.2_by_yk.tgz\n",
            "100% 229M/229M [00:03<00:00, 57.9MB/s]\n"
          ]
        }
      ],
      "source": [
        "!apt-get update\n",
        "!apt-get install openjdk-8-jdk-headless -qq > /dev/null\n",
        "!pip install -q gdown && gdown --fuzzy https://drive.google.com/file/d/1HFIClmLVILw851oU3n-hAz3zXkcMZK-I/view      \n",
        "!tar xf spark-3.1.2-bin-hadoop3.2_by_yk.tgz    \n",
        "!pip install -q findspark"
      ]
    },
    {
      "cell_type": "code",
      "source": [
        "import os\n",
        "os.environ[\"JAVA_HOME\"] = \"/usr/lib/jvm/java-8-openjdk-amd64\"\n",
        "os.environ[\"SPARK_HOME\"] = \"/content/spark-3.1.2-bin-hadoop3.2\""
      ],
      "metadata": {
        "id": "XguRM30oAVoP"
      },
      "execution_count": 2,
      "outputs": []
    },
    {
      "cell_type": "code",
      "source": [
        "import findspark\n",
        "findspark.init()\n",
        "from pyspark.sql import SparkSession\n",
        "spark = SparkSession.builder.master(\"local[1]\").appName(\"RDD\").getOrCreate()\n",
        "spark"
      ],
      "metadata": {
        "colab": {
          "base_uri": "https://localhost:8080/",
          "height": 219
        },
        "id": "4o8gXwkjAYof",
        "outputId": "b5331a8a-cbfc-41a0-be90-9cbae790ed61"
      },
      "execution_count": 3,
      "outputs": [
        {
          "output_type": "execute_result",
          "data": {
            "text/plain": [
              "<pyspark.sql.session.SparkSession at 0x7fa4641c61d0>"
            ],
            "text/html": [
              "\n",
              "            <div>\n",
              "                <p><b>SparkSession - in-memory</b></p>\n",
              "                \n",
              "        <div>\n",
              "            <p><b>SparkContext</b></p>\n",
              "\n",
              "            <p><a href=\"http://202c475ffadc:4040\">Spark UI</a></p>\n",
              "\n",
              "            <dl>\n",
              "              <dt>Version</dt>\n",
              "                <dd><code>v3.1.2</code></dd>\n",
              "              <dt>Master</dt>\n",
              "                <dd><code>local[1]</code></dd>\n",
              "              <dt>AppName</dt>\n",
              "                <dd><code>RDD</code></dd>\n",
              "            </dl>\n",
              "        </div>\n",
              "        \n",
              "            </div>\n",
              "        "
            ]
          },
          "metadata": {},
          "execution_count": 3
        }
      ]
    },
    {
      "cell_type": "code",
      "source": [
        "rdd = spark.sparkContext.textFile(\"/content/text.txt\")\n",
        "rdd.collect()"
      ],
      "metadata": {
        "colab": {
          "base_uri": "https://localhost:8080/"
        },
        "id": "-leVBv5yAZ23",
        "outputId": "4bd61e1c-556e-41ce-fcde-f38fdaca323f"
      },
      "execution_count": 4,
      "outputs": [
        {
          "output_type": "execute_result",
          "data": {
            "text/plain": [
              "['Bangladesh, country of South Asia, located in the delta of the Padma (Ganges [Ganga]) and Jamuna (Brahmaputra) rivers in the northeastern part of the Indian subcontinent.',\n",
              " 'The riverine country of Bangladesh (“Land of the Bengals”) is one of the most densely populated countries in the world, and its people are predominantly Muslim. As the eastern portion of the historical region of Bengal, the area once formed, along with what is now the Indian state of West Bengal, the province of Bengal in British India. With the partition of India in 1947, it became the Pakistani province of East Bengal (later renamed East Pakistan), one of five provinces of Pakistan, separated from the other four by 1,100 miles (1,800 km) of Indian territory. In 1971 it became the independent country of Bangladesh, with its capital at Dhaka.Bangladesh is bordered by the Indian states of West Bengal to the west and north, Assam to the north, Meghalaya to the north and northeast, and Tripura and Mizoram to the east. To the southeast, it shares a boundary with Myanmar (Burma). The southern part of Bangladesh opens into the Bay of Bengal.',\n",
              " 'Stretching northward from the Bay of Bengal, Bangladesh constitutes roughly the eastern two-thirds of the deltaic plain of the Padma (Ganges [Ganga]) and Jamuna (Brahmaputra) rivers. Except for small higher areas of jungle-covered old alluvium (rising to about 100 feet [30 metres]) in the northwest and north-centre—in the Barind and the Madhupur Tract, respectively—the plain is a flat surface of recent alluvium, having a gentle slope and an elevation of generally less than 30 feet (9 metres) above sea level. In the northeast and southeast—in the Sylhet and Chittagong Hills areas, respectively—the alluvial plains give place to ridges, running mainly north-south, that form part of the mountains that separate Bangladesh from Myanmar and India. In its southern region, Bangladesh is fringed by the Sundarbans, a huge expanse of marshy deltaic forest . The Barind is a somewhat elevated triangular wedge of land that lies between the floodplains of the upper Padma and Jamuna rivers in northwestern Bangladesh. A depression called the Bhar Basin extends southeast from the Barind for about 100 miles (160 km) to the confluence of the Padma and Jamuna. This area is inundated during the summer monsoon season, in some places to a depth exceeding 10 feet (3 metres). The drainage of the western part of the basin is centred in the vast marshy area called the Chalan wetlands, also known as Chalan Lake. The floodplains of the Jamuna, which lie north of the Bhar Basin and east of the Barind, stretch from the border with Assam in the north to the confluence of the Padma and Jamuna in the south. The area is dominated by the Jamuna, which frequently overflows its banks in devastating floods. South of the Bhar Basin is the floodplain of the lower Padma.',\n",
              " '']"
            ]
          },
          "metadata": {},
          "execution_count": 4
        }
      ]
    },
    {
      "cell_type": "code",
      "source": [
        "rdd2 = rdd.flatMap(lambda x: x.split(\" \"))\n",
        "rdd2.take(24)"
      ],
      "metadata": {
        "colab": {
          "base_uri": "https://localhost:8080/"
        },
        "id": "MVDt09YRBhCv",
        "outputId": "2266349c-26f8-489e-cf97-3d4e6eb69a5d"
      },
      "execution_count": 5,
      "outputs": [
        {
          "output_type": "execute_result",
          "data": {
            "text/plain": [
              "['Bangladesh,',\n",
              " 'country',\n",
              " 'of',\n",
              " 'South',\n",
              " 'Asia,',\n",
              " 'located',\n",
              " 'in',\n",
              " 'the',\n",
              " 'delta',\n",
              " 'of',\n",
              " 'the',\n",
              " 'Padma',\n",
              " '(Ganges',\n",
              " '[Ganga])',\n",
              " 'and',\n",
              " 'Jamuna',\n",
              " '(Brahmaputra)',\n",
              " 'rivers',\n",
              " 'in',\n",
              " 'the',\n",
              " 'northeastern',\n",
              " 'part',\n",
              " 'of',\n",
              " 'the']"
            ]
          },
          "metadata": {},
          "execution_count": 5
        }
      ]
    },
    {
      "cell_type": "code",
      "source": [
        "rdd3 = rdd2.map(lambda x: (x,1))\n",
        "rdd3.take(8)"
      ],
      "metadata": {
        "colab": {
          "base_uri": "https://localhost:8080/"
        },
        "id": "fXclWp8_BkHX",
        "outputId": "b54f394b-8c50-4864-f838-530f2bbbf755"
      },
      "execution_count": 6,
      "outputs": [
        {
          "output_type": "execute_result",
          "data": {
            "text/plain": [
              "[('Bangladesh,', 1),\n",
              " ('country', 1),\n",
              " ('of', 1),\n",
              " ('South', 1),\n",
              " ('Asia,', 1),\n",
              " ('located', 1),\n",
              " ('in', 1),\n",
              " ('the', 1)]"
            ]
          },
          "metadata": {},
          "execution_count": 6
        }
      ]
    },
    {
      "cell_type": "code",
      "source": [
        "rdd4 = rdd3.reduceByKey(lambda a,b:a+b)\n",
        "rdd4.take(8)"
      ],
      "metadata": {
        "colab": {
          "base_uri": "https://localhost:8080/"
        },
        "id": "9tVTx4JdBm6v",
        "outputId": "502f7ea8-43d6-46ca-fefb-4be6cf08e4e0"
      },
      "execution_count": 7,
      "outputs": [
        {
          "output_type": "execute_result",
          "data": {
            "text/plain": [
              "[('Bangladesh,', 2),\n",
              " ('country', 3),\n",
              " ('of', 38),\n",
              " ('South', 2),\n",
              " ('Asia,', 1),\n",
              " ('located', 1),\n",
              " ('in', 12),\n",
              " ('the', 57)]"
            ]
          },
          "metadata": {},
          "execution_count": 7
        }
      ]
    },
    {
      "cell_type": "code",
      "source": [
        "rdd5 = rdd4.map(lambda x: (x[0], x[1])).sortByKey()\n",
        "rdd5.take(8)"
      ],
      "metadata": {
        "colab": {
          "base_uri": "https://localhost:8080/"
        },
        "id": "SGEa4U3PBq5Y",
        "outputId": "17f34fe7-3df5-4c9d-8024-50773b3ef6fd"
      },
      "execution_count": 8,
      "outputs": [
        {
          "output_type": "execute_result",
          "data": {
            "text/plain": [
              "[('', 1),\n",
              " ('(1,800', 1),\n",
              " ('(160', 1),\n",
              " ('(3', 1),\n",
              " ('(9', 1),\n",
              " ('(Brahmaputra)', 2),\n",
              " ('(Burma).', 1),\n",
              " ('(Ganges', 2)]"
            ]
          },
          "metadata": {},
          "execution_count": 8
        }
      ]
    },
    {
      "cell_type": "code",
      "source": [
        "#id: 193-15-2965\n",
        "rdd6 = rdd5.repartition(5) \n",
        "print(\"Number of Partitions: \"+ str(rdd6.getNumPartitions()))"
      ],
      "metadata": {
        "colab": {
          "base_uri": "https://localhost:8080/"
        },
        "id": "tAfEdYl4Bv_4",
        "outputId": "a14bdc67-4040-42f2-b584-2052a93f56dc"
      },
      "execution_count": 9,
      "outputs": [
        {
          "output_type": "stream",
          "name": "stdout",
          "text": [
            "Number of Partitions: 5\n"
          ]
        }
      ]
    },
    {
      "cell_type": "code",
      "source": [
        "rdd6.saveAsTextFile(\"/content/Bangladesh\")"
      ],
      "metadata": {
        "id": "p6sEdvAPB28Q"
      },
      "execution_count": 15,
      "outputs": []
    }
  ]
}